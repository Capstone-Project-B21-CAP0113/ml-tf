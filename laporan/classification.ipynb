{
 "metadata": {
  "orig_nbformat": 2,
  "kernelspec": {
   "name": "python395jvsc74a57bd0ac59ebe37160ed0dfa835113d9b8498d9f09ceb179beaac4002f036b9467c963",
   "display_name": "Python 3.9.5 64-bit"
  },
  "metadata": {
   "interpreter": {
    "hash": "ac59ebe37160ed0dfa835113d9b8498d9f09ceb179beaac4002f036b9467c963"
   }
  }
 },
 "nbformat": 4,
 "nbformat_minor": 2,
 "cells": [
  {
   "source": [
    "# Text Classification Notebook"
   ],
   "cell_type": "markdown",
   "metadata": {}
  },
  {
   "source": [
    "!pip install --upgrade pip\n",
    "!pip install tensorflow\n",
    "!pip install pandas\n",
    "!pip install numpy\n",
    "!pip install PySastrawi\n",
    "!pip install sklearn"
   ],
   "cell_type": "code",
   "metadata": {},
   "execution_count": 2,
   "outputs": [
    {
     "output_type": "stream",
     "name": "stdout",
     "text": [
      "Defaulting to user installation because normal site-packages is not writeable\n",
      "WARNING: You are using pip version 21.1.1; however, version 21.1.2 is available.\n",
      "You should consider upgrading via the 'c:\\program files\\python39\\python.exe -m pip install --upgrade pip' command.\n",
      "Requirement already satisfied: pip in c:\\program files\\python39\\lib\\site-packages (21.1.1)\n",
      "Collecting pip\n",
      "  Downloading pip-21.1.2-py3-none-any.whl (1.5 MB)\n",
      "Installing collected packages: pip\n",
      "Successfully installed pip-21.1.2\n",
      "Defaulting to user installation because normal site-packages is not writeable\n",
      "Requirement already satisfied: tensorflow in c:\\users\\mrap\\appdata\\roaming\\python\\python39\\site-packages (2.5.0)\n",
      "Requirement already satisfied: six~=1.15.0 in c:\\users\\mrap\\appdata\\roaming\\python\\python39\\site-packages (from tensorflow) (1.15.0)\n",
      "Requirement already satisfied: absl-py~=0.10 in c:\\users\\mrap\\appdata\\roaming\\python\\python39\\site-packages (from tensorflow) (0.12.0)\n",
      "Requirement already satisfied: numpy~=1.19.2 in c:\\users\\mrap\\appdata\\roaming\\python\\python39\\site-packages (from tensorflow) (1.19.5)\n",
      "Requirement already satisfied: flatbuffers~=1.12.0 in c:\\users\\mrap\\appdata\\roaming\\python\\python39\\site-packages (from tensorflow) (1.12)\n",
      "Requirement already satisfied: opt-einsum~=3.3.0 in c:\\users\\mrap\\appdata\\roaming\\python\\python39\\site-packages (from tensorflow) (3.3.0)\n",
      "Requirement already satisfied: protobuf>=3.9.2 in c:\\users\\mrap\\appdata\\roaming\\python\\python39\\site-packages (from tensorflow) (3.17.0)\n",
      "Requirement already satisfied: wheel~=0.35 in c:\\users\\mrap\\appdata\\roaming\\python\\python39\\site-packages (from tensorflow) (0.36.2)\n",
      "Requirement already satisfied: termcolor~=1.1.0 in c:\\users\\mrap\\appdata\\roaming\\python\\python39\\site-packages (from tensorflow) (1.1.0)\n",
      "Requirement already satisfied: keras-nightly~=2.5.0.dev in c:\\users\\mrap\\appdata\\roaming\\python\\python39\\site-packages (from tensorflow) (2.5.0.dev2021032900)\n",
      "Requirement already satisfied: h5py~=3.1.0 in c:\\users\\mrap\\appdata\\roaming\\python\\python39\\site-packages (from tensorflow) (3.1.0)\n",
      "Requirement already satisfied: google-pasta~=0.2 in c:\\users\\mrap\\appdata\\roaming\\python\\python39\\site-packages (from tensorflow) (0.2.0)\n",
      "Requirement already satisfied: gast==0.4.0 in c:\\users\\mrap\\appdata\\roaming\\python\\python39\\site-packages (from tensorflow) (0.4.0)\n",
      "Requirement already satisfied: tensorflow-estimator<2.6.0,>=2.5.0rc0 in c:\\users\\mrap\\appdata\\roaming\\python\\python39\\site-packages (from tensorflow) (2.5.0)\n",
      "Requirement already satisfied: astunparse~=1.6.3 in c:\\users\\mrap\\appdata\\roaming\\python\\python39\\site-packages (from tensorflow) (1.6.3)\n",
      "Requirement already satisfied: wrapt~=1.12.1 in c:\\users\\mrap\\appdata\\roaming\\python\\python39\\site-packages (from tensorflow) (1.12.1)\n",
      "Requirement already satisfied: keras-preprocessing~=1.1.2 in c:\\users\\mrap\\appdata\\roaming\\python\\python39\\site-packages (from tensorflow) (1.1.2)\n",
      "Requirement already satisfied: tensorboard~=2.5 in c:\\users\\mrap\\appdata\\roaming\\python\\python39\\site-packages (from tensorflow) (2.5.0)\n",
      "Requirement already satisfied: grpcio~=1.34.0 in c:\\users\\mrap\\appdata\\roaming\\python\\python39\\site-packages (from tensorflow) (1.34.1)\n",
      "Requirement already satisfied: typing-extensions~=3.7.4 in c:\\users\\mrap\\appdata\\roaming\\python\\python39\\site-packages (from tensorflow) (3.7.4.3)\n",
      "Requirement already satisfied: werkzeug>=0.11.15 in c:\\users\\mrap\\appdata\\roaming\\python\\python39\\site-packages (from tensorboard~=2.5->tensorflow) (2.0.1)\n",
      "Requirement already satisfied: google-auth-oauthlib<0.5,>=0.4.1 in c:\\users\\mrap\\appdata\\roaming\\python\\python39\\site-packages (from tensorboard~=2.5->tensorflow) (0.4.4)\n",
      "Requirement already satisfied: requests<3,>=2.21.0 in c:\\users\\mrap\\appdata\\roaming\\python\\python39\\site-packages (from tensorboard~=2.5->tensorflow) (2.25.1)\n",
      "Requirement already satisfied: setuptools>=41.0.0 in c:\\program files\\python39\\lib\\site-packages (from tensorboard~=2.5->tensorflow) (56.0.0)\n",
      "Requirement already satisfied: markdown>=2.6.8 in c:\\users\\mrap\\appdata\\roaming\\python\\python39\\site-packages (from tensorboard~=2.5->tensorflow) (3.3.4)\n",
      "Requirement already satisfied: tensorboard-plugin-wit>=1.6.0 in c:\\users\\mrap\\appdata\\roaming\\python\\python39\\site-packages (from tensorboard~=2.5->tensorflow) (1.8.0)\n",
      "Requirement already satisfied: tensorboard-data-server<0.7.0,>=0.6.0 in c:\\users\\mrap\\appdata\\roaming\\python\\python39\\site-packages (from tensorboard~=2.5->tensorflow) (0.6.1)\n",
      "Requirement already satisfied: google-auth<2,>=1.6.3 in c:\\users\\mrap\\appdata\\roaming\\python\\python39\\site-packages (from tensorboard~=2.5->tensorflow) (1.30.0)\n",
      "Requirement already satisfied: pyasn1-modules>=0.2.1 in c:\\users\\mrap\\appdata\\roaming\\python\\python39\\site-packages (from google-auth<2,>=1.6.3->tensorboard~=2.5->tensorflow) (0.2.8)\n",
      "Requirement already satisfied: cachetools<5.0,>=2.0.0 in c:\\users\\mrap\\appdata\\roaming\\python\\python39\\site-packages (from google-auth<2,>=1.6.3->tensorboard~=2.5->tensorflow) (4.2.2)\n",
      "Requirement already satisfied: rsa<5,>=3.1.4 in c:\\users\\mrap\\appdata\\roaming\\python\\python39\\site-packages (from google-auth<2,>=1.6.3->tensorboard~=2.5->tensorflow) (4.7.2)\n",
      "Requirement already satisfied: requests-oauthlib>=0.7.0 in c:\\users\\mrap\\appdata\\roaming\\python\\python39\\site-packages (from google-auth-oauthlib<0.5,>=0.4.1->tensorboard~=2.5->tensorflow) (1.3.0)\n",
      "Requirement already satisfied: pyasn1<0.5.0,>=0.4.6 in c:\\users\\mrap\\appdata\\roaming\\python\\python39\\site-packages (from pyasn1-modules>=0.2.1->google-auth<2,>=1.6.3->tensorboard~=2.5->tensorflow) (0.4.8)\n",
      "Requirement already satisfied: urllib3<1.27,>=1.21.1 in c:\\users\\mrap\\appdata\\roaming\\python\\python39\\site-packages (from requests<3,>=2.21.0->tensorboard~=2.5->tensorflow) (1.26.4)\n",
      "Requirement already satisfied: certifi>=2017.4.17 in c:\\users\\mrap\\appdata\\roaming\\python\\python39\\site-packages (from requests<3,>=2.21.0->tensorboard~=2.5->tensorflow) (2020.12.5)\n",
      "Requirement already satisfied: chardet<5,>=3.0.2 in c:\\users\\mrap\\appdata\\roaming\\python\\python39\\site-packages (from requests<3,>=2.21.0->tensorboard~=2.5->tensorflow) (4.0.0)\n",
      "Requirement already satisfied: idna<3,>=2.5 in c:\\users\\mrap\\appdata\\roaming\\python\\python39\\site-packages (from requests<3,>=2.21.0->tensorboard~=2.5->tensorflow) (2.10)\n",
      "Requirement already satisfied: oauthlib>=3.0.0 in c:\\users\\mrap\\appdata\\roaming\\python\\python39\\site-packages (from requests-oauthlib>=0.7.0->google-auth-oauthlib<0.5,>=0.4.1->tensorboard~=2.5->tensorflow) (3.1.0)\n",
      "Defaulting to user installation because normal site-packages is not writeable\n",
      "Requirement already satisfied: pandas in c:\\users\\mrap\\appdata\\roaming\\python\\python39\\site-packages (1.2.4)\n",
      "Requirement already satisfied: pytz>=2017.3 in c:\\users\\mrap\\appdata\\roaming\\python\\python39\\site-packages (from pandas) (2021.1)\n",
      "Requirement already satisfied: python-dateutil>=2.7.3 in c:\\users\\mrap\\appdata\\roaming\\python\\python39\\site-packages (from pandas) (2.8.1)\n",
      "Requirement already satisfied: numpy>=1.16.5 in c:\\users\\mrap\\appdata\\roaming\\python\\python39\\site-packages (from pandas) (1.19.5)\n",
      "Requirement already satisfied: six>=1.5 in c:\\users\\mrap\\appdata\\roaming\\python\\python39\\site-packages (from python-dateutil>=2.7.3->pandas) (1.15.0)\n",
      "Defaulting to user installation because normal site-packages is not writeable\n",
      "Requirement already satisfied: numpy in c:\\users\\mrap\\appdata\\roaming\\python\\python39\\site-packages (1.19.5)\n",
      "Defaulting to user installation because normal site-packages is not writeable\n",
      "Requirement already satisfied: PySastrawi in c:\\users\\mrap\\appdata\\roaming\\python\\python39\\site-packages (1.2.0)\n",
      "Defaulting to user installation because normal site-packages is not writeable\n",
      "Requirement already satisfied: sklearn in c:\\users\\mrap\\appdata\\roaming\\python\\python39\\site-packages (0.0)\n",
      "Requirement already satisfied: scikit-learn in c:\\users\\mrap\\appdata\\roaming\\python\\python39\\site-packages (from sklearn) (0.24.2)\n",
      "Requirement already satisfied: joblib>=0.11 in c:\\users\\mrap\\appdata\\roaming\\python\\python39\\site-packages (from scikit-learn->sklearn) (1.0.1)\n",
      "Requirement already satisfied: scipy>=0.19.1 in c:\\users\\mrap\\appdata\\roaming\\python\\python39\\site-packages (from scikit-learn->sklearn) (1.6.3)\n",
      "Requirement already satisfied: numpy>=1.13.3 in c:\\users\\mrap\\appdata\\roaming\\python\\python39\\site-packages (from scikit-learn->sklearn) (1.19.5)\n",
      "Requirement already satisfied: threadpoolctl>=2.0.0 in c:\\users\\mrap\\appdata\\roaming\\python\\python39\\site-packages (from scikit-learn->sklearn) (2.1.0)\n"
     ]
    }
   ]
  },
  {
   "cell_type": "code",
   "execution_count": 3,
   "metadata": {},
   "outputs": [],
   "source": [
    "# Machine Learning related imports\n",
    "import tensorflow as tf\n",
    "\n",
    "from tensorflow.keras.preprocessing.text import Tokenizer\n",
    "from tensorflow.keras.preprocessing.sequence import pad_sequences\n",
    "from tensorflow.keras.layers import Input"
   ]
  },
  {
   "cell_type": "code",
   "execution_count": 4,
   "metadata": {},
   "outputs": [],
   "source": [
    "# Dataset and generic imports\n",
    "import pandas as pd\n",
    "import numpy as np\n",
    "import sklearn\n",
    "import os\n",
    "import string\n",
    "\n",
    "from Sastrawi.Stemmer.StemmerFactory import StemmerFactory\n",
    "from Sastrawi.StopWordRemover.StopWordRemoverFactory import StopWordRemoverFactory"
   ]
  },
  {
   "cell_type": "code",
   "execution_count": 5,
   "metadata": {},
   "outputs": [
    {
     "output_type": "stream",
     "name": "stdout",
     "text": [
      "(2852, 27)\n"
     ]
    },
    {
     "output_type": "execute_result",
     "data": {
      "text/plain": [
       "                                                text  perselisihan  \\\n",
       "0  mohon bantuannya untuk menormalkan sistem di l...             0   \n",
       "1  ass pak gubsaya perangkat desa karangsari kec ...             1   \n",
       "2  selamat sore bapak gubernur atau yang mewakili...             0   \n",
       "3  assalamualaikum pak gub saya pengurus paguyuba...             0   \n",
       "4  lapor saya okada arle sandi email  okadaarlegm...             0   \n",
       "\n",
       "   infrastruktur  pemerintah  kesehatan  teknologi  administrasi  fasilitas  \\\n",
       "0              0           0          0          1             0          0   \n",
       "1              0           0          0          0             0          0   \n",
       "2              1           0          0          0             0          0   \n",
       "3              0           1          0          0             0          0   \n",
       "4              0           0          1          0             0          0   \n",
       "\n",
       "   lingkungan  ketertiban  ...  air  pendidikan  kebersihan  sosial  wisata  \\\n",
       "0           0           0  ...    0           0           0       0       0   \n",
       "1           0           0  ...    0           0           0       0       0   \n",
       "2           0           0  ...    0           0           0       0       0   \n",
       "3           0           0  ...    0           0           0       0       0   \n",
       "4           0           0  ...    0           0           0       0       0   \n",
       "\n",
       "   sara  pencurian  korupsi  bbm  keuangan  \n",
       "0     0          0        0    0         0  \n",
       "1     0          0        0    0         0  \n",
       "2     0          0        0    0         0  \n",
       "3     0          0        0    0         0  \n",
       "4     0          0        0    0         0  \n",
       "\n",
       "[5 rows x 27 columns]"
      ],
      "text/html": "<div>\n<style scoped>\n    .dataframe tbody tr th:only-of-type {\n        vertical-align: middle;\n    }\n\n    .dataframe tbody tr th {\n        vertical-align: top;\n    }\n\n    .dataframe thead th {\n        text-align: right;\n    }\n</style>\n<table border=\"1\" class=\"dataframe\">\n  <thead>\n    <tr style=\"text-align: right;\">\n      <th></th>\n      <th>text</th>\n      <th>perselisihan</th>\n      <th>infrastruktur</th>\n      <th>pemerintah</th>\n      <th>kesehatan</th>\n      <th>teknologi</th>\n      <th>administrasi</th>\n      <th>fasilitas</th>\n      <th>lingkungan</th>\n      <th>ketertiban</th>\n      <th>...</th>\n      <th>air</th>\n      <th>pendidikan</th>\n      <th>kebersihan</th>\n      <th>sosial</th>\n      <th>wisata</th>\n      <th>sara</th>\n      <th>pencurian</th>\n      <th>korupsi</th>\n      <th>bbm</th>\n      <th>keuangan</th>\n    </tr>\n  </thead>\n  <tbody>\n    <tr>\n      <th>0</th>\n      <td>mohon bantuannya untuk menormalkan sistem di l...</td>\n      <td>0</td>\n      <td>0</td>\n      <td>0</td>\n      <td>0</td>\n      <td>1</td>\n      <td>0</td>\n      <td>0</td>\n      <td>0</td>\n      <td>0</td>\n      <td>...</td>\n      <td>0</td>\n      <td>0</td>\n      <td>0</td>\n      <td>0</td>\n      <td>0</td>\n      <td>0</td>\n      <td>0</td>\n      <td>0</td>\n      <td>0</td>\n      <td>0</td>\n    </tr>\n    <tr>\n      <th>1</th>\n      <td>ass pak gubsaya perangkat desa karangsari kec ...</td>\n      <td>1</td>\n      <td>0</td>\n      <td>0</td>\n      <td>0</td>\n      <td>0</td>\n      <td>0</td>\n      <td>0</td>\n      <td>0</td>\n      <td>0</td>\n      <td>...</td>\n      <td>0</td>\n      <td>0</td>\n      <td>0</td>\n      <td>0</td>\n      <td>0</td>\n      <td>0</td>\n      <td>0</td>\n      <td>0</td>\n      <td>0</td>\n      <td>0</td>\n    </tr>\n    <tr>\n      <th>2</th>\n      <td>selamat sore bapak gubernur atau yang mewakili...</td>\n      <td>0</td>\n      <td>1</td>\n      <td>0</td>\n      <td>0</td>\n      <td>0</td>\n      <td>0</td>\n      <td>0</td>\n      <td>0</td>\n      <td>0</td>\n      <td>...</td>\n      <td>0</td>\n      <td>0</td>\n      <td>0</td>\n      <td>0</td>\n      <td>0</td>\n      <td>0</td>\n      <td>0</td>\n      <td>0</td>\n      <td>0</td>\n      <td>0</td>\n    </tr>\n    <tr>\n      <th>3</th>\n      <td>assalamualaikum pak gub saya pengurus paguyuba...</td>\n      <td>0</td>\n      <td>0</td>\n      <td>1</td>\n      <td>0</td>\n      <td>0</td>\n      <td>0</td>\n      <td>0</td>\n      <td>0</td>\n      <td>0</td>\n      <td>...</td>\n      <td>0</td>\n      <td>0</td>\n      <td>0</td>\n      <td>0</td>\n      <td>0</td>\n      <td>0</td>\n      <td>0</td>\n      <td>0</td>\n      <td>0</td>\n      <td>0</td>\n    </tr>\n    <tr>\n      <th>4</th>\n      <td>lapor saya okada arle sandi email  okadaarlegm...</td>\n      <td>0</td>\n      <td>0</td>\n      <td>0</td>\n      <td>1</td>\n      <td>0</td>\n      <td>0</td>\n      <td>0</td>\n      <td>0</td>\n      <td>0</td>\n      <td>...</td>\n      <td>0</td>\n      <td>0</td>\n      <td>0</td>\n      <td>0</td>\n      <td>0</td>\n      <td>0</td>\n      <td>0</td>\n      <td>0</td>\n      <td>0</td>\n      <td>0</td>\n    </tr>\n  </tbody>\n</table>\n<p>5 rows × 27 columns</p>\n</div>"
     },
     "metadata": {},
     "execution_count": 5
    }
   ],
   "source": [
    "# Load dataset\n",
    "filepath = os.getcwd()\n",
    "datasetpath =  os.path.join(filepath, \"cleaned_data\", \"laporanencoded.csv\")\n",
    "\n",
    "# Github URL for dataset when used in Google Colab\n",
    "github_url = \"https://raw.githubusercontent.com/Capstone-Project-B21-CAP0113/ml-tf/main/laporan/cleaned_data/laporanencoded.csv\"\n",
    "\n",
    "laporan = pd.read_csv(datasetpath, encoding=\"ISO-8859-1\")\n",
    "# Print dataset shape\n",
    "print(laporan.shape)\n",
    "# Print dataset head\n",
    "laporan.head()\n"
   ]
  },
  {
   "cell_type": "code",
   "execution_count": 6,
   "metadata": {},
   "outputs": [
    {
     "output_type": "stream",
     "name": "stdout",
     "text": [
      "perselisihan: 16\ninfrastruktur: 353\npemerintah: 68\nkesehatan: 80\nteknologi: 23\nadministrasi: 693\nfasilitas: 73\nlingkungan: 114\nketertiban: 87\nlistrik: 43\nbahaya: 22\nlainnya: 139\npungli: 106\nilegal: 47\nlalulintas: 42\nbencana: 58\nair: 85\npendidikan: 134\nkebersihan: 9\nsosial: 181\nwisata: 13\nsara: 7\npencurian: 6\nkorupsi: 39\nbbm: 1\nkeuangan: 82\n"
     ]
    }
   ],
   "source": [
    "# Split text and labels\n",
    "label_list = [\n",
    "    \"perselisihan\",\n",
    "    \"infrastruktur\",\n",
    "    \"pemerintah\",\n",
    "    \"kesehatan\",\n",
    "    \"teknologi\",\n",
    "    \"administrasi\",\n",
    "    \"fasilitas\",\n",
    "    \"lingkungan\",\n",
    "    \"ketertiban\",\n",
    "    \"listrik\",\n",
    "    \"bahaya\",\n",
    "    \"lainnya\",\n",
    "    \"pungli\",\n",
    "    \"ilegal\",\n",
    "    \"lalulintas\",\n",
    "    \"bencana\",\n",
    "    \"air\",\n",
    "    \"pendidikan\",\n",
    "    \"kebersihan\",\n",
    "    \"sosial\",\n",
    "    \"wisata\",\n",
    "    \"sara\",\n",
    "    \"pencurian\",\n",
    "    \"korupsi\",\n",
    "    \"bbm\",\n",
    "    \"keuangan\"\n",
    "] \n",
    "x = laporan[\"text\"]\n",
    "y = laporan[label_list]\n",
    "\n",
    "# Print number of element in each category ( one element can have many label since it's a multi label classification )\n",
    "for i in label_list:\n",
    "    print(\"{}: {}\".format(i, (laporan[i] == 1).sum()))"
   ]
  },
  {
   "cell_type": "code",
   "execution_count": 7,
   "metadata": {},
   "outputs": [
    {
     "output_type": "execute_result",
     "data": {
      "text/plain": [
       "0    mohon bantuannya untuk menormalkan sistem di l...\n",
       "1    ass pak gubsaya perangkat desa karangsari kec ...\n",
       "2    selamat sore bapak gubernur atau yang mewakili...\n",
       "3    assalamualaikum pak gub saya pengurus paguyuba...\n",
       "4    lapor saya okada arle sandi email  okadaarlegm...\n",
       "Name: text, dtype: object"
      ]
     },
     "metadata": {},
     "execution_count": 7
    }
   ],
   "source": [
    "# Text head\n",
    "x.head()"
   ]
  },
  {
   "cell_type": "code",
   "execution_count": 8,
   "metadata": {},
   "outputs": [
    {
     "output_type": "execute_result",
     "data": {
      "text/plain": [
       "   perselisihan  infrastruktur  pemerintah  kesehatan  teknologi  \\\n",
       "0             0              0           0          0          1   \n",
       "1             1              0           0          0          0   \n",
       "2             0              1           0          0          0   \n",
       "3             0              0           1          0          0   \n",
       "4             0              0           0          1          0   \n",
       "\n",
       "   administrasi  fasilitas  lingkungan  ketertiban  listrik  ...  air  \\\n",
       "0             0          0           0           0        0  ...    0   \n",
       "1             0          0           0           0        0  ...    0   \n",
       "2             0          0           0           0        0  ...    0   \n",
       "3             0          0           0           0        0  ...    0   \n",
       "4             0          0           0           0        0  ...    0   \n",
       "\n",
       "   pendidikan  kebersihan  sosial  wisata  sara  pencurian  korupsi  bbm  \\\n",
       "0           0           0       0       0     0          0        0    0   \n",
       "1           0           0       0       0     0          0        0    0   \n",
       "2           0           0       0       0     0          0        0    0   \n",
       "3           0           0       0       0     0          0        0    0   \n",
       "4           0           0       0       0     0          0        0    0   \n",
       "\n",
       "   keuangan  \n",
       "0         0  \n",
       "1         0  \n",
       "2         0  \n",
       "3         0  \n",
       "4         0  \n",
       "\n",
       "[5 rows x 26 columns]"
      ],
      "text/html": "<div>\n<style scoped>\n    .dataframe tbody tr th:only-of-type {\n        vertical-align: middle;\n    }\n\n    .dataframe tbody tr th {\n        vertical-align: top;\n    }\n\n    .dataframe thead th {\n        text-align: right;\n    }\n</style>\n<table border=\"1\" class=\"dataframe\">\n  <thead>\n    <tr style=\"text-align: right;\">\n      <th></th>\n      <th>perselisihan</th>\n      <th>infrastruktur</th>\n      <th>pemerintah</th>\n      <th>kesehatan</th>\n      <th>teknologi</th>\n      <th>administrasi</th>\n      <th>fasilitas</th>\n      <th>lingkungan</th>\n      <th>ketertiban</th>\n      <th>listrik</th>\n      <th>...</th>\n      <th>air</th>\n      <th>pendidikan</th>\n      <th>kebersihan</th>\n      <th>sosial</th>\n      <th>wisata</th>\n      <th>sara</th>\n      <th>pencurian</th>\n      <th>korupsi</th>\n      <th>bbm</th>\n      <th>keuangan</th>\n    </tr>\n  </thead>\n  <tbody>\n    <tr>\n      <th>0</th>\n      <td>0</td>\n      <td>0</td>\n      <td>0</td>\n      <td>0</td>\n      <td>1</td>\n      <td>0</td>\n      <td>0</td>\n      <td>0</td>\n      <td>0</td>\n      <td>0</td>\n      <td>...</td>\n      <td>0</td>\n      <td>0</td>\n      <td>0</td>\n      <td>0</td>\n      <td>0</td>\n      <td>0</td>\n      <td>0</td>\n      <td>0</td>\n      <td>0</td>\n      <td>0</td>\n    </tr>\n    <tr>\n      <th>1</th>\n      <td>1</td>\n      <td>0</td>\n      <td>0</td>\n      <td>0</td>\n      <td>0</td>\n      <td>0</td>\n      <td>0</td>\n      <td>0</td>\n      <td>0</td>\n      <td>0</td>\n      <td>...</td>\n      <td>0</td>\n      <td>0</td>\n      <td>0</td>\n      <td>0</td>\n      <td>0</td>\n      <td>0</td>\n      <td>0</td>\n      <td>0</td>\n      <td>0</td>\n      <td>0</td>\n    </tr>\n    <tr>\n      <th>2</th>\n      <td>0</td>\n      <td>1</td>\n      <td>0</td>\n      <td>0</td>\n      <td>0</td>\n      <td>0</td>\n      <td>0</td>\n      <td>0</td>\n      <td>0</td>\n      <td>0</td>\n      <td>...</td>\n      <td>0</td>\n      <td>0</td>\n      <td>0</td>\n      <td>0</td>\n      <td>0</td>\n      <td>0</td>\n      <td>0</td>\n      <td>0</td>\n      <td>0</td>\n      <td>0</td>\n    </tr>\n    <tr>\n      <th>3</th>\n      <td>0</td>\n      <td>0</td>\n      <td>1</td>\n      <td>0</td>\n      <td>0</td>\n      <td>0</td>\n      <td>0</td>\n      <td>0</td>\n      <td>0</td>\n      <td>0</td>\n      <td>...</td>\n      <td>0</td>\n      <td>0</td>\n      <td>0</td>\n      <td>0</td>\n      <td>0</td>\n      <td>0</td>\n      <td>0</td>\n      <td>0</td>\n      <td>0</td>\n      <td>0</td>\n    </tr>\n    <tr>\n      <th>4</th>\n      <td>0</td>\n      <td>0</td>\n      <td>0</td>\n      <td>1</td>\n      <td>0</td>\n      <td>0</td>\n      <td>0</td>\n      <td>0</td>\n      <td>0</td>\n      <td>0</td>\n      <td>...</td>\n      <td>0</td>\n      <td>0</td>\n      <td>0</td>\n      <td>0</td>\n      <td>0</td>\n      <td>0</td>\n      <td>0</td>\n      <td>0</td>\n      <td>0</td>\n      <td>0</td>\n    </tr>\n  </tbody>\n</table>\n<p>5 rows × 26 columns</p>\n</div>"
     },
     "metadata": {},
     "execution_count": 8
    }
   ],
   "source": [
    "# Label head\n",
    "y.head()"
   ]
  },
  {
   "cell_type": "code",
   "execution_count": 9,
   "metadata": {},
   "outputs": [
    {
     "output_type": "stream",
     "name": "stderr",
     "text": [
      "<ipython-input-9-7f4537c43ddc>:9: SettingWithCopyWarning: \nA value is trying to be set on a copy of a slice from a DataFrame\n\nSee the caveats in the documentation: https://pandas.pydata.org/pandas-docs/stable/user_guide/indexing.html#returning-a-view-versus-a-copy\n  x[i] = stopword.remove(x[i])\n<ipython-input-9-7f4537c43ddc>:10: SettingWithCopyWarning: \nA value is trying to be set on a copy of a slice from a DataFrame\n\nSee the caveats in the documentation: https://pandas.pydata.org/pandas-docs/stable/user_guide/indexing.html#returning-a-view-versus-a-copy\n  x[i] = stemmer.stem(x[i])\n"
     ]
    },
    {
     "output_type": "execute_result",
     "data": {
      "text/plain": [
       "0    bantu normal sistem lpse kabupaten demak mana ...\n",
       "1    ass gubsaya perangkat desa karangsari kec kara...\n",
       "2    selamat sore gubernur mewakilisaya ahmad rofiq...\n",
       "3    assalamualaikum gub urus paguyuban dagang puja...\n",
       "4    lapor okada arle sandi email okadaarlegmailcom...\n",
       "Name: text, dtype: object"
      ]
     },
     "metadata": {},
     "execution_count": 9
    }
   ],
   "source": [
    "# Remove stopwords and stem words using Sastrawi\n",
    "stemmer_factory = StemmerFactory()\n",
    "stemmer = stemmer_factory.create_stemmer()\n",
    "\n",
    "stopword_factory = StopWordRemoverFactory()\n",
    "stopword = stopword_factory.create_stop_word_remover()\n",
    "\n",
    "for i in range(len(x)):\n",
    "    x[i] = stopword.remove(x[i])\n",
    "    x[i] = stemmer.stem(x[i])\n",
    "\n",
    "x.head()"
   ]
  },
  {
   "cell_type": "code",
   "execution_count": 10,
   "metadata": {},
   "outputs": [],
   "source": [
    "# Tokenize and pad text\n",
    "vocab_size = 2000\n",
    "embedding_dim = 16\n",
    "max_length = 300\n",
    "trunc_type = \"post\"\n",
    "oov_token = \"<OOV>\"\n",
    "\n",
    "tokenizer = Tokenizer(num_words = vocab_size, oov_token=oov_token)\n",
    "tokenizer.fit_on_texts(x)\n",
    "\n",
    "sequences = tokenizer.texts_to_sequences(x)\n",
    "\n",
    "padded = pad_sequences(sequences, maxlen=max_length, truncating=trunc_type)"
   ]
  },
  {
   "cell_type": "code",
   "execution_count": 11,
   "metadata": {
    "tags": []
   },
   "outputs": [
    {
     "output_type": "stream",
     "name": "stdout",
     "text": [
      "72\n18\n"
     ]
    }
   ],
   "source": [
    "# Shuffle, batch and separate data into train, dev and test\n",
    "BUFFER_SIZE = 1000\n",
    "BATCH_SIZE = 32\n",
    "DATASET_SIZE = len(x)\n",
    "\n",
    "\n",
    "tx = tf.convert_to_tensor(padded)\n",
    "ty = tf.convert_to_tensor(y)\n",
    "\n",
    "dataset = tf.data.Dataset.from_tensor_slices((tx, ty))\n",
    "dataset = dataset.shuffle(BUFFER_SIZE).batch(BATCH_SIZE)\n",
    "\n",
    "train_set = dataset.take(int(0.8 * len(dataset)))\n",
    "test_set = dataset.skip(int(0.8 * len(dataset)))\n",
    "test_set = dataset.take(int(0.2 * len(dataset))) \n",
    "\n",
    "print(len(train_set))\n",
    "print(len(test_set))"
   ]
  },
  {
   "cell_type": "code",
   "execution_count": 12,
   "metadata": {},
   "outputs": [
    {
     "output_type": "stream",
     "name": "stdout",
     "text": [
      "Model: \"sequential\"\n_________________________________________________________________\nLayer (type)                 Output Shape              Param #   \n=================================================================\nembedding (Embedding)        (None, None, 128)         256000    \n_________________________________________________________________\nbidirectional (Bidirectional (None, None, 256)         263168    \n_________________________________________________________________\ndropout (Dropout)            (None, None, 256)         0         \n_________________________________________________________________\nbidirectional_1 (Bidirection (None, 128)               164352    \n_________________________________________________________________\ndropout_1 (Dropout)          (None, 128)               0         \n_________________________________________________________________\ndense (Dense)                (None, 64)                8256      \n_________________________________________________________________\ndropout_2 (Dropout)          (None, 64)                0         \n_________________________________________________________________\ndense_1 (Dense)              (None, 32)                2080      \n_________________________________________________________________\ndense_2 (Dense)              (None, 26)                858       \n=================================================================\nTotal params: 694,714\nTrainable params: 694,714\nNon-trainable params: 0\n_________________________________________________________________\n"
     ]
    }
   ],
   "source": [
    "model = tf.keras.Sequential([\n",
    "    tf.keras.layers.Embedding(vocab_size, 128),\n",
    "    tf.keras.layers.Bidirectional(tf.keras.layers.LSTM(128, return_sequences=True)),\n",
    "    tf.keras.layers.Dropout(0.2),\n",
    "    tf.keras.layers.Bidirectional(tf.keras.layers.LSTM(64)),\n",
    "    tf.keras.layers.Dropout(0.2),\n",
    "    tf.keras.layers.Dense(64, activation='relu'),\n",
    "    tf.keras.layers.Dropout(0.2),\n",
    "    tf.keras.layers.Dense(32, activation='relu'),\n",
    "    tf.keras.layers.Dense(26, activation='sigmoid')\n",
    "])\n",
    "\n",
    "model.summary()"
   ]
  },
  {
   "cell_type": "code",
   "execution_count": 13,
   "metadata": {},
   "outputs": [],
   "source": [
    "model.compile(loss='binary_crossentropy', optimizer='adam', metrics=['accuracy'])"
   ]
  },
  {
   "cell_type": "code",
   "execution_count": 14,
   "metadata": {},
   "outputs": [
    {
     "output_type": "stream",
     "name": "stdout",
     "text": [
      "Epoch 1/75\n",
      "72/72 [==============================] - 81s 993ms/step - loss: 0.3038 - accuracy: 0.1354 - val_loss: 0.1246 - val_accuracy: 0.2205\n",
      "Epoch 2/75\n",
      "72/72 [==============================] - 73s 1s/step - loss: 0.1334 - accuracy: 0.2274 - val_loss: 0.1178 - val_accuracy: 0.2326\n",
      "Epoch 3/75\n",
      "72/72 [==============================] - 75s 1s/step - loss: 0.1318 - accuracy: 0.2344 - val_loss: 0.1198 - val_accuracy: 0.2309\n",
      "Epoch 4/75\n",
      "72/72 [==============================] - 75s 1s/step - loss: 0.1298 - accuracy: 0.2400 - val_loss: 0.1158 - val_accuracy: 0.2361\n",
      "Epoch 5/75\n",
      "72/72 [==============================] - 75s 1s/step - loss: 0.1283 - accuracy: 0.2378 - val_loss: 0.1160 - val_accuracy: 0.2535\n",
      "Epoch 6/75\n",
      "72/72 [==============================] - 76s 1s/step - loss: 0.1281 - accuracy: 0.2378 - val_loss: 0.1168 - val_accuracy: 0.2569\n",
      "Epoch 7/75\n",
      "72/72 [==============================] - 77s 1s/step - loss: 0.1282 - accuracy: 0.2361 - val_loss: 0.1168 - val_accuracy: 0.2274\n",
      "Epoch 8/75\n",
      "72/72 [==============================] - 75s 1s/step - loss: 0.1262 - accuracy: 0.2431 - val_loss: 0.1142 - val_accuracy: 0.2361\n",
      "Epoch 9/75\n",
      "72/72 [==============================] - 77s 1s/step - loss: 0.1235 - accuracy: 0.2582 - val_loss: 0.1157 - val_accuracy: 0.2674\n",
      "Epoch 10/75\n",
      "72/72 [==============================] - 76s 1s/step - loss: 0.1239 - accuracy: 0.2908 - val_loss: 0.1101 - val_accuracy: 0.3090\n",
      "Epoch 11/75\n",
      "72/72 [==============================] - 77s 1s/step - loss: 0.1180 - accuracy: 0.3090 - val_loss: 0.1058 - val_accuracy: 0.3177\n",
      "Epoch 12/75\n",
      "72/72 [==============================] - 76s 1s/step - loss: 0.1144 - accuracy: 0.3312 - val_loss: 0.1033 - val_accuracy: 0.3299\n",
      "Epoch 13/75\n",
      "72/72 [==============================] - 75s 1s/step - loss: 0.1116 - accuracy: 0.3351 - val_loss: 0.0971 - val_accuracy: 0.3420\n",
      "Epoch 14/75\n",
      "72/72 [==============================] - 75s 1s/step - loss: 0.1079 - accuracy: 0.3446 - val_loss: 0.0988 - val_accuracy: 0.3247\n",
      "Epoch 15/75\n",
      "72/72 [==============================] - 76s 1s/step - loss: 0.1059 - accuracy: 0.3585 - val_loss: 0.0916 - val_accuracy: 0.3576\n",
      "Epoch 16/75\n",
      "72/72 [==============================] - 75s 1s/step - loss: 0.1034 - accuracy: 0.3572 - val_loss: 0.0913 - val_accuracy: 0.3837\n",
      "Epoch 17/75\n",
      "72/72 [==============================] - 76s 1s/step - loss: 0.1023 - accuracy: 0.3602 - val_loss: 0.0935 - val_accuracy: 0.3663\n",
      "Epoch 18/75\n",
      "72/72 [==============================] - 75s 1s/step - loss: 0.1009 - accuracy: 0.3685 - val_loss: 0.0933 - val_accuracy: 0.3594\n",
      "Epoch 19/75\n",
      "72/72 [==============================] - 76s 1s/step - loss: 0.0993 - accuracy: 0.3824 - val_loss: 0.0838 - val_accuracy: 0.4028\n",
      "Epoch 20/75\n",
      "72/72 [==============================] - 77s 1s/step - loss: 0.0977 - accuracy: 0.3767 - val_loss: 0.0881 - val_accuracy: 0.3611\n",
      "Epoch 21/75\n",
      "72/72 [==============================] - 76s 1s/step - loss: 0.0978 - accuracy: 0.3854 - val_loss: 0.0881 - val_accuracy: 0.3837\n",
      "Epoch 22/75\n",
      "72/72 [==============================] - 76s 1s/step - loss: 0.0948 - accuracy: 0.3872 - val_loss: 0.0832 - val_accuracy: 0.4340\n",
      "Epoch 23/75\n",
      "72/72 [==============================] - 76s 1s/step - loss: 0.0939 - accuracy: 0.3971 - val_loss: 0.0824 - val_accuracy: 0.4201\n",
      "Epoch 24/75\n",
      "72/72 [==============================] - 77s 1s/step - loss: 0.0911 - accuracy: 0.4058 - val_loss: 0.0802 - val_accuracy: 0.4080\n",
      "Epoch 25/75\n",
      "72/72 [==============================] - 76s 1s/step - loss: 0.0912 - accuracy: 0.4062 - val_loss: 0.0815 - val_accuracy: 0.3750\n",
      "Epoch 26/75\n",
      "72/72 [==============================] - 76s 1s/step - loss: 0.0895 - accuracy: 0.4119 - val_loss: 0.0784 - val_accuracy: 0.4097\n",
      "Epoch 27/75\n",
      "72/72 [==============================] - 76s 1s/step - loss: 0.0894 - accuracy: 0.4188 - val_loss: 0.0810 - val_accuracy: 0.4201\n",
      "Epoch 28/75\n",
      "72/72 [==============================] - 76s 1s/step - loss: 0.0852 - accuracy: 0.4397 - val_loss: 0.0717 - val_accuracy: 0.4774\n",
      "Epoch 29/75\n",
      "72/72 [==============================] - 76s 1s/step - loss: 0.0825 - accuracy: 0.4501 - val_loss: 0.0712 - val_accuracy: 0.4618\n",
      "Epoch 30/75\n",
      "72/72 [==============================] - 77s 1s/step - loss: 0.0862 - accuracy: 0.4397 - val_loss: 0.0749 - val_accuracy: 0.4288\n",
      "Epoch 31/75\n",
      "72/72 [==============================] - 75s 1s/step - loss: 0.0814 - accuracy: 0.4666 - val_loss: 0.0698 - val_accuracy: 0.4826\n",
      "Epoch 32/75\n",
      "72/72 [==============================] - 76s 1s/step - loss: 0.0777 - accuracy: 0.4891 - val_loss: 0.0682 - val_accuracy: 0.5017\n",
      "Epoch 33/75\n",
      "72/72 [==============================] - 76s 1s/step - loss: 0.0750 - accuracy: 0.4978 - val_loss: 0.0624 - val_accuracy: 0.5156\n",
      "Epoch 34/75\n",
      "72/72 [==============================] - 76s 1s/step - loss: 0.0739 - accuracy: 0.5069 - val_loss: 0.0643 - val_accuracy: 0.5017\n",
      "Epoch 35/75\n",
      "72/72 [==============================] - 76s 1s/step - loss: 0.0729 - accuracy: 0.5065 - val_loss: 0.0607 - val_accuracy: 0.5139\n",
      "Epoch 36/75\n",
      "72/72 [==============================] - 76s 1s/step - loss: 0.0713 - accuracy: 0.5221 - val_loss: 0.0607 - val_accuracy: 0.5017\n",
      "Epoch 37/75\n",
      "72/72 [==============================] - 76s 1s/step - loss: 0.0699 - accuracy: 0.5234 - val_loss: 0.0577 - val_accuracy: 0.5208\n",
      "Epoch 38/75\n",
      "72/72 [==============================] - 77s 1s/step - loss: 0.0682 - accuracy: 0.5226 - val_loss: 0.0580 - val_accuracy: 0.5521\n",
      "Epoch 39/75\n",
      "72/72 [==============================] - 80s 1s/step - loss: 0.0681 - accuracy: 0.5265 - val_loss: 0.0577 - val_accuracy: 0.5417\n",
      "Epoch 40/75\n",
      "72/72 [==============================] - 77s 1s/step - loss: 0.0634 - accuracy: 0.5595 - val_loss: 0.0591 - val_accuracy: 0.5330\n",
      "Epoch 41/75\n",
      "72/72 [==============================] - 76s 1s/step - loss: 0.0643 - accuracy: 0.5551 - val_loss: 0.0572 - val_accuracy: 0.5608\n",
      "Epoch 42/75\n",
      "72/72 [==============================] - 76s 1s/step - loss: 0.0643 - accuracy: 0.5590 - val_loss: 0.0525 - val_accuracy: 0.5781\n",
      "Epoch 43/75\n",
      "72/72 [==============================] - 75s 1s/step - loss: 0.0612 - accuracy: 0.5777 - val_loss: 0.0517 - val_accuracy: 0.6007\n",
      "Epoch 44/75\n",
      "72/72 [==============================] - 75s 1s/step - loss: 0.0587 - accuracy: 0.5790 - val_loss: 0.0503 - val_accuracy: 0.5885\n",
      "Epoch 45/75\n",
      "72/72 [==============================] - 75s 1s/step - loss: 0.0596 - accuracy: 0.5807 - val_loss: 0.0568 - val_accuracy: 0.5677\n",
      "Epoch 46/75\n",
      "72/72 [==============================] - 79s 1s/step - loss: 0.0580 - accuracy: 0.5894 - val_loss: 0.0494 - val_accuracy: 0.5885\n",
      "Epoch 47/75\n",
      "72/72 [==============================] - 75s 1s/step - loss: 0.0559 - accuracy: 0.5951 - val_loss: 0.0451 - val_accuracy: 0.6285\n",
      "Epoch 48/75\n",
      "72/72 [==============================] - 76s 1s/step - loss: 0.0534 - accuracy: 0.6133 - val_loss: 0.0445 - val_accuracy: 0.6146\n",
      "Epoch 49/75\n",
      "72/72 [==============================] - 77s 1s/step - loss: 0.0526 - accuracy: 0.6233 - val_loss: 0.0435 - val_accuracy: 0.6354\n",
      "Epoch 50/75\n",
      "72/72 [==============================] - 76s 1s/step - loss: 0.0517 - accuracy: 0.6411 - val_loss: 0.0391 - val_accuracy: 0.6562\n",
      "Epoch 51/75\n",
      "72/72 [==============================] - 76s 1s/step - loss: 0.0486 - accuracy: 0.6493 - val_loss: 0.0427 - val_accuracy: 0.6389\n",
      "Epoch 52/75\n",
      "72/72 [==============================] - 76s 1s/step - loss: 0.0493 - accuracy: 0.6450 - val_loss: 0.0406 - val_accuracy: 0.6372\n",
      "Epoch 53/75\n",
      "72/72 [==============================] - 76s 1s/step - loss: 0.0477 - accuracy: 0.6567 - val_loss: 0.0403 - val_accuracy: 0.6406\n",
      "Epoch 54/75\n",
      "72/72 [==============================] - 75s 1s/step - loss: 0.0473 - accuracy: 0.6593 - val_loss: 0.0354 - val_accuracy: 0.6545\n",
      "Epoch 55/75\n",
      "72/72 [==============================] - 75s 1s/step - loss: 0.0456 - accuracy: 0.6675 - val_loss: 0.0377 - val_accuracy: 0.6701\n",
      "Epoch 56/75\n",
      "72/72 [==============================] - 76s 1s/step - loss: 0.0424 - accuracy: 0.6840 - val_loss: 0.0352 - val_accuracy: 0.6632\n",
      "Epoch 57/75\n",
      "72/72 [==============================] - 75s 1s/step - loss: 0.0443 - accuracy: 0.6810 - val_loss: 0.0333 - val_accuracy: 0.6823\n",
      "Epoch 58/75\n",
      "72/72 [==============================] - 75s 1s/step - loss: 0.0418 - accuracy: 0.6814 - val_loss: 0.0333 - val_accuracy: 0.6719\n",
      "Epoch 59/75\n",
      "72/72 [==============================] - 76s 1s/step - loss: 0.0404 - accuracy: 0.6944 - val_loss: 0.0292 - val_accuracy: 0.7031\n",
      "Epoch 60/75\n",
      "72/72 [==============================] - 76s 1s/step - loss: 0.0386 - accuracy: 0.7044 - val_loss: 0.0307 - val_accuracy: 0.7066\n",
      "Epoch 61/75\n",
      "72/72 [==============================] - 76s 1s/step - loss: 0.0383 - accuracy: 0.7070 - val_loss: 0.0345 - val_accuracy: 0.6806\n",
      "Epoch 62/75\n",
      "72/72 [==============================] - 77s 1s/step - loss: 0.0374 - accuracy: 0.7140 - val_loss: 0.0283 - val_accuracy: 0.7049\n",
      "Epoch 63/75\n",
      "72/72 [==============================] - 76s 1s/step - loss: 0.0347 - accuracy: 0.7279 - val_loss: 0.0257 - val_accuracy: 0.7240\n",
      "Epoch 64/75\n",
      "72/72 [==============================] - 76s 1s/step - loss: 0.0344 - accuracy: 0.7270 - val_loss: 0.0229 - val_accuracy: 0.7552\n",
      "Epoch 65/75\n",
      "72/72 [==============================] - 77s 1s/step - loss: 0.0335 - accuracy: 0.7279 - val_loss: 0.0259 - val_accuracy: 0.7188\n",
      "Epoch 66/75\n",
      "72/72 [==============================] - 77s 1s/step - loss: 0.0320 - accuracy: 0.7409 - val_loss: 0.0230 - val_accuracy: 0.7413\n",
      "Epoch 67/75\n",
      "72/72 [==============================] - 76s 1s/step - loss: 0.0304 - accuracy: 0.7552 - val_loss: 0.0227 - val_accuracy: 0.7222\n",
      "Epoch 68/75\n",
      "72/72 [==============================] - 75s 1s/step - loss: 0.0282 - accuracy: 0.7561 - val_loss: 0.0228 - val_accuracy: 0.7361\n",
      "Epoch 69/75\n",
      "72/72 [==============================] - 75s 1s/step - loss: 0.0294 - accuracy: 0.7700 - val_loss: 0.0235 - val_accuracy: 0.7257\n",
      "Epoch 70/75\n",
      "72/72 [==============================] - 76s 1s/step - loss: 0.0281 - accuracy: 0.7665 - val_loss: 0.0212 - val_accuracy: 0.7361\n",
      "Epoch 71/75\n",
      "72/72 [==============================] - 76s 1s/step - loss: 0.0262 - accuracy: 0.7778 - val_loss: 0.0210 - val_accuracy: 0.7431\n",
      "Epoch 72/75\n",
      "72/72 [==============================] - 76s 1s/step - loss: 0.0264 - accuracy: 0.7695 - val_loss: 0.0196 - val_accuracy: 0.7604\n",
      "Epoch 73/75\n",
      "72/72 [==============================] - 83s 1s/step - loss: 0.0239 - accuracy: 0.7882 - val_loss: 0.0178 - val_accuracy: 0.7483\n",
      "Epoch 74/75\n",
      "72/72 [==============================] - 79s 1s/step - loss: 0.0231 - accuracy: 0.7938 - val_loss: 0.0188 - val_accuracy: 0.7535\n",
      "Epoch 75/75\n",
      "72/72 [==============================] - 79s 1s/step - loss: 0.0227 - accuracy: 0.7938 - val_loss: 0.0172 - val_accuracy: 0.7639\n"
     ]
    }
   ],
   "source": [
    "NUM_EPOCHS = 75\n",
    "history = model.fit(train_set, epochs=NUM_EPOCHS, validation_data=test_set)"
   ]
  },
  {
   "cell_type": "code",
   "execution_count": 15,
   "metadata": {},
   "outputs": [],
   "source": [
    "# Text cleaning function for inferrence\n",
    "def treatinput(inp):\n",
    "    # Make string into lowercase string\n",
    "    treated = inp.lower()\n",
    "    # remove punctuation\n",
    "    treated = treated.translate(str.maketrans(\"\",\"\",string.punctuation))\n",
    "    # remove trailing whitespace\n",
    "    treated = treated.strip()\n",
    "    # Remove stopwords\n",
    "    treated = stopword.remove(treated)\n",
    "    # Stem string\n",
    "    treated = stemmer.stem(treated)\n",
    "    return treated"
   ]
  },
  {
   "cell_type": "code",
   "execution_count": 16,
   "metadata": {},
   "outputs": [
    {
     "output_type": "stream",
     "name": "stdout",
     "text": [
      "jalan sukamaju jaya macet pagi lampu merah mati polisi lintas\n"
     ]
    }
   ],
   "source": [
    "# sample inferrece\n",
    "sample_laporan = \"Jalan sukamaju jaya macet sudah dari pagi, lampu merah mati dan tidak ada polisi lalu lintas\"\n",
    "treated_input = treatinput(sample_laporan)\n",
    "print(treated_input)\n",
    "pad = pad_sequences(tokenizer.texts_to_sequences([treated_input]), maxlen=max_length, truncating=trunc_type)\n",
    "prediction = model.predict(pad)\n",
    "\n",
    "res = dict(zip(label_list, prediction[0]))"
   ]
  },
  {
   "cell_type": "code",
   "execution_count": 17,
   "metadata": {},
   "outputs": [
    {
     "output_type": "stream",
     "name": "stdout",
     "text": [
      "perselisihan 0.00000\ninfrastruktur 0.00334\npemerintah 0.00003\nkesehatan 0.00000\nteknologi 0.00000\nadministrasi 0.00000\nfasilitas 0.02625\nlingkungan 0.00254\nketertiban 0.00001\nlistrik 0.00081\nbahaya 0.06766\nlainnya 0.00016\npungli 0.00000\nilegal 0.00219\nlalulintas 0.66482\nbencana 0.15976\nair 0.00004\npendidikan 0.00000\nkebersihan 0.01268\nsosial 0.00005\nwisata 0.00000\nsara 0.00394\npencurian 0.00000\nkorupsi 0.00000\nbbm 0.00000\nkeuangan 0.00000\n"
     ]
    }
   ],
   "source": [
    "# Print predictions\n",
    "for i in res.keys():\n",
    "    # if(res[i] > 0.6):\n",
    "    print(\"{} {:.5f}\".format(i, res[i]))"
   ]
  },
  {
   "cell_type": "code",
   "execution_count": 18,
   "metadata": {},
   "outputs": [],
   "source": [
    "# Try a new model with Keras Tuner\n",
    "import kerastuner as kt"
   ]
  },
  {
   "cell_type": "code",
   "execution_count": 19,
   "metadata": {},
   "outputs": [],
   "source": [
    "# Define Model\n",
    "def model_builder(hp):\n",
    "    emb_units = hp.Int('emb_units', min_value=16, max_value=256, step=16)\n",
    "    bid1_units = hp.Int('bid1_units', min_value=16, max_value=256, step=16)\n",
    "    drop1_frac = hp.Float('drop1_frac', min_value=0.1, max_value=0.8, step=0.1)\n",
    "    bid2_units = hp.Int('bid2_units', min_value=16, max_value=256, step=16)\n",
    "    drop2_frac = hp.Float('drop2_frac', min_value=0.1, max_value=0.8, step=0.1)\n",
    "    dense1_units = hp.Int('dense1_unit', min_value=16, max_value=256, step=16)\n",
    "    drop3_frac = hp.Float('drop3_frac', min_value=0.1, max_value=0.8, step=0.1)\n",
    "    dense2_units = hp.Int('dense2_unit', min_value=16, max_value=256, step=16)\n",
    "\n",
    "    model = tf.keras.Sequential([\n",
    "    tf.keras.layers.Embedding(vocab_size, emb_units),\n",
    "    tf.keras.layers.Bidirectional(tf.keras.layers.LSTM(bid1_units, return_sequences=True)),\n",
    "    tf.keras.layers.Dropout(drop1_frac),\n",
    "    tf.keras.layers.Bidirectional(tf.keras.layers.LSTM(bid2_units)),\n",
    "    tf.keras.layers.Dropout(drop2_frac),\n",
    "    tf.keras.layers.Dense(dense1_units, activation='relu'),\n",
    "    tf.keras.layers.Dropout(drop3_frac),\n",
    "    tf.keras.layers.Dense(dense2_units, activation='relu'),\n",
    "    tf.keras.layers.Dense(26, activation='sigmoid')\n",
    "])\n",
    "\n",
    "    hp_learning_rate = hp.Choice('learning_rate', values=[1e-2, 1e-3, 1e-4, 1e-5])\n",
    "\n",
    "    model.compile(loss='binary_crossentropy', optimizer=tf.keras.optimizers.Adam(learning_rate=hp_learning_rate), metrics=['accuracy'])\n",
    "    \n",
    "    return model"
   ]
  },
  {
   "cell_type": "code",
   "execution_count": 22,
   "metadata": {},
   "outputs": [],
   "source": [
    "tuner = kt.Hyperband(model_builder, objective='val_accuracy', max_epochs=100, factor=3, overwrite=True)"
   ]
  },
  {
   "cell_type": "code",
   "execution_count": 23,
   "metadata": {},
   "outputs": [],
   "source": [
    "stop_early = tf.keras.callbacks.EarlyStopping(monitor='val_loss', patience=5)"
   ]
  },
  {
   "cell_type": "code",
   "execution_count": 24,
   "metadata": {},
   "outputs": [
    {
     "output_type": "stream",
     "name": "stdout",
     "text": [
      "Trial 107 Complete [00h 23m 40s]\n",
      "val_accuracy: 0.2309027761220932\n",
      "\n",
      "Best val_accuracy So Far: 0.3333333432674408\n",
      "Total elapsed time: 18h 00m 29s\n",
      "\n",
      "Search: Running Trial #108\n",
      "\n",
      "Hyperparameter    |Value             |Best Value So Far \n",
      "emb_units         |64                |48                \n",
      "bid1_units        |96                |80                \n",
      "drop1_frac        |0.5               |0.4               \n",
      "bid2_units        |192               |48                \n",
      "drop2_frac        |0.2               |0.1               \n",
      "dense1_unit       |128               |208               \n",
      "drop3_frac        |0.7               |0.3               \n",
      "dense2_unit       |176               |240               \n",
      "learning_rate     |0.01              |0.01              \n",
      "tuner/epochs      |4                 |2                 \n",
      "tuner/initial_e...|2                 |0                 \n",
      "tuner/bracket     |4                 |4                 \n",
      "tuner/round       |1                 |0                 \n",
      "tuner/trial_id    |111d4ca2ad87996...|None              \n",
      "\n",
      "Epoch 3/4\n",
      "72/72 [==============================] - 407s 6s/step - loss: 0.1652 - accuracy: 0.1957 - val_loss: 0.2190 - val_accuracy: 0.2378\n",
      "Epoch 4/4\n",
      "29/72 [===========>..................] - ETA: 4:14 - loss: 0.1242 - accuracy: 0.2144"
     ]
    },
    {
     "output_type": "error",
     "ename": "KeyboardInterrupt",
     "evalue": "",
     "traceback": [
      "\u001b[1;31m---------------------------------------------------------------------------\u001b[0m",
      "\u001b[1;31mKeyboardInterrupt\u001b[0m                         Traceback (most recent call last)",
      "\u001b[1;32m<ipython-input-24-197d1068cd86>\u001b[0m in \u001b[0;36m<module>\u001b[1;34m\u001b[0m\n\u001b[1;32m----> 1\u001b[1;33m \u001b[0mtuner\u001b[0m\u001b[1;33m.\u001b[0m\u001b[0msearch\u001b[0m\u001b[1;33m(\u001b[0m\u001b[0mtrain_set\u001b[0m\u001b[1;33m,\u001b[0m \u001b[0mepochs\u001b[0m\u001b[1;33m=\u001b[0m\u001b[1;36m100\u001b[0m\u001b[1;33m,\u001b[0m \u001b[0mvalidation_data\u001b[0m\u001b[1;33m=\u001b[0m\u001b[0mtest_set\u001b[0m\u001b[1;33m,\u001b[0m \u001b[0mcallbacks\u001b[0m\u001b[1;33m=\u001b[0m\u001b[1;33m[\u001b[0m\u001b[0mstop_early\u001b[0m\u001b[1;33m]\u001b[0m\u001b[1;33m)\u001b[0m\u001b[1;33m\u001b[0m\u001b[1;33m\u001b[0m\u001b[0m\n\u001b[0m\u001b[0;32m      2\u001b[0m \u001b[1;33m\u001b[0m\u001b[0m\n\u001b[0;32m      3\u001b[0m \u001b[0mbest_hps\u001b[0m\u001b[1;33m=\u001b[0m \u001b[0mtuner\u001b[0m\u001b[1;33m.\u001b[0m\u001b[0mget_best_hyperparameters\u001b[0m\u001b[1;33m(\u001b[0m\u001b[0mnum_trials\u001b[0m\u001b[1;33m=\u001b[0m\u001b[1;36m1\u001b[0m\u001b[1;33m)\u001b[0m\u001b[1;33m[\u001b[0m\u001b[1;36m0\u001b[0m\u001b[1;33m]\u001b[0m\u001b[1;33m\u001b[0m\u001b[1;33m\u001b[0m\u001b[0m\n\u001b[0;32m      4\u001b[0m \u001b[0mprint\u001b[0m\u001b[1;33m(\u001b[0m\u001b[0mbest_hps\u001b[0m\u001b[1;33m)\u001b[0m\u001b[1;33m\u001b[0m\u001b[1;33m\u001b[0m\u001b[0m\n",
      "\u001b[1;32m~\\AppData\\Roaming\\Python\\Python39\\site-packages\\kerastuner\\engine\\base_tuner.py\u001b[0m in \u001b[0;36msearch\u001b[1;34m(self, *fit_args, **fit_kwargs)\u001b[0m\n\u001b[0;32m    129\u001b[0m \u001b[1;33m\u001b[0m\u001b[0m\n\u001b[0;32m    130\u001b[0m             \u001b[0mself\u001b[0m\u001b[1;33m.\u001b[0m\u001b[0mon_trial_begin\u001b[0m\u001b[1;33m(\u001b[0m\u001b[0mtrial\u001b[0m\u001b[1;33m)\u001b[0m\u001b[1;33m\u001b[0m\u001b[1;33m\u001b[0m\u001b[0m\n\u001b[1;32m--> 131\u001b[1;33m             \u001b[0mself\u001b[0m\u001b[1;33m.\u001b[0m\u001b[0mrun_trial\u001b[0m\u001b[1;33m(\u001b[0m\u001b[0mtrial\u001b[0m\u001b[1;33m,\u001b[0m \u001b[1;33m*\u001b[0m\u001b[0mfit_args\u001b[0m\u001b[1;33m,\u001b[0m \u001b[1;33m**\u001b[0m\u001b[0mfit_kwargs\u001b[0m\u001b[1;33m)\u001b[0m\u001b[1;33m\u001b[0m\u001b[1;33m\u001b[0m\u001b[0m\n\u001b[0m\u001b[0;32m    132\u001b[0m             \u001b[0mself\u001b[0m\u001b[1;33m.\u001b[0m\u001b[0mon_trial_end\u001b[0m\u001b[1;33m(\u001b[0m\u001b[0mtrial\u001b[0m\u001b[1;33m)\u001b[0m\u001b[1;33m\u001b[0m\u001b[1;33m\u001b[0m\u001b[0m\n\u001b[0;32m    133\u001b[0m         \u001b[0mself\u001b[0m\u001b[1;33m.\u001b[0m\u001b[0mon_search_end\u001b[0m\u001b[1;33m(\u001b[0m\u001b[1;33m)\u001b[0m\u001b[1;33m\u001b[0m\u001b[1;33m\u001b[0m\u001b[0m\n",
      "\u001b[1;32m~\\AppData\\Roaming\\Python\\Python39\\site-packages\\kerastuner\\tuners\\hyperband.py\u001b[0m in \u001b[0;36mrun_trial\u001b[1;34m(self, trial, *fit_args, **fit_kwargs)\u001b[0m\n\u001b[0;32m    352\u001b[0m             \u001b[0mfit_kwargs\u001b[0m\u001b[1;33m[\u001b[0m\u001b[1;34m'epochs'\u001b[0m\u001b[1;33m]\u001b[0m \u001b[1;33m=\u001b[0m \u001b[0mhp\u001b[0m\u001b[1;33m.\u001b[0m\u001b[0mvalues\u001b[0m\u001b[1;33m[\u001b[0m\u001b[1;34m'tuner/epochs'\u001b[0m\u001b[1;33m]\u001b[0m\u001b[1;33m\u001b[0m\u001b[1;33m\u001b[0m\u001b[0m\n\u001b[0;32m    353\u001b[0m             \u001b[0mfit_kwargs\u001b[0m\u001b[1;33m[\u001b[0m\u001b[1;34m'initial_epoch'\u001b[0m\u001b[1;33m]\u001b[0m \u001b[1;33m=\u001b[0m \u001b[0mhp\u001b[0m\u001b[1;33m.\u001b[0m\u001b[0mvalues\u001b[0m\u001b[1;33m[\u001b[0m\u001b[1;34m'tuner/initial_epoch'\u001b[0m\u001b[1;33m]\u001b[0m\u001b[1;33m\u001b[0m\u001b[1;33m\u001b[0m\u001b[0m\n\u001b[1;32m--> 354\u001b[1;33m         \u001b[0msuper\u001b[0m\u001b[1;33m(\u001b[0m\u001b[0mHyperband\u001b[0m\u001b[1;33m,\u001b[0m \u001b[0mself\u001b[0m\u001b[1;33m)\u001b[0m\u001b[1;33m.\u001b[0m\u001b[0mrun_trial\u001b[0m\u001b[1;33m(\u001b[0m\u001b[0mtrial\u001b[0m\u001b[1;33m,\u001b[0m \u001b[1;33m*\u001b[0m\u001b[0mfit_args\u001b[0m\u001b[1;33m,\u001b[0m \u001b[1;33m**\u001b[0m\u001b[0mfit_kwargs\u001b[0m\u001b[1;33m)\u001b[0m\u001b[1;33m\u001b[0m\u001b[1;33m\u001b[0m\u001b[0m\n\u001b[0m\u001b[0;32m    355\u001b[0m \u001b[1;33m\u001b[0m\u001b[0m\n\u001b[0;32m    356\u001b[0m     \u001b[1;32mdef\u001b[0m \u001b[0m_build_model\u001b[0m\u001b[1;33m(\u001b[0m\u001b[0mself\u001b[0m\u001b[1;33m,\u001b[0m \u001b[0mhp\u001b[0m\u001b[1;33m)\u001b[0m\u001b[1;33m:\u001b[0m\u001b[1;33m\u001b[0m\u001b[1;33m\u001b[0m\u001b[0m\n",
      "\u001b[1;32m~\\AppData\\Roaming\\Python\\Python39\\site-packages\\kerastuner\\engine\\multi_execution_tuner.py\u001b[0m in \u001b[0;36mrun_trial\u001b[1;34m(self, trial, *fit_args, **fit_kwargs)\u001b[0m\n\u001b[0;32m     94\u001b[0m             \u001b[0mcopied_fit_kwargs\u001b[0m\u001b[1;33m[\u001b[0m\u001b[1;34m'callbacks'\u001b[0m\u001b[1;33m]\u001b[0m \u001b[1;33m=\u001b[0m \u001b[0mcallbacks\u001b[0m\u001b[1;33m\u001b[0m\u001b[1;33m\u001b[0m\u001b[0m\n\u001b[0;32m     95\u001b[0m \u001b[1;33m\u001b[0m\u001b[0m\n\u001b[1;32m---> 96\u001b[1;33m             \u001b[0mhistory\u001b[0m \u001b[1;33m=\u001b[0m \u001b[0mself\u001b[0m\u001b[1;33m.\u001b[0m\u001b[0m_build_and_fit_model\u001b[0m\u001b[1;33m(\u001b[0m\u001b[0mtrial\u001b[0m\u001b[1;33m,\u001b[0m \u001b[0mfit_args\u001b[0m\u001b[1;33m,\u001b[0m \u001b[0mcopied_fit_kwargs\u001b[0m\u001b[1;33m)\u001b[0m\u001b[1;33m\u001b[0m\u001b[1;33m\u001b[0m\u001b[0m\n\u001b[0m\u001b[0;32m     97\u001b[0m             \u001b[1;32mfor\u001b[0m \u001b[0mmetric\u001b[0m\u001b[1;33m,\u001b[0m \u001b[0mepoch_values\u001b[0m \u001b[1;32min\u001b[0m \u001b[0mhistory\u001b[0m\u001b[1;33m.\u001b[0m\u001b[0mhistory\u001b[0m\u001b[1;33m.\u001b[0m\u001b[0mitems\u001b[0m\u001b[1;33m(\u001b[0m\u001b[1;33m)\u001b[0m\u001b[1;33m:\u001b[0m\u001b[1;33m\u001b[0m\u001b[1;33m\u001b[0m\u001b[0m\n\u001b[0;32m     98\u001b[0m                 \u001b[1;32mif\u001b[0m \u001b[0mself\u001b[0m\u001b[1;33m.\u001b[0m\u001b[0moracle\u001b[0m\u001b[1;33m.\u001b[0m\u001b[0mobjective\u001b[0m\u001b[1;33m.\u001b[0m\u001b[0mdirection\u001b[0m \u001b[1;33m==\u001b[0m \u001b[1;34m'min'\u001b[0m\u001b[1;33m:\u001b[0m\u001b[1;33m\u001b[0m\u001b[1;33m\u001b[0m\u001b[0m\n",
      "\u001b[1;32m~\\AppData\\Roaming\\Python\\Python39\\site-packages\\kerastuner\\engine\\tuner.py\u001b[0m in \u001b[0;36m_build_and_fit_model\u001b[1;34m(self, trial, fit_args, fit_kwargs)\u001b[0m\n\u001b[0;32m    139\u001b[0m         \"\"\"\n\u001b[0;32m    140\u001b[0m         \u001b[0mmodel\u001b[0m \u001b[1;33m=\u001b[0m \u001b[0mself\u001b[0m\u001b[1;33m.\u001b[0m\u001b[0mhypermodel\u001b[0m\u001b[1;33m.\u001b[0m\u001b[0mbuild\u001b[0m\u001b[1;33m(\u001b[0m\u001b[0mtrial\u001b[0m\u001b[1;33m.\u001b[0m\u001b[0mhyperparameters\u001b[0m\u001b[1;33m)\u001b[0m\u001b[1;33m\u001b[0m\u001b[1;33m\u001b[0m\u001b[0m\n\u001b[1;32m--> 141\u001b[1;33m         \u001b[1;32mreturn\u001b[0m \u001b[0mmodel\u001b[0m\u001b[1;33m.\u001b[0m\u001b[0mfit\u001b[0m\u001b[1;33m(\u001b[0m\u001b[1;33m*\u001b[0m\u001b[0mfit_args\u001b[0m\u001b[1;33m,\u001b[0m \u001b[1;33m**\u001b[0m\u001b[0mfit_kwargs\u001b[0m\u001b[1;33m)\u001b[0m\u001b[1;33m\u001b[0m\u001b[1;33m\u001b[0m\u001b[0m\n\u001b[0m\u001b[0;32m    142\u001b[0m \u001b[1;33m\u001b[0m\u001b[0m\n\u001b[0;32m    143\u001b[0m     \u001b[1;32mdef\u001b[0m \u001b[0mrun_trial\u001b[0m\u001b[1;33m(\u001b[0m\u001b[0mself\u001b[0m\u001b[1;33m,\u001b[0m \u001b[0mtrial\u001b[0m\u001b[1;33m,\u001b[0m \u001b[1;33m*\u001b[0m\u001b[0mfit_args\u001b[0m\u001b[1;33m,\u001b[0m \u001b[1;33m**\u001b[0m\u001b[0mfit_kwargs\u001b[0m\u001b[1;33m)\u001b[0m\u001b[1;33m:\u001b[0m\u001b[1;33m\u001b[0m\u001b[1;33m\u001b[0m\u001b[0m\n",
      "\u001b[1;32m~\\AppData\\Roaming\\Python\\Python39\\site-packages\\tensorflow\\python\\keras\\engine\\training.py\u001b[0m in \u001b[0;36mfit\u001b[1;34m(self, x, y, batch_size, epochs, verbose, callbacks, validation_split, validation_data, shuffle, class_weight, sample_weight, initial_epoch, steps_per_epoch, validation_steps, validation_batch_size, validation_freq, max_queue_size, workers, use_multiprocessing)\u001b[0m\n\u001b[0;32m   1181\u001b[0m                 _r=1):\n\u001b[0;32m   1182\u001b[0m               \u001b[0mcallbacks\u001b[0m\u001b[1;33m.\u001b[0m\u001b[0mon_train_batch_begin\u001b[0m\u001b[1;33m(\u001b[0m\u001b[0mstep\u001b[0m\u001b[1;33m)\u001b[0m\u001b[1;33m\u001b[0m\u001b[1;33m\u001b[0m\u001b[0m\n\u001b[1;32m-> 1183\u001b[1;33m               \u001b[0mtmp_logs\u001b[0m \u001b[1;33m=\u001b[0m \u001b[0mself\u001b[0m\u001b[1;33m.\u001b[0m\u001b[0mtrain_function\u001b[0m\u001b[1;33m(\u001b[0m\u001b[0miterator\u001b[0m\u001b[1;33m)\u001b[0m\u001b[1;33m\u001b[0m\u001b[1;33m\u001b[0m\u001b[0m\n\u001b[0m\u001b[0;32m   1184\u001b[0m               \u001b[1;32mif\u001b[0m \u001b[0mdata_handler\u001b[0m\u001b[1;33m.\u001b[0m\u001b[0mshould_sync\u001b[0m\u001b[1;33m:\u001b[0m\u001b[1;33m\u001b[0m\u001b[1;33m\u001b[0m\u001b[0m\n\u001b[0;32m   1185\u001b[0m                 \u001b[0mcontext\u001b[0m\u001b[1;33m.\u001b[0m\u001b[0masync_wait\u001b[0m\u001b[1;33m(\u001b[0m\u001b[1;33m)\u001b[0m\u001b[1;33m\u001b[0m\u001b[1;33m\u001b[0m\u001b[0m\n",
      "\u001b[1;32m~\\AppData\\Roaming\\Python\\Python39\\site-packages\\tensorflow\\python\\eager\\def_function.py\u001b[0m in \u001b[0;36m__call__\u001b[1;34m(self, *args, **kwds)\u001b[0m\n\u001b[0;32m    887\u001b[0m \u001b[1;33m\u001b[0m\u001b[0m\n\u001b[0;32m    888\u001b[0m       \u001b[1;32mwith\u001b[0m \u001b[0mOptionalXlaContext\u001b[0m\u001b[1;33m(\u001b[0m\u001b[0mself\u001b[0m\u001b[1;33m.\u001b[0m\u001b[0m_jit_compile\u001b[0m\u001b[1;33m)\u001b[0m\u001b[1;33m:\u001b[0m\u001b[1;33m\u001b[0m\u001b[1;33m\u001b[0m\u001b[0m\n\u001b[1;32m--> 889\u001b[1;33m         \u001b[0mresult\u001b[0m \u001b[1;33m=\u001b[0m \u001b[0mself\u001b[0m\u001b[1;33m.\u001b[0m\u001b[0m_call\u001b[0m\u001b[1;33m(\u001b[0m\u001b[1;33m*\u001b[0m\u001b[0margs\u001b[0m\u001b[1;33m,\u001b[0m \u001b[1;33m**\u001b[0m\u001b[0mkwds\u001b[0m\u001b[1;33m)\u001b[0m\u001b[1;33m\u001b[0m\u001b[1;33m\u001b[0m\u001b[0m\n\u001b[0m\u001b[0;32m    890\u001b[0m \u001b[1;33m\u001b[0m\u001b[0m\n\u001b[0;32m    891\u001b[0m       \u001b[0mnew_tracing_count\u001b[0m \u001b[1;33m=\u001b[0m \u001b[0mself\u001b[0m\u001b[1;33m.\u001b[0m\u001b[0mexperimental_get_tracing_count\u001b[0m\u001b[1;33m(\u001b[0m\u001b[1;33m)\u001b[0m\u001b[1;33m\u001b[0m\u001b[1;33m\u001b[0m\u001b[0m\n",
      "\u001b[1;32m~\\AppData\\Roaming\\Python\\Python39\\site-packages\\tensorflow\\python\\eager\\def_function.py\u001b[0m in \u001b[0;36m_call\u001b[1;34m(self, *args, **kwds)\u001b[0m\n\u001b[0;32m    915\u001b[0m       \u001b[1;31m# In this case we have created variables on the first call, so we run the\u001b[0m\u001b[1;33m\u001b[0m\u001b[1;33m\u001b[0m\u001b[1;33m\u001b[0m\u001b[0m\n\u001b[0;32m    916\u001b[0m       \u001b[1;31m# defunned version which is guaranteed to never create variables.\u001b[0m\u001b[1;33m\u001b[0m\u001b[1;33m\u001b[0m\u001b[1;33m\u001b[0m\u001b[0m\n\u001b[1;32m--> 917\u001b[1;33m       \u001b[1;32mreturn\u001b[0m \u001b[0mself\u001b[0m\u001b[1;33m.\u001b[0m\u001b[0m_stateless_fn\u001b[0m\u001b[1;33m(\u001b[0m\u001b[1;33m*\u001b[0m\u001b[0margs\u001b[0m\u001b[1;33m,\u001b[0m \u001b[1;33m**\u001b[0m\u001b[0mkwds\u001b[0m\u001b[1;33m)\u001b[0m  \u001b[1;31m# pylint: disable=not-callable\u001b[0m\u001b[1;33m\u001b[0m\u001b[1;33m\u001b[0m\u001b[0m\n\u001b[0m\u001b[0;32m    918\u001b[0m     \u001b[1;32melif\u001b[0m \u001b[0mself\u001b[0m\u001b[1;33m.\u001b[0m\u001b[0m_stateful_fn\u001b[0m \u001b[1;32mis\u001b[0m \u001b[1;32mnot\u001b[0m \u001b[1;32mNone\u001b[0m\u001b[1;33m:\u001b[0m\u001b[1;33m\u001b[0m\u001b[1;33m\u001b[0m\u001b[0m\n\u001b[0;32m    919\u001b[0m       \u001b[1;31m# Release the lock early so that multiple threads can perform the call\u001b[0m\u001b[1;33m\u001b[0m\u001b[1;33m\u001b[0m\u001b[1;33m\u001b[0m\u001b[0m\n",
      "\u001b[1;32m~\\AppData\\Roaming\\Python\\Python39\\site-packages\\tensorflow\\python\\eager\\function.py\u001b[0m in \u001b[0;36m__call__\u001b[1;34m(self, *args, **kwargs)\u001b[0m\n\u001b[0;32m   3021\u001b[0m       (graph_function,\n\u001b[0;32m   3022\u001b[0m        filtered_flat_args) = self._maybe_define_function(args, kwargs)\n\u001b[1;32m-> 3023\u001b[1;33m     return graph_function._call_flat(\n\u001b[0m\u001b[0;32m   3024\u001b[0m         filtered_flat_args, captured_inputs=graph_function.captured_inputs)  # pylint: disable=protected-access\n\u001b[0;32m   3025\u001b[0m \u001b[1;33m\u001b[0m\u001b[0m\n",
      "\u001b[1;32m~\\AppData\\Roaming\\Python\\Python39\\site-packages\\tensorflow\\python\\eager\\function.py\u001b[0m in \u001b[0;36m_call_flat\u001b[1;34m(self, args, captured_inputs, cancellation_manager)\u001b[0m\n\u001b[0;32m   1958\u001b[0m         and executing_eagerly):\n\u001b[0;32m   1959\u001b[0m       \u001b[1;31m# No tape is watching; skip to running the function.\u001b[0m\u001b[1;33m\u001b[0m\u001b[1;33m\u001b[0m\u001b[1;33m\u001b[0m\u001b[0m\n\u001b[1;32m-> 1960\u001b[1;33m       return self._build_call_outputs(self._inference_function.call(\n\u001b[0m\u001b[0;32m   1961\u001b[0m           ctx, args, cancellation_manager=cancellation_manager))\n\u001b[0;32m   1962\u001b[0m     forward_backward = self._select_forward_and_backward_functions(\n",
      "\u001b[1;32m~\\AppData\\Roaming\\Python\\Python39\\site-packages\\tensorflow\\python\\eager\\function.py\u001b[0m in \u001b[0;36mcall\u001b[1;34m(self, ctx, args, cancellation_manager)\u001b[0m\n\u001b[0;32m    589\u001b[0m       \u001b[1;32mwith\u001b[0m \u001b[0m_InterpolateFunctionError\u001b[0m\u001b[1;33m(\u001b[0m\u001b[0mself\u001b[0m\u001b[1;33m)\u001b[0m\u001b[1;33m:\u001b[0m\u001b[1;33m\u001b[0m\u001b[1;33m\u001b[0m\u001b[0m\n\u001b[0;32m    590\u001b[0m         \u001b[1;32mif\u001b[0m \u001b[0mcancellation_manager\u001b[0m \u001b[1;32mis\u001b[0m \u001b[1;32mNone\u001b[0m\u001b[1;33m:\u001b[0m\u001b[1;33m\u001b[0m\u001b[1;33m\u001b[0m\u001b[0m\n\u001b[1;32m--> 591\u001b[1;33m           outputs = execute.execute(\n\u001b[0m\u001b[0;32m    592\u001b[0m               \u001b[0mstr\u001b[0m\u001b[1;33m(\u001b[0m\u001b[0mself\u001b[0m\u001b[1;33m.\u001b[0m\u001b[0msignature\u001b[0m\u001b[1;33m.\u001b[0m\u001b[0mname\u001b[0m\u001b[1;33m)\u001b[0m\u001b[1;33m,\u001b[0m\u001b[1;33m\u001b[0m\u001b[1;33m\u001b[0m\u001b[0m\n\u001b[0;32m    593\u001b[0m               \u001b[0mnum_outputs\u001b[0m\u001b[1;33m=\u001b[0m\u001b[0mself\u001b[0m\u001b[1;33m.\u001b[0m\u001b[0m_num_outputs\u001b[0m\u001b[1;33m,\u001b[0m\u001b[1;33m\u001b[0m\u001b[1;33m\u001b[0m\u001b[0m\n",
      "\u001b[1;32m~\\AppData\\Roaming\\Python\\Python39\\site-packages\\tensorflow\\python\\eager\\execute.py\u001b[0m in \u001b[0;36mquick_execute\u001b[1;34m(op_name, num_outputs, inputs, attrs, ctx, name)\u001b[0m\n\u001b[0;32m     57\u001b[0m   \u001b[1;32mtry\u001b[0m\u001b[1;33m:\u001b[0m\u001b[1;33m\u001b[0m\u001b[1;33m\u001b[0m\u001b[0m\n\u001b[0;32m     58\u001b[0m     \u001b[0mctx\u001b[0m\u001b[1;33m.\u001b[0m\u001b[0mensure_initialized\u001b[0m\u001b[1;33m(\u001b[0m\u001b[1;33m)\u001b[0m\u001b[1;33m\u001b[0m\u001b[1;33m\u001b[0m\u001b[0m\n\u001b[1;32m---> 59\u001b[1;33m     tensors = pywrap_tfe.TFE_Py_Execute(ctx._handle, device_name, op_name,\n\u001b[0m\u001b[0;32m     60\u001b[0m                                         inputs, attrs, num_outputs)\n\u001b[0;32m     61\u001b[0m   \u001b[1;32mexcept\u001b[0m \u001b[0mcore\u001b[0m\u001b[1;33m.\u001b[0m\u001b[0m_NotOkStatusException\u001b[0m \u001b[1;32mas\u001b[0m \u001b[0me\u001b[0m\u001b[1;33m:\u001b[0m\u001b[1;33m\u001b[0m\u001b[1;33m\u001b[0m\u001b[0m\n",
      "\u001b[1;31mKeyboardInterrupt\u001b[0m: "
     ]
    }
   ],
   "source": [
    "tuner.search(train_set, epochs=100, validation_data=test_set, callbacks=[stop_early])\n",
    "\n",
    "best_hps= tuner.get_best_hyperparameters(num_trials=1)[0]\n",
    "print(best_hps)"
   ]
  },
  {
   "source": [
    "# Trial 5 Complete [00h 03m 30s]\n",
    "# val_accuracy: 0.2395833283662796\n",
    "\n",
    "# Best val_accuracy So Far: 0.2534722089767456\n",
    "# Total elapsed time: 00h 55m 20s\n",
    "\n",
    "# Search: Running Trial #6\n",
    "\n",
    "# Hyperparameter    |Value             |Best Value So Far \n",
    "# emb_units         |48                |32                \n",
    "# bid1_units        |240               |112               \n",
    "# drop1_frac        |0.6               |0.3               \n",
    "# bid2_units        |176               |112               \n",
    "# drop2_frac        |0.4               |0.4               \n",
    "# dense1_unit       |176               |112               \n",
    "# drop3_frac        |0.7               |0.4               \n",
    "# dense2_unit       |144               |224               \n",
    "# learning_rate     |1e-05             |0.01              \n",
    "# tuner/epochs      |2                 |2                 \n",
    "# tuner/initial_e...|0                 |0                 \n",
    "# tuner/bracket     |2                 |2                 \n",
    "# tuner/round       |0                 |0                 \n",
    "\n",
    "# Epoch 1/2\n",
    "# 72/72 [==============================] - 618s 8s/step - loss: 0.6918 - accuracy: 0.0573 - val_loss: 0.6889 - val_accuracy: 0.0625\n",
    "# Epoch 2/2\n",
    "# 72/72 [==============================] - 623s 9s/step - loss: 0.6846 - accuracy: 0.0760 - val_loss: 0.6749 - val_accuracy: 0.0521"
   ],
   "cell_type": "code",
   "metadata": {},
   "execution_count": null,
   "outputs": []
  },
  {
   "cell_type": "code",
   "execution_count": null,
   "metadata": {},
   "outputs": [],
   "source": []
  },
  {
   "cell_type": "code",
   "execution_count": 1,
   "metadata": {},
   "outputs": [
    {
     "output_type": "error",
     "ename": "NameError",
     "evalue": "name 'tuner' is not defined",
     "traceback": [
      "\u001b[1;31m---------------------------------------------------------------------------\u001b[0m",
      "\u001b[1;31mNameError\u001b[0m                                 Traceback (most recent call last)",
      "\u001b[1;32m<ipython-input-1-99b913921c10>\u001b[0m in \u001b[0;36m<module>\u001b[1;34m\u001b[0m\n\u001b[1;32m----> 1\u001b[1;33m \u001b[0mmodel_t\u001b[0m \u001b[1;33m=\u001b[0m \u001b[0mtuner\u001b[0m\u001b[1;33m.\u001b[0m\u001b[0mhypermodel\u001b[0m\u001b[1;33m.\u001b[0m\u001b[0mbuild\u001b[0m\u001b[1;33m(\u001b[0m\u001b[0mbest_hps\u001b[0m\u001b[1;33m)\u001b[0m\u001b[1;33m\u001b[0m\u001b[1;33m\u001b[0m\u001b[0m\n\u001b[0m\u001b[0;32m      2\u001b[0m \u001b[0mhistory\u001b[0m \u001b[1;33m=\u001b[0m \u001b[0mmodel_t\u001b[0m\u001b[1;33m.\u001b[0m\u001b[0mfit\u001b[0m\u001b[1;33m(\u001b[0m\u001b[0mdataset\u001b[0m\u001b[1;33m,\u001b[0m \u001b[0mepochs\u001b[0m\u001b[1;33m=\u001b[0m\u001b[1;36m100\u001b[0m\u001b[1;33m,\u001b[0m \u001b[0mvalidation_data\u001b[0m\u001b[1;33m=\u001b[0m\u001b[0mtest_set\u001b[0m\u001b[1;33m)\u001b[0m\u001b[1;33m\u001b[0m\u001b[1;33m\u001b[0m\u001b[0m\n\u001b[0;32m      3\u001b[0m \u001b[1;33m\u001b[0m\u001b[0m\n\u001b[0;32m      4\u001b[0m \u001b[0mval_acc_per_epoch\u001b[0m \u001b[1;33m=\u001b[0m \u001b[0mhistory\u001b[0m\u001b[1;33m.\u001b[0m\u001b[0mhistory\u001b[0m\u001b[1;33m[\u001b[0m\u001b[1;34m'val_accuracy'\u001b[0m\u001b[1;33m]\u001b[0m\u001b[1;33m\u001b[0m\u001b[1;33m\u001b[0m\u001b[0m\n\u001b[0;32m      5\u001b[0m \u001b[0mbest_epoch\u001b[0m \u001b[1;33m=\u001b[0m \u001b[0mval_acc_per_epoch\u001b[0m\u001b[1;33m.\u001b[0m\u001b[0mindex\u001b[0m\u001b[1;33m(\u001b[0m\u001b[0mmax\u001b[0m\u001b[1;33m(\u001b[0m\u001b[0mval_acc_per_epoch\u001b[0m\u001b[1;33m)\u001b[0m\u001b[1;33m)\u001b[0m \u001b[1;33m+\u001b[0m \u001b[1;36m1\u001b[0m\u001b[1;33m\u001b[0m\u001b[1;33m\u001b[0m\u001b[0m\n",
      "\u001b[1;31mNameError\u001b[0m: name 'tuner' is not defined"
     ]
    }
   ],
   "source": [
    "model_t = tuner.hypermodel.build(best_hps)\n",
    "history = model_t.fit(dataset, epochs=100, validation_data=test_set)\n",
    "\n",
    "val_acc_per_epoch = history.history['val_accuracy']\n",
    "best_epoch = val_acc_per_epoch.index(max(val_acc_per_epoch)) + 1\n",
    "print('Best epoch: %d' % (best_epoch,))"
   ]
  },
  {
   "cell_type": "code",
   "execution_count": null,
   "metadata": {},
   "outputs": [],
   "source": []
  }
 ]
}