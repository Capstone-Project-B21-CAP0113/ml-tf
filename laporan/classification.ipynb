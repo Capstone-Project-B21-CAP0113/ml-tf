{
 "metadata": {
  "orig_nbformat": 2,
  "kernelspec": {
   "name": "python395jvsc74a57bd0ac59ebe37160ed0dfa835113d9b8498d9f09ceb179beaac4002f036b9467c963",
   "display_name": "Python 3.9.5 64-bit"
  },
  "metadata": {
   "interpreter": {
    "hash": "ac59ebe37160ed0dfa835113d9b8498d9f09ceb179beaac4002f036b9467c963"
   }
  }
 },
 "nbformat": 4,
 "nbformat_minor": 2,
 "cells": [
  {
   "source": [
    "# Text Classification Notebook"
   ],
   "cell_type": "markdown",
   "metadata": {}
  },
  {
   "source": [
    "!pip install --upgrade pip\n",
    "!pip install tensorflow\n",
    "!pip install pandas\n",
    "!pip install numpy\n",
    "!pip install PySastrawi\n",
    "!pip install sklearn"
   ],
   "cell_type": "code",
   "metadata": {},
   "execution_count": null,
   "outputs": []
  },
  {
   "cell_type": "code",
   "execution_count": 1,
   "metadata": {},
   "outputs": [],
   "source": [
    "# Machine Learning related imports\n",
    "import tensorflow as tf\n",
    "\n",
    "from tensorflow.keras.preprocessing.text import Tokenizer\n",
    "from tensorflow.keras.preprocessing.sequence import pad_sequences\n",
    "from tensorflow.keras.layers import Input"
   ]
  },
  {
   "cell_type": "code",
   "execution_count": 2,
   "metadata": {},
   "outputs": [],
   "source": [
    "# Dataset and generic imports\n",
    "import pandas as pd\n",
    "import numpy as np\n",
    "import sklearn\n",
    "import os\n",
    "import string\n",
    "\n",
    "from Sastrawi.Stemmer.StemmerFactory import StemmerFactory\n",
    "from Sastrawi.StopWordRemover.StopWordRemoverFactory import StopWordRemoverFactory"
   ]
  },
  {
   "cell_type": "code",
   "execution_count": 3,
   "metadata": {},
   "outputs": [
    {
     "output_type": "stream",
     "name": "stdout",
     "text": [
      "(2852, 27)\n"
     ]
    },
    {
     "output_type": "execute_result",
     "data": {
      "text/plain": [
       "                                                text  perselisihan  \\\n",
       "0  mohon bantuannya untuk menormalkan sistem di l...             0   \n",
       "1  ass pak gubsaya perangkat desa karangsari kec ...             1   \n",
       "2  selamat sore bapak gubernur atau yang mewakili...             0   \n",
       "3  assalamualaikum pak gub saya pengurus paguyuba...             0   \n",
       "4  lapor saya okada arle sandi email  okadaarlegm...             0   \n",
       "\n",
       "   infrastruktur  pemerintah  kesehatan  teknologi  administrasi  fasilitas  \\\n",
       "0              0           0          0          1             0          0   \n",
       "1              0           0          0          0             0          0   \n",
       "2              1           0          0          0             0          0   \n",
       "3              0           1          0          0             0          0   \n",
       "4              0           0          1          0             0          0   \n",
       "\n",
       "   lingkungan  ketertiban  ...  air  pendidikan  kebersihan  sosial  wisata  \\\n",
       "0           0           0  ...    0           0           0       0       0   \n",
       "1           0           0  ...    0           0           0       0       0   \n",
       "2           0           0  ...    0           0           0       0       0   \n",
       "3           0           0  ...    0           0           0       0       0   \n",
       "4           0           0  ...    0           0           0       0       0   \n",
       "\n",
       "   sara  pencurian  korupsi  bbm  keuangan  \n",
       "0     0          0        0    0         0  \n",
       "1     0          0        0    0         0  \n",
       "2     0          0        0    0         0  \n",
       "3     0          0        0    0         0  \n",
       "4     0          0        0    0         0  \n",
       "\n",
       "[5 rows x 27 columns]"
      ],
      "text/html": "<div>\n<style scoped>\n    .dataframe tbody tr th:only-of-type {\n        vertical-align: middle;\n    }\n\n    .dataframe tbody tr th {\n        vertical-align: top;\n    }\n\n    .dataframe thead th {\n        text-align: right;\n    }\n</style>\n<table border=\"1\" class=\"dataframe\">\n  <thead>\n    <tr style=\"text-align: right;\">\n      <th></th>\n      <th>text</th>\n      <th>perselisihan</th>\n      <th>infrastruktur</th>\n      <th>pemerintah</th>\n      <th>kesehatan</th>\n      <th>teknologi</th>\n      <th>administrasi</th>\n      <th>fasilitas</th>\n      <th>lingkungan</th>\n      <th>ketertiban</th>\n      <th>...</th>\n      <th>air</th>\n      <th>pendidikan</th>\n      <th>kebersihan</th>\n      <th>sosial</th>\n      <th>wisata</th>\n      <th>sara</th>\n      <th>pencurian</th>\n      <th>korupsi</th>\n      <th>bbm</th>\n      <th>keuangan</th>\n    </tr>\n  </thead>\n  <tbody>\n    <tr>\n      <th>0</th>\n      <td>mohon bantuannya untuk menormalkan sistem di l...</td>\n      <td>0</td>\n      <td>0</td>\n      <td>0</td>\n      <td>0</td>\n      <td>1</td>\n      <td>0</td>\n      <td>0</td>\n      <td>0</td>\n      <td>0</td>\n      <td>...</td>\n      <td>0</td>\n      <td>0</td>\n      <td>0</td>\n      <td>0</td>\n      <td>0</td>\n      <td>0</td>\n      <td>0</td>\n      <td>0</td>\n      <td>0</td>\n      <td>0</td>\n    </tr>\n    <tr>\n      <th>1</th>\n      <td>ass pak gubsaya perangkat desa karangsari kec ...</td>\n      <td>1</td>\n      <td>0</td>\n      <td>0</td>\n      <td>0</td>\n      <td>0</td>\n      <td>0</td>\n      <td>0</td>\n      <td>0</td>\n      <td>0</td>\n      <td>...</td>\n      <td>0</td>\n      <td>0</td>\n      <td>0</td>\n      <td>0</td>\n      <td>0</td>\n      <td>0</td>\n      <td>0</td>\n      <td>0</td>\n      <td>0</td>\n      <td>0</td>\n    </tr>\n    <tr>\n      <th>2</th>\n      <td>selamat sore bapak gubernur atau yang mewakili...</td>\n      <td>0</td>\n      <td>1</td>\n      <td>0</td>\n      <td>0</td>\n      <td>0</td>\n      <td>0</td>\n      <td>0</td>\n      <td>0</td>\n      <td>0</td>\n      <td>...</td>\n      <td>0</td>\n      <td>0</td>\n      <td>0</td>\n      <td>0</td>\n      <td>0</td>\n      <td>0</td>\n      <td>0</td>\n      <td>0</td>\n      <td>0</td>\n      <td>0</td>\n    </tr>\n    <tr>\n      <th>3</th>\n      <td>assalamualaikum pak gub saya pengurus paguyuba...</td>\n      <td>0</td>\n      <td>0</td>\n      <td>1</td>\n      <td>0</td>\n      <td>0</td>\n      <td>0</td>\n      <td>0</td>\n      <td>0</td>\n      <td>0</td>\n      <td>...</td>\n      <td>0</td>\n      <td>0</td>\n      <td>0</td>\n      <td>0</td>\n      <td>0</td>\n      <td>0</td>\n      <td>0</td>\n      <td>0</td>\n      <td>0</td>\n      <td>0</td>\n    </tr>\n    <tr>\n      <th>4</th>\n      <td>lapor saya okada arle sandi email  okadaarlegm...</td>\n      <td>0</td>\n      <td>0</td>\n      <td>0</td>\n      <td>1</td>\n      <td>0</td>\n      <td>0</td>\n      <td>0</td>\n      <td>0</td>\n      <td>0</td>\n      <td>...</td>\n      <td>0</td>\n      <td>0</td>\n      <td>0</td>\n      <td>0</td>\n      <td>0</td>\n      <td>0</td>\n      <td>0</td>\n      <td>0</td>\n      <td>0</td>\n      <td>0</td>\n    </tr>\n  </tbody>\n</table>\n<p>5 rows × 27 columns</p>\n</div>"
     },
     "metadata": {},
     "execution_count": 3
    }
   ],
   "source": [
    "# Load dataset\n",
    "filepath = os.getcwd()\n",
    "datasetpath =  os.path.join(filepath, \"cleaned_data\", \"laporanencoded.csv\")\n",
    "\n",
    "github_url = \"https://raw.githubusercontent.com/Capstone-Project-B21-CAP0113/ml-tf/main/laporan/cleaned_data/laporanencoded.csv\"\n",
    "\n",
    "laporan = pd.read_csv(datasetpath, encoding=\"ISO-8859-1\")\n",
    "# Print dataset shape\n",
    "print(laporan.shape)\n",
    "# Print dataset head\n",
    "laporan.head()\n"
   ]
  },
  {
   "cell_type": "code",
   "execution_count": 4,
   "metadata": {},
   "outputs": [
    {
     "output_type": "stream",
     "name": "stdout",
     "text": [
      "perselisihan: 16\ninfrastruktur: 353\npemerintah: 68\nkesehatan: 80\nteknologi: 23\nadministrasi: 693\nfasilitas: 73\nlingkungan: 114\nketertiban: 87\nlistrik: 43\nbahaya: 22\nlainnya: 139\npungli: 106\nilegal: 47\nlalulintas: 42\nbencana: 58\nair: 85\npendidikan: 134\nkebersihan: 9\nsosial: 181\nwisata: 13\nsara: 7\npencurian: 6\nkorupsi: 39\nbbm: 1\nkeuangan: 82\n"
     ]
    }
   ],
   "source": [
    "# Split text and labels\n",
    "label_list = [\n",
    "    \"perselisihan\",\n",
    "    \"infrastruktur\",\n",
    "    \"pemerintah\",\n",
    "    \"kesehatan\",\n",
    "    \"teknologi\",\n",
    "    \"administrasi\",\n",
    "    \"fasilitas\",\n",
    "    \"lingkungan\",\n",
    "    \"ketertiban\",\n",
    "    \"listrik\",\n",
    "    \"bahaya\",\n",
    "    \"lainnya\",\n",
    "    \"pungli\",\n",
    "    \"ilegal\",\n",
    "    \"lalulintas\",\n",
    "    \"bencana\",\n",
    "    \"air\",\n",
    "    \"pendidikan\",\n",
    "    \"kebersihan\",\n",
    "    \"sosial\",\n",
    "    \"wisata\",\n",
    "    \"sara\",\n",
    "    \"pencurian\",\n",
    "    \"korupsi\",\n",
    "    \"bbm\",\n",
    "    \"keuangan\"\n",
    "] \n",
    "x = laporan[\"text\"]\n",
    "y = laporan[label_list]\n",
    "\n",
    "for i in label_list:\n",
    "    print(\"{}: {}\".format(i, (laporan[i] == 1).sum()))"
   ]
  },
  {
   "cell_type": "code",
   "execution_count": 5,
   "metadata": {},
   "outputs": [
    {
     "output_type": "execute_result",
     "data": {
      "text/plain": [
       "0    mohon bantuannya untuk menormalkan sistem di l...\n",
       "1    ass pak gubsaya perangkat desa karangsari kec ...\n",
       "2    selamat sore bapak gubernur atau yang mewakili...\n",
       "3    assalamualaikum pak gub saya pengurus paguyuba...\n",
       "4    lapor saya okada arle sandi email  okadaarlegm...\n",
       "Name: text, dtype: object"
      ]
     },
     "metadata": {},
     "execution_count": 5
    }
   ],
   "source": [
    "# Text head\n",
    "x.head()"
   ]
  },
  {
   "cell_type": "code",
   "execution_count": 6,
   "metadata": {},
   "outputs": [
    {
     "output_type": "execute_result",
     "data": {
      "text/plain": [
       "   perselisihan  infrastruktur  pemerintah  kesehatan  teknologi  \\\n",
       "0             0              0           0          0          1   \n",
       "1             1              0           0          0          0   \n",
       "2             0              1           0          0          0   \n",
       "3             0              0           1          0          0   \n",
       "4             0              0           0          1          0   \n",
       "\n",
       "   administrasi  fasilitas  lingkungan  ketertiban  listrik  ...  air  \\\n",
       "0             0          0           0           0        0  ...    0   \n",
       "1             0          0           0           0        0  ...    0   \n",
       "2             0          0           0           0        0  ...    0   \n",
       "3             0          0           0           0        0  ...    0   \n",
       "4             0          0           0           0        0  ...    0   \n",
       "\n",
       "   pendidikan  kebersihan  sosial  wisata  sara  pencurian  korupsi  bbm  \\\n",
       "0           0           0       0       0     0          0        0    0   \n",
       "1           0           0       0       0     0          0        0    0   \n",
       "2           0           0       0       0     0          0        0    0   \n",
       "3           0           0       0       0     0          0        0    0   \n",
       "4           0           0       0       0     0          0        0    0   \n",
       "\n",
       "   keuangan  \n",
       "0         0  \n",
       "1         0  \n",
       "2         0  \n",
       "3         0  \n",
       "4         0  \n",
       "\n",
       "[5 rows x 26 columns]"
      ],
      "text/html": "<div>\n<style scoped>\n    .dataframe tbody tr th:only-of-type {\n        vertical-align: middle;\n    }\n\n    .dataframe tbody tr th {\n        vertical-align: top;\n    }\n\n    .dataframe thead th {\n        text-align: right;\n    }\n</style>\n<table border=\"1\" class=\"dataframe\">\n  <thead>\n    <tr style=\"text-align: right;\">\n      <th></th>\n      <th>perselisihan</th>\n      <th>infrastruktur</th>\n      <th>pemerintah</th>\n      <th>kesehatan</th>\n      <th>teknologi</th>\n      <th>administrasi</th>\n      <th>fasilitas</th>\n      <th>lingkungan</th>\n      <th>ketertiban</th>\n      <th>listrik</th>\n      <th>...</th>\n      <th>air</th>\n      <th>pendidikan</th>\n      <th>kebersihan</th>\n      <th>sosial</th>\n      <th>wisata</th>\n      <th>sara</th>\n      <th>pencurian</th>\n      <th>korupsi</th>\n      <th>bbm</th>\n      <th>keuangan</th>\n    </tr>\n  </thead>\n  <tbody>\n    <tr>\n      <th>0</th>\n      <td>0</td>\n      <td>0</td>\n      <td>0</td>\n      <td>0</td>\n      <td>1</td>\n      <td>0</td>\n      <td>0</td>\n      <td>0</td>\n      <td>0</td>\n      <td>0</td>\n      <td>...</td>\n      <td>0</td>\n      <td>0</td>\n      <td>0</td>\n      <td>0</td>\n      <td>0</td>\n      <td>0</td>\n      <td>0</td>\n      <td>0</td>\n      <td>0</td>\n      <td>0</td>\n    </tr>\n    <tr>\n      <th>1</th>\n      <td>1</td>\n      <td>0</td>\n      <td>0</td>\n      <td>0</td>\n      <td>0</td>\n      <td>0</td>\n      <td>0</td>\n      <td>0</td>\n      <td>0</td>\n      <td>0</td>\n      <td>...</td>\n      <td>0</td>\n      <td>0</td>\n      <td>0</td>\n      <td>0</td>\n      <td>0</td>\n      <td>0</td>\n      <td>0</td>\n      <td>0</td>\n      <td>0</td>\n      <td>0</td>\n    </tr>\n    <tr>\n      <th>2</th>\n      <td>0</td>\n      <td>1</td>\n      <td>0</td>\n      <td>0</td>\n      <td>0</td>\n      <td>0</td>\n      <td>0</td>\n      <td>0</td>\n      <td>0</td>\n      <td>0</td>\n      <td>...</td>\n      <td>0</td>\n      <td>0</td>\n      <td>0</td>\n      <td>0</td>\n      <td>0</td>\n      <td>0</td>\n      <td>0</td>\n      <td>0</td>\n      <td>0</td>\n      <td>0</td>\n    </tr>\n    <tr>\n      <th>3</th>\n      <td>0</td>\n      <td>0</td>\n      <td>1</td>\n      <td>0</td>\n      <td>0</td>\n      <td>0</td>\n      <td>0</td>\n      <td>0</td>\n      <td>0</td>\n      <td>0</td>\n      <td>...</td>\n      <td>0</td>\n      <td>0</td>\n      <td>0</td>\n      <td>0</td>\n      <td>0</td>\n      <td>0</td>\n      <td>0</td>\n      <td>0</td>\n      <td>0</td>\n      <td>0</td>\n    </tr>\n    <tr>\n      <th>4</th>\n      <td>0</td>\n      <td>0</td>\n      <td>0</td>\n      <td>1</td>\n      <td>0</td>\n      <td>0</td>\n      <td>0</td>\n      <td>0</td>\n      <td>0</td>\n      <td>0</td>\n      <td>...</td>\n      <td>0</td>\n      <td>0</td>\n      <td>0</td>\n      <td>0</td>\n      <td>0</td>\n      <td>0</td>\n      <td>0</td>\n      <td>0</td>\n      <td>0</td>\n      <td>0</td>\n    </tr>\n  </tbody>\n</table>\n<p>5 rows × 26 columns</p>\n</div>"
     },
     "metadata": {},
     "execution_count": 6
    }
   ],
   "source": [
    "# Label head\n",
    "y.head()"
   ]
  },
  {
   "cell_type": "code",
   "execution_count": 7,
   "metadata": {},
   "outputs": [
    {
     "output_type": "stream",
     "name": "stderr",
     "text": [
      "<ipython-input-7-9d2cddb636c2>:8: SettingWithCopyWarning: \nA value is trying to be set on a copy of a slice from a DataFrame\n\nSee the caveats in the documentation: https://pandas.pydata.org/pandas-docs/stable/user_guide/indexing.html#returning-a-view-versus-a-copy\n  x[i] = stopword.remove(x[i])\n<ipython-input-7-9d2cddb636c2>:9: SettingWithCopyWarning: \nA value is trying to be set on a copy of a slice from a DataFrame\n\nSee the caveats in the documentation: https://pandas.pydata.org/pandas-docs/stable/user_guide/indexing.html#returning-a-view-versus-a-copy\n  x[i] = stemmer.stem(x[i])\n"
     ]
    },
    {
     "output_type": "execute_result",
     "data": {
      "text/plain": [
       "0    bantu normal sistem lpse kabupaten demak mana ...\n",
       "1    ass gubsaya perangkat desa karangsari kec kara...\n",
       "2    selamat sore gubernur mewakilisaya ahmad rofiq...\n",
       "3    assalamualaikum gub urus paguyuban dagang puja...\n",
       "4    lapor okada arle sandi email okadaarlegmailcom...\n",
       "Name: text, dtype: object"
      ]
     },
     "metadata": {},
     "execution_count": 7
    }
   ],
   "source": [
    "stemmer_factory = StemmerFactory()\n",
    "stemmer = stemmer_factory.create_stemmer()\n",
    "\n",
    "stopword_factory = StopWordRemoverFactory()\n",
    "stopword = stopword_factory.create_stop_word_remover()\n",
    "\n",
    "for i in range(len(x)):\n",
    "    x[i] = stopword.remove(x[i])\n",
    "    x[i] = stemmer.stem(x[i])\n",
    "\n",
    "x.head()"
   ]
  },
  {
   "cell_type": "code",
   "execution_count": 8,
   "metadata": {},
   "outputs": [],
   "source": [
    "# Tokenize and pad text\n",
    "vocab_size = 2000\n",
    "embedding_dim = 16\n",
    "max_length = 300\n",
    "trunc_type = \"post\"\n",
    "oov_token = \"<OOV>\"\n",
    "\n",
    "tokenizer = Tokenizer(num_words = vocab_size, oov_token=oov_token)\n",
    "tokenizer.fit_on_texts(x)\n",
    "\n",
    "sequences = tokenizer.texts_to_sequences(x)\n",
    "\n",
    "padded = pad_sequences(sequences, maxlen=max_length, truncating=trunc_type)"
   ]
  },
  {
   "cell_type": "code",
   "execution_count": 9,
   "metadata": {
    "tags": []
   },
   "outputs": [
    {
     "output_type": "stream",
     "name": "stdout",
     "text": [
      "72\n18\n"
     ]
    }
   ],
   "source": [
    "# Shuffle, batch and separate data into train, dev and test\n",
    "BUFFER_SIZE = 1000\n",
    "BATCH_SIZE = 32\n",
    "DATASET_SIZE = len(x)\n",
    "\n",
    "\n",
    "tx = tf.convert_to_tensor(padded)\n",
    "ty = tf.convert_to_tensor(y)\n",
    "\n",
    "dataset = tf.data.Dataset.from_tensor_slices((tx, ty))\n",
    "dataset = dataset.shuffle(BUFFER_SIZE).batch(BATCH_SIZE)\n",
    "\n",
    "train_set = dataset.take(int(0.8 * len(dataset)))\n",
    "test_set = dataset.skip(int(0.8 * len(dataset)))\n",
    "test_set = dataset.take(int(0.2 * len(dataset))) \n",
    "\n",
    "print(len(train_set))\n",
    "print(len(test_set))"
   ]
  },
  {
   "cell_type": "code",
   "execution_count": 10,
   "metadata": {},
   "outputs": [
    {
     "output_type": "stream",
     "name": "stdout",
     "text": [
      "Model: \"sequential\"\n_________________________________________________________________\nLayer (type)                 Output Shape              Param #   \n=================================================================\nembedding (Embedding)        (None, None, 128)         256000    \n_________________________________________________________________\nbidirectional (Bidirectional (None, None, 256)         263168    \n_________________________________________________________________\nbidirectional_1 (Bidirection (None, 128)               164352    \n_________________________________________________________________\ndense (Dense)                (None, 128)               16512     \n_________________________________________________________________\ndense_1 (Dense)              (None, 64)                8256      \n_________________________________________________________________\ndense_2 (Dense)              (None, 32)                2080      \n_________________________________________________________________\ndense_3 (Dense)              (None, 26)                858       \n=================================================================\nTotal params: 711,226\nTrainable params: 711,226\nNon-trainable params: 0\n_________________________________________________________________\n"
     ]
    }
   ],
   "source": [
    "model = tf.keras.Sequential([\n",
    "    tf.keras.layers.Embedding(vocab_size, 128),\n",
    "    tf.keras.layers.Bidirectional(tf.keras.layers.LSTM(128, return_sequences=True)),\n",
    "    tf.keras.layers.Bidirectional(tf.keras.layers.LSTM(64)),\n",
    "    tf.keras.layers.Dense(128, activation='relu'),\n",
    "    tf.keras.layers.Dense(64, activation='relu'),\n",
    "    tf.keras.layers.Dense(32, activation='relu'),\n",
    "    tf.keras.layers.Dense(26, activation='sigmoid')\n",
    "])\n",
    "\n",
    "model.summary()"
   ]
  },
  {
   "cell_type": "code",
   "execution_count": 11,
   "metadata": {},
   "outputs": [],
   "source": [
    "model.compile(loss='binary_crossentropy', optimizer='adam', metrics=['accuracy'])"
   ]
  },
  {
   "cell_type": "code",
   "execution_count": 12,
   "metadata": {},
   "outputs": [
    {
     "output_type": "stream",
     "name": "stdout",
     "text": [
      "Epoch 1/75\n",
      "72/72 [==============================] - 129s 1s/step - loss: 0.2492 - accuracy: 0.2300 - val_loss: 0.1210 - val_accuracy: 0.2344\n",
      "Epoch 2/75\n",
      "72/72 [==============================] - 105s 1s/step - loss: 0.1271 - accuracy: 0.2235 - val_loss: 0.1180 - val_accuracy: 0.2483\n",
      "Epoch 3/75\n",
      "72/72 [==============================] - 118s 2s/step - loss: 0.1258 - accuracy: 0.2365 - val_loss: 0.1165 - val_accuracy: 0.2378\n",
      "Epoch 4/75\n",
      "72/72 [==============================] - 112s 2s/step - loss: 0.1255 - accuracy: 0.2461 - val_loss: 0.1192 - val_accuracy: 0.2344\n",
      "Epoch 5/75\n",
      "72/72 [==============================] - 117s 2s/step - loss: 0.1261 - accuracy: 0.2435 - val_loss: 0.1178 - val_accuracy: 0.2378\n",
      "Epoch 6/75\n",
      "72/72 [==============================] - 103s 1s/step - loss: 0.1259 - accuracy: 0.2378 - val_loss: 0.1186 - val_accuracy: 0.2483\n",
      "Epoch 7/75\n",
      "72/72 [==============================] - 104s 1s/step - loss: 0.1251 - accuracy: 0.2448 - val_loss: 0.1181 - val_accuracy: 0.2274\n",
      "Epoch 8/75\n",
      "72/72 [==============================] - 102s 1s/step - loss: 0.1247 - accuracy: 0.2409 - val_loss: 0.1158 - val_accuracy: 0.2274\n",
      "Epoch 9/75\n",
      "72/72 [==============================] - 90s 1s/step - loss: 0.1246 - accuracy: 0.2478 - val_loss: 0.1165 - val_accuracy: 0.2396\n",
      "Epoch 10/75\n",
      "72/72 [==============================] - 89s 1s/step - loss: 0.1225 - accuracy: 0.2496 - val_loss: 0.1122 - val_accuracy: 0.2656\n",
      "Epoch 11/75\n",
      "72/72 [==============================] - 87s 1s/step - loss: 0.1197 - accuracy: 0.2873 - val_loss: 0.1096 - val_accuracy: 0.2969\n",
      "Epoch 12/75\n",
      "72/72 [==============================] - 89s 1s/step - loss: 0.1157 - accuracy: 0.3108 - val_loss: 0.1025 - val_accuracy: 0.3490\n",
      "Epoch 13/75\n",
      "72/72 [==============================] - 88s 1s/step - loss: 0.1133 - accuracy: 0.3242 - val_loss: 0.1057 - val_accuracy: 0.3628\n",
      "Epoch 14/75\n",
      "72/72 [==============================] - 79s 1s/step - loss: 0.1103 - accuracy: 0.3307 - val_loss: 0.1011 - val_accuracy: 0.3490\n",
      "Epoch 15/75\n",
      "72/72 [==============================] - 78s 1s/step - loss: 0.1086 - accuracy: 0.3446 - val_loss: 0.0990 - val_accuracy: 0.3351\n",
      "Epoch 16/75\n",
      "72/72 [==============================] - 79s 1s/step - loss: 0.1061 - accuracy: 0.3477 - val_loss: 0.1028 - val_accuracy: 0.3507\n",
      "Epoch 17/75\n",
      "72/72 [==============================] - 79s 1s/step - loss: 0.1047 - accuracy: 0.3494 - val_loss: 0.0957 - val_accuracy: 0.3681\n",
      "Epoch 18/75\n",
      "72/72 [==============================] - 78s 1s/step - loss: 0.1021 - accuracy: 0.3650 - val_loss: 0.0968 - val_accuracy: 0.3594\n",
      "Epoch 19/75\n",
      "72/72 [==============================] - 79s 1s/step - loss: 0.1018 - accuracy: 0.3529 - val_loss: 0.0894 - val_accuracy: 0.3524\n",
      "Epoch 20/75\n",
      "72/72 [==============================] - 78s 1s/step - loss: 0.0986 - accuracy: 0.3850 - val_loss: 0.0954 - val_accuracy: 0.3542\n",
      "Epoch 21/75\n",
      "72/72 [==============================] - 78s 1s/step - loss: 0.0996 - accuracy: 0.3715 - val_loss: 0.0926 - val_accuracy: 0.3455\n",
      "Epoch 22/75\n",
      "72/72 [==============================] - 79s 1s/step - loss: 0.0973 - accuracy: 0.3767 - val_loss: 0.0895 - val_accuracy: 0.3611\n",
      "Epoch 23/75\n",
      "72/72 [==============================] - 78s 1s/step - loss: 0.0973 - accuracy: 0.3780 - val_loss: 0.0868 - val_accuracy: 0.4010\n",
      "Epoch 24/75\n",
      "72/72 [==============================] - 78s 1s/step - loss: 0.0954 - accuracy: 0.3937 - val_loss: 0.0935 - val_accuracy: 0.3681\n",
      "Epoch 25/75\n",
      "72/72 [==============================] - 78s 1s/step - loss: 0.0963 - accuracy: 0.3772 - val_loss: 0.0894 - val_accuracy: 0.3611\n",
      "Epoch 26/75\n",
      "72/72 [==============================] - 78s 1s/step - loss: 0.0959 - accuracy: 0.3832 - val_loss: 0.0871 - val_accuracy: 0.3889\n",
      "Epoch 27/75\n",
      "72/72 [==============================] - 77s 1s/step - loss: 0.0924 - accuracy: 0.3980 - val_loss: 0.0874 - val_accuracy: 0.3524\n",
      "Epoch 28/75\n",
      "72/72 [==============================] - 77s 1s/step - loss: 0.0920 - accuracy: 0.3902 - val_loss: 0.0827 - val_accuracy: 0.4010\n",
      "Epoch 29/75\n",
      "72/72 [==============================] - 77s 1s/step - loss: 0.0917 - accuracy: 0.3993 - val_loss: 0.0838 - val_accuracy: 0.4392\n",
      "Epoch 30/75\n",
      "72/72 [==============================] - 78s 1s/step - loss: 0.0902 - accuracy: 0.4136 - val_loss: 0.0799 - val_accuracy: 0.4045\n",
      "Epoch 31/75\n",
      "72/72 [==============================] - 78s 1s/step - loss: 0.0888 - accuracy: 0.4045 - val_loss: 0.0819 - val_accuracy: 0.3854\n",
      "Epoch 32/75\n",
      "72/72 [==============================] - 77s 1s/step - loss: 0.0876 - accuracy: 0.4158 - val_loss: 0.0790 - val_accuracy: 0.3906\n",
      "Epoch 33/75\n",
      "72/72 [==============================] - 80s 1s/step - loss: 0.0853 - accuracy: 0.4219 - val_loss: 0.0762 - val_accuracy: 0.4184\n",
      "Epoch 34/75\n",
      "72/72 [==============================] - 78s 1s/step - loss: 0.0840 - accuracy: 0.4214 - val_loss: 0.0785 - val_accuracy: 0.4253\n",
      "Epoch 35/75\n",
      "72/72 [==============================] - 78s 1s/step - loss: 0.0846 - accuracy: 0.4319 - val_loss: 0.0748 - val_accuracy: 0.4184\n",
      "Epoch 36/75\n",
      "72/72 [==============================] - 79s 1s/step - loss: 0.0842 - accuracy: 0.4397 - val_loss: 0.0770 - val_accuracy: 0.4028\n",
      "Epoch 37/75\n",
      "72/72 [==============================] - 79s 1s/step - loss: 0.0824 - accuracy: 0.4284 - val_loss: 0.0732 - val_accuracy: 0.4462\n",
      "Epoch 38/75\n",
      "72/72 [==============================] - 79s 1s/step - loss: 0.0795 - accuracy: 0.4484 - val_loss: 0.0696 - val_accuracy: 0.4566\n",
      "Epoch 39/75\n",
      "72/72 [==============================] - 79s 1s/step - loss: 0.0782 - accuracy: 0.4462 - val_loss: 0.0709 - val_accuracy: 0.4583\n",
      "Epoch 40/75\n",
      "72/72 [==============================] - 81s 1s/step - loss: 0.0791 - accuracy: 0.4536 - val_loss: 0.0747 - val_accuracy: 0.3993\n",
      "Epoch 41/75\n",
      "72/72 [==============================] - 79s 1s/step - loss: 0.0774 - accuracy: 0.4622 - val_loss: 0.0694 - val_accuracy: 0.4427\n",
      "Epoch 42/75\n",
      "72/72 [==============================] - 78s 1s/step - loss: 0.0768 - accuracy: 0.4670 - val_loss: 0.0689 - val_accuracy: 0.4722\n",
      "Epoch 43/75\n",
      "72/72 [==============================] - 78s 1s/step - loss: 0.0744 - accuracy: 0.4783 - val_loss: 0.0681 - val_accuracy: 0.4653\n",
      "Epoch 44/75\n",
      "72/72 [==============================] - 79s 1s/step - loss: 0.0729 - accuracy: 0.4809 - val_loss: 0.0653 - val_accuracy: 0.4913\n",
      "Epoch 45/75\n",
      "72/72 [==============================] - 79s 1s/step - loss: 0.0705 - accuracy: 0.5022 - val_loss: 0.0609 - val_accuracy: 0.5052\n",
      "Epoch 46/75\n",
      "72/72 [==============================] - 78s 1s/step - loss: 0.0699 - accuracy: 0.5100 - val_loss: 0.0603 - val_accuracy: 0.4722\n",
      "Epoch 47/75\n",
      "72/72 [==============================] - 78s 1s/step - loss: 0.0686 - accuracy: 0.5174 - val_loss: 0.0634 - val_accuracy: 0.4757\n",
      "Epoch 48/75\n",
      "72/72 [==============================] - 79s 1s/step - loss: 0.0666 - accuracy: 0.5208 - val_loss: 0.0602 - val_accuracy: 0.5000\n",
      "Epoch 49/75\n",
      "72/72 [==============================] - 79s 1s/step - loss: 0.0674 - accuracy: 0.5156 - val_loss: 0.0569 - val_accuracy: 0.5295\n",
      "Epoch 50/75\n",
      "72/72 [==============================] - 79s 1s/step - loss: 0.0644 - accuracy: 0.5343 - val_loss: 0.0566 - val_accuracy: 0.5521\n",
      "Epoch 51/75\n",
      "72/72 [==============================] - 79s 1s/step - loss: 0.0606 - accuracy: 0.5638 - val_loss: 0.0551 - val_accuracy: 0.5260\n",
      "Epoch 52/75\n",
      "72/72 [==============================] - 78s 1s/step - loss: 0.0604 - accuracy: 0.5573 - val_loss: 0.0562 - val_accuracy: 0.5538\n",
      "Epoch 53/75\n",
      "72/72 [==============================] - 78s 1s/step - loss: 0.0594 - accuracy: 0.5595 - val_loss: 0.0530 - val_accuracy: 0.5781\n",
      "Epoch 54/75\n",
      "72/72 [==============================] - 79s 1s/step - loss: 0.0595 - accuracy: 0.5655 - val_loss: 0.0578 - val_accuracy: 0.5451\n",
      "Epoch 55/75\n",
      "72/72 [==============================] - 78s 1s/step - loss: 0.0601 - accuracy: 0.5547 - val_loss: 0.0487 - val_accuracy: 0.5330\n",
      "Epoch 56/75\n",
      "72/72 [==============================] - 78s 1s/step - loss: 0.0572 - accuracy: 0.5738 - val_loss: 0.0486 - val_accuracy: 0.5417\n",
      "Epoch 57/75\n",
      "72/72 [==============================] - 84s 1s/step - loss: 0.0550 - accuracy: 0.5838 - val_loss: 0.0527 - val_accuracy: 0.5556\n",
      "Epoch 58/75\n",
      "72/72 [==============================] - 86s 1s/step - loss: 0.0537 - accuracy: 0.5885 - val_loss: 0.0492 - val_accuracy: 0.5972\n",
      "Epoch 59/75\n",
      "72/72 [==============================] - 79s 1s/step - loss: 0.0532 - accuracy: 0.6059 - val_loss: 0.0483 - val_accuracy: 0.5556\n",
      "Epoch 60/75\n",
      "72/72 [==============================] - 80s 1s/step - loss: 0.0516 - accuracy: 0.6150 - val_loss: 0.0467 - val_accuracy: 0.5799\n",
      "Epoch 61/75\n",
      "72/72 [==============================] - 79s 1s/step - loss: 0.0492 - accuracy: 0.6376 - val_loss: 0.0519 - val_accuracy: 0.5295\n",
      "Epoch 62/75\n",
      "72/72 [==============================] - 80s 1s/step - loss: 0.0506 - accuracy: 0.6150 - val_loss: 0.0441 - val_accuracy: 0.6111\n",
      "Epoch 63/75\n",
      "72/72 [==============================] - 81s 1s/step - loss: 0.0483 - accuracy: 0.6367 - val_loss: 0.0445 - val_accuracy: 0.6250\n",
      "Epoch 64/75\n",
      "72/72 [==============================] - 81s 1s/step - loss: 0.0481 - accuracy: 0.6411 - val_loss: 0.0429 - val_accuracy: 0.6302\n",
      "Epoch 65/75\n",
      "72/72 [==============================] - 81s 1s/step - loss: 0.0461 - accuracy: 0.6415 - val_loss: 0.0402 - val_accuracy: 0.6337\n",
      "Epoch 66/75\n",
      "72/72 [==============================] - 81s 1s/step - loss: 0.0447 - accuracy: 0.6619 - val_loss: 0.0420 - val_accuracy: 0.6215\n",
      "Epoch 67/75\n",
      "72/72 [==============================] - 80s 1s/step - loss: 0.0446 - accuracy: 0.6532 - val_loss: 0.0391 - val_accuracy: 0.6146\n",
      "Epoch 68/75\n",
      "72/72 [==============================] - 79s 1s/step - loss: 0.0439 - accuracy: 0.6606 - val_loss: 0.0439 - val_accuracy: 0.6094\n",
      "Epoch 69/75\n",
      "72/72 [==============================] - 80s 1s/step - loss: 0.0445 - accuracy: 0.6701 - val_loss: 0.0369 - val_accuracy: 0.6406\n",
      "Epoch 70/75\n",
      "72/72 [==============================] - 79s 1s/step - loss: 0.0415 - accuracy: 0.6845 - val_loss: 0.0333 - val_accuracy: 0.6580\n",
      "Epoch 71/75\n",
      "72/72 [==============================] - 79s 1s/step - loss: 0.0415 - accuracy: 0.6836 - val_loss: 0.0386 - val_accuracy: 0.6476\n",
      "Epoch 72/75\n",
      "72/72 [==============================] - 80s 1s/step - loss: 0.0397 - accuracy: 0.6905 - val_loss: 0.0335 - val_accuracy: 0.6840\n",
      "Epoch 73/75\n",
      "72/72 [==============================] - 81s 1s/step - loss: 0.0394 - accuracy: 0.6962 - val_loss: 0.0328 - val_accuracy: 0.6788\n",
      "Epoch 74/75\n",
      "72/72 [==============================] - 80s 1s/step - loss: 0.0372 - accuracy: 0.7122 - val_loss: 0.0312 - val_accuracy: 0.6753\n",
      "Epoch 75/75\n",
      "72/72 [==============================] - 81s 1s/step - loss: 0.0366 - accuracy: 0.7075 - val_loss: 0.0302 - val_accuracy: 0.6927\n"
     ]
    }
   ],
   "source": [
    "NUM_EPOCHS = 75\n",
    "history = model.fit(train_set, epochs=NUM_EPOCHS, validation_data=test_set)"
   ]
  },
  {
   "cell_type": "code",
   "execution_count": 13,
   "metadata": {},
   "outputs": [],
   "source": [
    "def treatinput(inp):\n",
    "    # Make string into lowercase string\n",
    "    treated = inp.lower()\n",
    "    # remove punctuation\n",
    "    treated = treated.translate(str.maketrans(\"\",\"\",string.punctuation))\n",
    "    # remove trailing whitespace\n",
    "    treated = treated.strip()\n",
    "    # Remove stopwords\n",
    "    treated = stopword.remove(treated)\n",
    "    # Stem string\n",
    "    treated = stemmer.stem(treated)\n",
    "    return treated"
   ]
  },
  {
   "cell_type": "code",
   "execution_count": null,
   "metadata": {},
   "outputs": [],
   "source": [
    "# sample inferrece\n",
    "sample_laporan = \"Listrik di kampung kami sudah mati selama 3 hari\"\n",
    "treated_input = treatinput(sample_laporan)\n",
    "pad = pad_sequences(tokenizer.texts_to_sequences([treated_input]), maxlen=max_length, truncating=trunc_type)\n",
    "prediction = model.predict(pad)\n",
    "\n",
    "res = dict(zip(label_list, prediction[0]))"
   ]
  },
  {
   "cell_type": "code",
   "execution_count": 120,
   "metadata": {},
   "outputs": [
    {
     "output_type": "stream",
     "name": "stdout",
     "text": [
      "perselisihan 0.00000\ninfrastruktur 0.00155\npemerintah 0.01193\nkesehatan 0.00000\nteknologi 0.00030\nadministrasi 0.00000\nfasilitas 0.02860\nlingkungan 0.00123\nketertiban 0.00000\nlistrik 0.01765\nbahaya 0.00166\nlainnya 0.00000\npungli 0.00000\nilegal 0.00841\nlalulintas 0.00014\nbencana 0.02040\nair 0.47004\npendidikan 0.00000\nkebersihan 0.00165\nsosial 0.00000\nwisata 0.00001\nsara 0.00069\npencurian 0.00000\nkorupsi 0.00000\nbbm 0.00000\nkeuangan 0.00000\n"
     ]
    }
   ],
   "source": [
    "for i in res.keys():\n",
    "    # if(res[i] > 0.6):\n",
    "    print(\"{} {:.5f}\".format(i, res[i]))"
   ]
  },
  {
   "cell_type": "code",
   "execution_count": null,
   "metadata": {},
   "outputs": [],
   "source": []
  }
 ]
}