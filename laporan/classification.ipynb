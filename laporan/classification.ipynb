{
 "metadata": {
  "orig_nbformat": 2,
  "kernelspec": {
   "name": "python395jvsc74a57bd0ac59ebe37160ed0dfa835113d9b8498d9f09ceb179beaac4002f036b9467c963",
   "display_name": "Python 3.9.5 64-bit"
  },
  "metadata": {
   "interpreter": {
    "hash": "ac59ebe37160ed0dfa835113d9b8498d9f09ceb179beaac4002f036b9467c963"
   }
  }
 },
 "nbformat": 4,
 "nbformat_minor": 2,
 "cells": [
  {
   "source": [
    "# Text Classification Notebook"
   ],
   "cell_type": "markdown",
   "metadata": {}
  },
  {
   "source": [
    "!pip install --upgrade pip\n",
    "!pip install tensorflow\n",
    "!pip install pandas\n",
    "!pip install numpy"
   ],
   "cell_type": "code",
   "metadata": {},
   "execution_count": 1,
   "outputs": [
    {
     "output_type": "stream",
     "name": "stdout",
     "text": [
      "Defaulting to user installation because normal site-packages is not writeable\n",
      "Requirement already satisfied: pip in c:\\program files\\python39\\lib\\site-packages (21.1.1)\n",
      "^C\n"
     ]
    }
   ]
  },
  {
   "cell_type": "code",
   "execution_count": 211,
   "metadata": {},
   "outputs": [],
   "source": [
    "# Machine Learning related imports\n",
    "import tensorflow as tf\n",
    "\n",
    "from tensorflow.keras.preprocessing.text import Tokenizer\n",
    "from tensorflow.keras.preprocessing.sequence import pad_sequences\n",
    "from tensorflow.keras.layers import Input"
   ]
  },
  {
   "cell_type": "code",
   "execution_count": 212,
   "metadata": {},
   "outputs": [],
   "source": [
    "# Dataset and generic imports\n",
    "import pandas as pd\n",
    "import numpy as np\n",
    "import os"
   ]
  },
  {
   "cell_type": "code",
   "execution_count": 213,
   "metadata": {},
   "outputs": [
    {
     "output_type": "stream",
     "name": "stdout",
     "text": [
      "(2852, 27)\n"
     ]
    },
    {
     "output_type": "execute_result",
     "data": {
      "text/plain": [
       "                                                text  perselisihan  \\\n",
       "0  mohon bantuannya untuk menormalkan sistem di l...             0   \n",
       "1  ass pak gubsaya perangkat desa karangsari kec ...             1   \n",
       "2  selamat sore bapak gubernur atau yang mewakili...             0   \n",
       "3  assalamualaikum pak gub saya pengurus paguyuba...             0   \n",
       "4  lapor saya okada arle sandi email  okadaarlegm...             0   \n",
       "\n",
       "   infrastruktur  pemerintah  kesehatan  teknologi  administrasi  fasilitas  \\\n",
       "0              0           0          0          1             0          0   \n",
       "1              0           0          0          0             0          0   \n",
       "2              1           0          0          0             0          0   \n",
       "3              0           1          0          0             0          0   \n",
       "4              0           0          1          0             0          0   \n",
       "\n",
       "   lingkungan  ketertiban  ...  air  pendidikan  kebersihan  sosial  wisata  \\\n",
       "0           0           0  ...    0           0           0       0       0   \n",
       "1           0           0  ...    0           0           0       0       0   \n",
       "2           0           0  ...    0           0           0       0       0   \n",
       "3           0           0  ...    0           0           0       0       0   \n",
       "4           0           0  ...    0           0           0       0       0   \n",
       "\n",
       "   sara  pencurian  korupsi  bbm  keuangan  \n",
       "0     0          0        0    0         0  \n",
       "1     0          0        0    0         0  \n",
       "2     0          0        0    0         0  \n",
       "3     0          0        0    0         0  \n",
       "4     0          0        0    0         0  \n",
       "\n",
       "[5 rows x 27 columns]"
      ],
      "text/html": "<div>\n<style scoped>\n    .dataframe tbody tr th:only-of-type {\n        vertical-align: middle;\n    }\n\n    .dataframe tbody tr th {\n        vertical-align: top;\n    }\n\n    .dataframe thead th {\n        text-align: right;\n    }\n</style>\n<table border=\"1\" class=\"dataframe\">\n  <thead>\n    <tr style=\"text-align: right;\">\n      <th></th>\n      <th>text</th>\n      <th>perselisihan</th>\n      <th>infrastruktur</th>\n      <th>pemerintah</th>\n      <th>kesehatan</th>\n      <th>teknologi</th>\n      <th>administrasi</th>\n      <th>fasilitas</th>\n      <th>lingkungan</th>\n      <th>ketertiban</th>\n      <th>...</th>\n      <th>air</th>\n      <th>pendidikan</th>\n      <th>kebersihan</th>\n      <th>sosial</th>\n      <th>wisata</th>\n      <th>sara</th>\n      <th>pencurian</th>\n      <th>korupsi</th>\n      <th>bbm</th>\n      <th>keuangan</th>\n    </tr>\n  </thead>\n  <tbody>\n    <tr>\n      <th>0</th>\n      <td>mohon bantuannya untuk menormalkan sistem di l...</td>\n      <td>0</td>\n      <td>0</td>\n      <td>0</td>\n      <td>0</td>\n      <td>1</td>\n      <td>0</td>\n      <td>0</td>\n      <td>0</td>\n      <td>0</td>\n      <td>...</td>\n      <td>0</td>\n      <td>0</td>\n      <td>0</td>\n      <td>0</td>\n      <td>0</td>\n      <td>0</td>\n      <td>0</td>\n      <td>0</td>\n      <td>0</td>\n      <td>0</td>\n    </tr>\n    <tr>\n      <th>1</th>\n      <td>ass pak gubsaya perangkat desa karangsari kec ...</td>\n      <td>1</td>\n      <td>0</td>\n      <td>0</td>\n      <td>0</td>\n      <td>0</td>\n      <td>0</td>\n      <td>0</td>\n      <td>0</td>\n      <td>0</td>\n      <td>...</td>\n      <td>0</td>\n      <td>0</td>\n      <td>0</td>\n      <td>0</td>\n      <td>0</td>\n      <td>0</td>\n      <td>0</td>\n      <td>0</td>\n      <td>0</td>\n      <td>0</td>\n    </tr>\n    <tr>\n      <th>2</th>\n      <td>selamat sore bapak gubernur atau yang mewakili...</td>\n      <td>0</td>\n      <td>1</td>\n      <td>0</td>\n      <td>0</td>\n      <td>0</td>\n      <td>0</td>\n      <td>0</td>\n      <td>0</td>\n      <td>0</td>\n      <td>...</td>\n      <td>0</td>\n      <td>0</td>\n      <td>0</td>\n      <td>0</td>\n      <td>0</td>\n      <td>0</td>\n      <td>0</td>\n      <td>0</td>\n      <td>0</td>\n      <td>0</td>\n    </tr>\n    <tr>\n      <th>3</th>\n      <td>assalamualaikum pak gub saya pengurus paguyuba...</td>\n      <td>0</td>\n      <td>0</td>\n      <td>1</td>\n      <td>0</td>\n      <td>0</td>\n      <td>0</td>\n      <td>0</td>\n      <td>0</td>\n      <td>0</td>\n      <td>...</td>\n      <td>0</td>\n      <td>0</td>\n      <td>0</td>\n      <td>0</td>\n      <td>0</td>\n      <td>0</td>\n      <td>0</td>\n      <td>0</td>\n      <td>0</td>\n      <td>0</td>\n    </tr>\n    <tr>\n      <th>4</th>\n      <td>lapor saya okada arle sandi email  okadaarlegm...</td>\n      <td>0</td>\n      <td>0</td>\n      <td>0</td>\n      <td>1</td>\n      <td>0</td>\n      <td>0</td>\n      <td>0</td>\n      <td>0</td>\n      <td>0</td>\n      <td>...</td>\n      <td>0</td>\n      <td>0</td>\n      <td>0</td>\n      <td>0</td>\n      <td>0</td>\n      <td>0</td>\n      <td>0</td>\n      <td>0</td>\n      <td>0</td>\n      <td>0</td>\n    </tr>\n  </tbody>\n</table>\n<p>5 rows × 27 columns</p>\n</div>"
     },
     "metadata": {},
     "execution_count": 213
    }
   ],
   "source": [
    "# Load dataset\n",
    "filepath = os.getcwd()\n",
    "datasetpath =  os.path.join(filepath, \"cleaned_data\", \"laporanencoded.csv\")\n",
    "\n",
    "laporan = pd.read_csv(datasetpath)\n",
    "# Print dataset shape\n",
    "print(laporan.shape)\n",
    "# Print dataset head\n",
    "laporan.head()\n"
   ]
  },
  {
   "cell_type": "code",
   "execution_count": 225,
   "metadata": {},
   "outputs": [],
   "source": [
    "# Split text and labels\n",
    "x = laporan[\"text\"]\n",
    "y = laporan[[\n",
    "    \"perselisihan\",\n",
    "    \"infrastruktur\",\n",
    "    \"pemerintah\",\n",
    "    \"kesehatan\",\n",
    "    \"teknologi\",\n",
    "    \"administrasi\",\n",
    "    \"fasilitas\",\n",
    "    \"lingkungan\",\n",
    "    \"ketertiban\",\n",
    "    \"listrik\",\n",
    "    \"bahaya\",\n",
    "    \"lainnya\",\n",
    "    \"pungli\",\n",
    "    \"ilegal\",\n",
    "    \"lalulintas\",\n",
    "    \"bencana\",\n",
    "    \"air\",\n",
    "    \"pendidikan\",\n",
    "    \"kebersihan\",\n",
    "    \"sosial\",\n",
    "    \"wisata\",\n",
    "    \"sara\",\n",
    "    \"pencurian\",\n",
    "    \"korupsi\",\n",
    "    \"bbm\",\n",
    "    \"keuangan\"\n",
    "]]"
   ]
  },
  {
   "cell_type": "code",
   "execution_count": 226,
   "metadata": {},
   "outputs": [
    {
     "output_type": "execute_result",
     "data": {
      "text/plain": [
       "0    mohon bantuannya untuk menormalkan sistem di l...\n",
       "1    ass pak gubsaya perangkat desa karangsari kec ...\n",
       "2    selamat sore bapak gubernur atau yang mewakili...\n",
       "3    assalamualaikum pak gub saya pengurus paguyuba...\n",
       "4    lapor saya okada arle sandi email  okadaarlegm...\n",
       "Name: text, dtype: object"
      ]
     },
     "metadata": {},
     "execution_count": 226
    }
   ],
   "source": [
    "# Text head\n",
    "x.head()"
   ]
  },
  {
   "cell_type": "code",
   "execution_count": 227,
   "metadata": {},
   "outputs": [
    {
     "output_type": "execute_result",
     "data": {
      "text/plain": [
       "   perselisihan  infrastruktur  pemerintah  kesehatan  teknologi  \\\n",
       "0             0              0           0          0          1   \n",
       "1             1              0           0          0          0   \n",
       "2             0              1           0          0          0   \n",
       "3             0              0           1          0          0   \n",
       "4             0              0           0          1          0   \n",
       "\n",
       "   administrasi  fasilitas  lingkungan  ketertiban  listrik  ...  air  \\\n",
       "0             0          0           0           0        0  ...    0   \n",
       "1             0          0           0           0        0  ...    0   \n",
       "2             0          0           0           0        0  ...    0   \n",
       "3             0          0           0           0        0  ...    0   \n",
       "4             0          0           0           0        0  ...    0   \n",
       "\n",
       "   pendidikan  kebersihan  sosial  wisata  sara  pencurian  korupsi  bbm  \\\n",
       "0           0           0       0       0     0          0        0    0   \n",
       "1           0           0       0       0     0          0        0    0   \n",
       "2           0           0       0       0     0          0        0    0   \n",
       "3           0           0       0       0     0          0        0    0   \n",
       "4           0           0       0       0     0          0        0    0   \n",
       "\n",
       "   keuangan  \n",
       "0         0  \n",
       "1         0  \n",
       "2         0  \n",
       "3         0  \n",
       "4         0  \n",
       "\n",
       "[5 rows x 26 columns]"
      ],
      "text/html": "<div>\n<style scoped>\n    .dataframe tbody tr th:only-of-type {\n        vertical-align: middle;\n    }\n\n    .dataframe tbody tr th {\n        vertical-align: top;\n    }\n\n    .dataframe thead th {\n        text-align: right;\n    }\n</style>\n<table border=\"1\" class=\"dataframe\">\n  <thead>\n    <tr style=\"text-align: right;\">\n      <th></th>\n      <th>perselisihan</th>\n      <th>infrastruktur</th>\n      <th>pemerintah</th>\n      <th>kesehatan</th>\n      <th>teknologi</th>\n      <th>administrasi</th>\n      <th>fasilitas</th>\n      <th>lingkungan</th>\n      <th>ketertiban</th>\n      <th>listrik</th>\n      <th>...</th>\n      <th>air</th>\n      <th>pendidikan</th>\n      <th>kebersihan</th>\n      <th>sosial</th>\n      <th>wisata</th>\n      <th>sara</th>\n      <th>pencurian</th>\n      <th>korupsi</th>\n      <th>bbm</th>\n      <th>keuangan</th>\n    </tr>\n  </thead>\n  <tbody>\n    <tr>\n      <th>0</th>\n      <td>0</td>\n      <td>0</td>\n      <td>0</td>\n      <td>0</td>\n      <td>1</td>\n      <td>0</td>\n      <td>0</td>\n      <td>0</td>\n      <td>0</td>\n      <td>0</td>\n      <td>...</td>\n      <td>0</td>\n      <td>0</td>\n      <td>0</td>\n      <td>0</td>\n      <td>0</td>\n      <td>0</td>\n      <td>0</td>\n      <td>0</td>\n      <td>0</td>\n      <td>0</td>\n    </tr>\n    <tr>\n      <th>1</th>\n      <td>1</td>\n      <td>0</td>\n      <td>0</td>\n      <td>0</td>\n      <td>0</td>\n      <td>0</td>\n      <td>0</td>\n      <td>0</td>\n      <td>0</td>\n      <td>0</td>\n      <td>...</td>\n      <td>0</td>\n      <td>0</td>\n      <td>0</td>\n      <td>0</td>\n      <td>0</td>\n      <td>0</td>\n      <td>0</td>\n      <td>0</td>\n      <td>0</td>\n      <td>0</td>\n    </tr>\n    <tr>\n      <th>2</th>\n      <td>0</td>\n      <td>1</td>\n      <td>0</td>\n      <td>0</td>\n      <td>0</td>\n      <td>0</td>\n      <td>0</td>\n      <td>0</td>\n      <td>0</td>\n      <td>0</td>\n      <td>...</td>\n      <td>0</td>\n      <td>0</td>\n      <td>0</td>\n      <td>0</td>\n      <td>0</td>\n      <td>0</td>\n      <td>0</td>\n      <td>0</td>\n      <td>0</td>\n      <td>0</td>\n    </tr>\n    <tr>\n      <th>3</th>\n      <td>0</td>\n      <td>0</td>\n      <td>1</td>\n      <td>0</td>\n      <td>0</td>\n      <td>0</td>\n      <td>0</td>\n      <td>0</td>\n      <td>0</td>\n      <td>0</td>\n      <td>...</td>\n      <td>0</td>\n      <td>0</td>\n      <td>0</td>\n      <td>0</td>\n      <td>0</td>\n      <td>0</td>\n      <td>0</td>\n      <td>0</td>\n      <td>0</td>\n      <td>0</td>\n    </tr>\n    <tr>\n      <th>4</th>\n      <td>0</td>\n      <td>0</td>\n      <td>0</td>\n      <td>1</td>\n      <td>0</td>\n      <td>0</td>\n      <td>0</td>\n      <td>0</td>\n      <td>0</td>\n      <td>0</td>\n      <td>...</td>\n      <td>0</td>\n      <td>0</td>\n      <td>0</td>\n      <td>0</td>\n      <td>0</td>\n      <td>0</td>\n      <td>0</td>\n      <td>0</td>\n      <td>0</td>\n      <td>0</td>\n    </tr>\n  </tbody>\n</table>\n<p>5 rows × 26 columns</p>\n</div>"
     },
     "metadata": {},
     "execution_count": 227
    }
   ],
   "source": [
    "# Label head\n",
    "y.head()"
   ]
  },
  {
   "cell_type": "code",
   "execution_count": 228,
   "metadata": {},
   "outputs": [],
   "source": [
    "# Tokenize and pad text\n",
    "vocab_size = 2000\n",
    "embedding_dim = 16\n",
    "max_length = 300\n",
    "trunc_type = \"post\"\n",
    "oov_token = \"<OOV>\"\n",
    "\n",
    "tokenizer = Tokenizer(num_words = vocab_size, oov_token=oov_token)\n",
    "tokenizer.fit_on_texts(x)\n",
    "\n",
    "sequences = tokenizer.texts_to_sequences(x)\n",
    "\n",
    "padded = pad_sequences(sequences, maxlen=max_length, truncating=trunc_type)\n",
    "# x = tf.data.Dataset.from_tensor_slices(padded)\n",
    "# y = tf.data.Dataset.from_tensor_slices(y)"
   ]
  },
  {
   "cell_type": "code",
   "execution_count": 229,
   "metadata": {},
   "outputs": [],
   "source": [
    "# Shuffle, batch and separate data into train, dev and test\n",
    "# BUFFER_SIZE = 1000\n",
    "# BATCH_SIZE = 1\n",
    "# DATASET_SIZE = len(x)\n",
    "\n",
    "# dataset = tf.data.Dataset.zip((x, y))\n",
    "# dataset.shuffle(BUFFER_SIZE).batch(BATCH_SIZE)\n",
    "\n",
    "# train_set = dataset.take(int(0.8 * DATASET_SIZE))\n",
    "# test_set = dataset.skip(int(0.8 * DATASET_SIZE))\n",
    "# test_set = dataset.take(int(0.2 * DATASET_SIZE)) \n",
    "\n",
    "# print(len(train_set))\n",
    "# print(len(test_set))"
   ]
  },
  {
   "cell_type": "code",
   "execution_count": 230,
   "metadata": {},
   "outputs": [
    {
     "output_type": "stream",
     "name": "stdout",
     "text": [
      "Model: \"sequential_25\"\n_________________________________________________________________\nLayer (type)                 Output Shape              Param #   \n=================================================================\nembedding_25 (Embedding)     (None, None, 64)          128000    \n_________________________________________________________________\nbidirectional_25 (Bidirectio (None, 128)               66048     \n_________________________________________________________________\ndense_51 (Dense)             (None, 64)                8256      \n_________________________________________________________________\ndense_52 (Dense)             (None, 26)                1690      \n=================================================================\nTotal params: 203,994\nTrainable params: 203,994\nNon-trainable params: 0\n_________________________________________________________________\n"
     ]
    }
   ],
   "source": [
    "model = tf.keras.Sequential([\n",
    "    tf.keras.layers.Embedding(vocab_size, 64),\n",
    "    tf.keras.layers.Bidirectional(tf.keras.layers.LSTM(64)),\n",
    "    tf.keras.layers.Dense(64, activation='relu'),\n",
    "    tf.keras.layers.Dense(26, activation='sigmoid')\n",
    "])\n",
    "\n",
    "model.summary()"
   ]
  },
  {
   "cell_type": "code",
   "execution_count": 231,
   "metadata": {},
   "outputs": [],
   "source": [
    "model.compile(loss='binary_crossentropy', optimizer='adam', metrics=['accuracy'])"
   ]
  },
  {
   "cell_type": "code",
   "execution_count": 232,
   "metadata": {},
   "outputs": [
    {
     "output_type": "stream",
     "name": "stdout",
     "text": [
      "Epoch 1/5\n",
      "90/90 [==============================] - 78s 552ms/step - loss: 0.2377 - accuracy: 0.2300\n",
      "Epoch 2/5\n",
      "90/90 [==============================] - 60s 671ms/step - loss: 0.1266 - accuracy: 0.2430\n",
      "Epoch 3/5\n",
      "90/90 [==============================] - 52s 584ms/step - loss: 0.1263 - accuracy: 0.2430\n",
      "Epoch 4/5\n",
      "90/90 [==============================] - 53s 594ms/step - loss: 0.1265 - accuracy: 0.2430\n",
      "Epoch 5/5\n",
      "90/90 [==============================] - 51s 572ms/step - loss: 0.1260 - accuracy: 0.2430\n"
     ]
    }
   ],
   "source": [
    "NUM_EPOCHS = 5\n",
    "history = model.fit(padded, y, epochs=NUM_EPOCHS)"
   ]
  },
  {
   "cell_type": "code",
   "execution_count": null,
   "metadata": {},
   "outputs": [],
   "source": []
  }
 ]
}