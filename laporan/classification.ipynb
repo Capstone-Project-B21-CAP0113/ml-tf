{
 "metadata": {
  "orig_nbformat": 2,
  "kernelspec": {
   "name": "python395jvsc74a57bd0ac59ebe37160ed0dfa835113d9b8498d9f09ceb179beaac4002f036b9467c963",
   "display_name": "Python 3.9.5 64-bit"
  },
  "metadata": {
   "interpreter": {
    "hash": "ac59ebe37160ed0dfa835113d9b8498d9f09ceb179beaac4002f036b9467c963"
   }
  }
 },
 "nbformat": 4,
 "nbformat_minor": 2,
 "cells": [
  {
   "source": [
    "# Text Classification Notebook"
   ],
   "cell_type": "markdown",
   "metadata": {}
  },
  {
   "source": [
    "!pip install --upgrade pip\n",
    "!pip install tensorflow\n",
    "!pip install pandas\n",
    "!pip install numpy\n",
    "!pip install PySastrawi\n",
    "!pip install sklearn"
   ],
   "cell_type": "code",
   "metadata": {},
   "execution_count": null,
   "outputs": []
  },
  {
   "cell_type": "code",
   "execution_count": 33,
   "metadata": {},
   "outputs": [],
   "source": [
    "# Machine Learning related imports\n",
    "import tensorflow as tf\n",
    "\n",
    "from tensorflow.keras.preprocessing.text import Tokenizer\n",
    "from tensorflow.keras.preprocessing.sequence import pad_sequences\n",
    "from tensorflow.keras.layers import Input"
   ]
  },
  {
   "cell_type": "code",
   "execution_count": 34,
   "metadata": {},
   "outputs": [],
   "source": [
    "# Dataset and generic imports\n",
    "import pandas as pd\n",
    "import numpy as np\n",
    "import sklearn\n",
    "import os\n",
    "import string\n",
    "\n",
    "from Sastrawi.Stemmer.StemmerFactory import StemmerFactory\n",
    "from Sastrawi.StopWordRemover.StopWordRemoverFactory import StopWordRemoverFactory"
   ]
  },
  {
   "cell_type": "code",
   "execution_count": 35,
   "metadata": {},
   "outputs": [
    {
     "output_type": "stream",
     "name": "stdout",
     "text": [
      "(2852, 27)\n"
     ]
    },
    {
     "output_type": "execute_result",
     "data": {
      "text/plain": [
       "                                                text  perselisihan  \\\n",
       "0  mohon bantuannya untuk menormalkan sistem di l...             0   \n",
       "1  ass pak gubsaya perangkat desa karangsari kec ...             1   \n",
       "2  selamat sore bapak gubernur atau yang mewakili...             0   \n",
       "3  assalamualaikum pak gub saya pengurus paguyuba...             0   \n",
       "4  lapor saya okada arle sandi email  okadaarlegm...             0   \n",
       "\n",
       "   infrastruktur  pemerintah  kesehatan  teknologi  administrasi  fasilitas  \\\n",
       "0              0           0          0          1             0          0   \n",
       "1              0           0          0          0             0          0   \n",
       "2              1           0          0          0             0          0   \n",
       "3              0           1          0          0             0          0   \n",
       "4              0           0          1          0             0          0   \n",
       "\n",
       "   lingkungan  ketertiban  ...  air  pendidikan  kebersihan  sosial  wisata  \\\n",
       "0           0           0  ...    0           0           0       0       0   \n",
       "1           0           0  ...    0           0           0       0       0   \n",
       "2           0           0  ...    0           0           0       0       0   \n",
       "3           0           0  ...    0           0           0       0       0   \n",
       "4           0           0  ...    0           0           0       0       0   \n",
       "\n",
       "   sara  pencurian  korupsi  bbm  keuangan  \n",
       "0     0          0        0    0         0  \n",
       "1     0          0        0    0         0  \n",
       "2     0          0        0    0         0  \n",
       "3     0          0        0    0         0  \n",
       "4     0          0        0    0         0  \n",
       "\n",
       "[5 rows x 27 columns]"
      ],
      "text/html": "<div>\n<style scoped>\n    .dataframe tbody tr th:only-of-type {\n        vertical-align: middle;\n    }\n\n    .dataframe tbody tr th {\n        vertical-align: top;\n    }\n\n    .dataframe thead th {\n        text-align: right;\n    }\n</style>\n<table border=\"1\" class=\"dataframe\">\n  <thead>\n    <tr style=\"text-align: right;\">\n      <th></th>\n      <th>text</th>\n      <th>perselisihan</th>\n      <th>infrastruktur</th>\n      <th>pemerintah</th>\n      <th>kesehatan</th>\n      <th>teknologi</th>\n      <th>administrasi</th>\n      <th>fasilitas</th>\n      <th>lingkungan</th>\n      <th>ketertiban</th>\n      <th>...</th>\n      <th>air</th>\n      <th>pendidikan</th>\n      <th>kebersihan</th>\n      <th>sosial</th>\n      <th>wisata</th>\n      <th>sara</th>\n      <th>pencurian</th>\n      <th>korupsi</th>\n      <th>bbm</th>\n      <th>keuangan</th>\n    </tr>\n  </thead>\n  <tbody>\n    <tr>\n      <th>0</th>\n      <td>mohon bantuannya untuk menormalkan sistem di l...</td>\n      <td>0</td>\n      <td>0</td>\n      <td>0</td>\n      <td>0</td>\n      <td>1</td>\n      <td>0</td>\n      <td>0</td>\n      <td>0</td>\n      <td>0</td>\n      <td>...</td>\n      <td>0</td>\n      <td>0</td>\n      <td>0</td>\n      <td>0</td>\n      <td>0</td>\n      <td>0</td>\n      <td>0</td>\n      <td>0</td>\n      <td>0</td>\n      <td>0</td>\n    </tr>\n    <tr>\n      <th>1</th>\n      <td>ass pak gubsaya perangkat desa karangsari kec ...</td>\n      <td>1</td>\n      <td>0</td>\n      <td>0</td>\n      <td>0</td>\n      <td>0</td>\n      <td>0</td>\n      <td>0</td>\n      <td>0</td>\n      <td>0</td>\n      <td>...</td>\n      <td>0</td>\n      <td>0</td>\n      <td>0</td>\n      <td>0</td>\n      <td>0</td>\n      <td>0</td>\n      <td>0</td>\n      <td>0</td>\n      <td>0</td>\n      <td>0</td>\n    </tr>\n    <tr>\n      <th>2</th>\n      <td>selamat sore bapak gubernur atau yang mewakili...</td>\n      <td>0</td>\n      <td>1</td>\n      <td>0</td>\n      <td>0</td>\n      <td>0</td>\n      <td>0</td>\n      <td>0</td>\n      <td>0</td>\n      <td>0</td>\n      <td>...</td>\n      <td>0</td>\n      <td>0</td>\n      <td>0</td>\n      <td>0</td>\n      <td>0</td>\n      <td>0</td>\n      <td>0</td>\n      <td>0</td>\n      <td>0</td>\n      <td>0</td>\n    </tr>\n    <tr>\n      <th>3</th>\n      <td>assalamualaikum pak gub saya pengurus paguyuba...</td>\n      <td>0</td>\n      <td>0</td>\n      <td>1</td>\n      <td>0</td>\n      <td>0</td>\n      <td>0</td>\n      <td>0</td>\n      <td>0</td>\n      <td>0</td>\n      <td>...</td>\n      <td>0</td>\n      <td>0</td>\n      <td>0</td>\n      <td>0</td>\n      <td>0</td>\n      <td>0</td>\n      <td>0</td>\n      <td>0</td>\n      <td>0</td>\n      <td>0</td>\n    </tr>\n    <tr>\n      <th>4</th>\n      <td>lapor saya okada arle sandi email  okadaarlegm...</td>\n      <td>0</td>\n      <td>0</td>\n      <td>0</td>\n      <td>1</td>\n      <td>0</td>\n      <td>0</td>\n      <td>0</td>\n      <td>0</td>\n      <td>0</td>\n      <td>...</td>\n      <td>0</td>\n      <td>0</td>\n      <td>0</td>\n      <td>0</td>\n      <td>0</td>\n      <td>0</td>\n      <td>0</td>\n      <td>0</td>\n      <td>0</td>\n      <td>0</td>\n    </tr>\n  </tbody>\n</table>\n<p>5 rows × 27 columns</p>\n</div>"
     },
     "metadata": {},
     "execution_count": 35
    }
   ],
   "source": [
    "# Load dataset\n",
    "filepath = os.getcwd()\n",
    "datasetpath =  os.path.join(filepath, \"cleaned_data\", \"laporanencoded.csv\")\n",
    "\n",
    "github_url = \"https://raw.githubusercontent.com/Capstone-Project-B21-CAP0113/ml-tf/main/laporan/cleaned_data/laporanencoded.csv\"\n",
    "\n",
    "laporan = pd.read_csv(datasetpath, encoding=\"ISO-8859-1\")\n",
    "# Print dataset shape\n",
    "print(laporan.shape)\n",
    "# Print dataset head\n",
    "laporan.head()\n"
   ]
  },
  {
   "cell_type": "code",
   "execution_count": 36,
   "metadata": {},
   "outputs": [
    {
     "output_type": "stream",
     "name": "stdout",
     "text": [
      "perselisihan: 16\ninfrastruktur: 353\npemerintah: 68\nkesehatan: 80\nteknologi: 23\nadministrasi: 693\nfasilitas: 73\nlingkungan: 114\nketertiban: 87\nlistrik: 43\nbahaya: 22\nlainnya: 139\npungli: 106\nilegal: 47\nlalulintas: 42\nbencana: 58\nair: 85\npendidikan: 134\nkebersihan: 9\nsosial: 181\nwisata: 13\nsara: 7\npencurian: 6\nkorupsi: 39\nbbm: 1\nkeuangan: 82\n"
     ]
    }
   ],
   "source": [
    "# Split text and labels\n",
    "label_list = [\n",
    "    \"perselisihan\",\n",
    "    \"infrastruktur\",\n",
    "    \"pemerintah\",\n",
    "    \"kesehatan\",\n",
    "    \"teknologi\",\n",
    "    \"administrasi\",\n",
    "    \"fasilitas\",\n",
    "    \"lingkungan\",\n",
    "    \"ketertiban\",\n",
    "    \"listrik\",\n",
    "    \"bahaya\",\n",
    "    \"lainnya\",\n",
    "    \"pungli\",\n",
    "    \"ilegal\",\n",
    "    \"lalulintas\",\n",
    "    \"bencana\",\n",
    "    \"air\",\n",
    "    \"pendidikan\",\n",
    "    \"kebersihan\",\n",
    "    \"sosial\",\n",
    "    \"wisata\",\n",
    "    \"sara\",\n",
    "    \"pencurian\",\n",
    "    \"korupsi\",\n",
    "    \"bbm\",\n",
    "    \"keuangan\"\n",
    "] \n",
    "x = laporan[\"text\"]\n",
    "y = laporan[label_list]\n",
    "\n",
    "for i in label_list:\n",
    "    print(\"{}: {}\".format(i, (laporan[i] == 1).sum()))"
   ]
  },
  {
   "cell_type": "code",
   "execution_count": 37,
   "metadata": {},
   "outputs": [
    {
     "output_type": "execute_result",
     "data": {
      "text/plain": [
       "0    mohon bantuannya untuk menormalkan sistem di l...\n",
       "1    ass pak gubsaya perangkat desa karangsari kec ...\n",
       "2    selamat sore bapak gubernur atau yang mewakili...\n",
       "3    assalamualaikum pak gub saya pengurus paguyuba...\n",
       "4    lapor saya okada arle sandi email  okadaarlegm...\n",
       "Name: text, dtype: object"
      ]
     },
     "metadata": {},
     "execution_count": 37
    }
   ],
   "source": [
    "# Text head\n",
    "x.head()"
   ]
  },
  {
   "cell_type": "code",
   "execution_count": 38,
   "metadata": {},
   "outputs": [
    {
     "output_type": "execute_result",
     "data": {
      "text/plain": [
       "   perselisihan  infrastruktur  pemerintah  kesehatan  teknologi  \\\n",
       "0             0              0           0          0          1   \n",
       "1             1              0           0          0          0   \n",
       "2             0              1           0          0          0   \n",
       "3             0              0           1          0          0   \n",
       "4             0              0           0          1          0   \n",
       "\n",
       "   administrasi  fasilitas  lingkungan  ketertiban  listrik  ...  air  \\\n",
       "0             0          0           0           0        0  ...    0   \n",
       "1             0          0           0           0        0  ...    0   \n",
       "2             0          0           0           0        0  ...    0   \n",
       "3             0          0           0           0        0  ...    0   \n",
       "4             0          0           0           0        0  ...    0   \n",
       "\n",
       "   pendidikan  kebersihan  sosial  wisata  sara  pencurian  korupsi  bbm  \\\n",
       "0           0           0       0       0     0          0        0    0   \n",
       "1           0           0       0       0     0          0        0    0   \n",
       "2           0           0       0       0     0          0        0    0   \n",
       "3           0           0       0       0     0          0        0    0   \n",
       "4           0           0       0       0     0          0        0    0   \n",
       "\n",
       "   keuangan  \n",
       "0         0  \n",
       "1         0  \n",
       "2         0  \n",
       "3         0  \n",
       "4         0  \n",
       "\n",
       "[5 rows x 26 columns]"
      ],
      "text/html": "<div>\n<style scoped>\n    .dataframe tbody tr th:only-of-type {\n        vertical-align: middle;\n    }\n\n    .dataframe tbody tr th {\n        vertical-align: top;\n    }\n\n    .dataframe thead th {\n        text-align: right;\n    }\n</style>\n<table border=\"1\" class=\"dataframe\">\n  <thead>\n    <tr style=\"text-align: right;\">\n      <th></th>\n      <th>perselisihan</th>\n      <th>infrastruktur</th>\n      <th>pemerintah</th>\n      <th>kesehatan</th>\n      <th>teknologi</th>\n      <th>administrasi</th>\n      <th>fasilitas</th>\n      <th>lingkungan</th>\n      <th>ketertiban</th>\n      <th>listrik</th>\n      <th>...</th>\n      <th>air</th>\n      <th>pendidikan</th>\n      <th>kebersihan</th>\n      <th>sosial</th>\n      <th>wisata</th>\n      <th>sara</th>\n      <th>pencurian</th>\n      <th>korupsi</th>\n      <th>bbm</th>\n      <th>keuangan</th>\n    </tr>\n  </thead>\n  <tbody>\n    <tr>\n      <th>0</th>\n      <td>0</td>\n      <td>0</td>\n      <td>0</td>\n      <td>0</td>\n      <td>1</td>\n      <td>0</td>\n      <td>0</td>\n      <td>0</td>\n      <td>0</td>\n      <td>0</td>\n      <td>...</td>\n      <td>0</td>\n      <td>0</td>\n      <td>0</td>\n      <td>0</td>\n      <td>0</td>\n      <td>0</td>\n      <td>0</td>\n      <td>0</td>\n      <td>0</td>\n      <td>0</td>\n    </tr>\n    <tr>\n      <th>1</th>\n      <td>1</td>\n      <td>0</td>\n      <td>0</td>\n      <td>0</td>\n      <td>0</td>\n      <td>0</td>\n      <td>0</td>\n      <td>0</td>\n      <td>0</td>\n      <td>0</td>\n      <td>...</td>\n      <td>0</td>\n      <td>0</td>\n      <td>0</td>\n      <td>0</td>\n      <td>0</td>\n      <td>0</td>\n      <td>0</td>\n      <td>0</td>\n      <td>0</td>\n      <td>0</td>\n    </tr>\n    <tr>\n      <th>2</th>\n      <td>0</td>\n      <td>1</td>\n      <td>0</td>\n      <td>0</td>\n      <td>0</td>\n      <td>0</td>\n      <td>0</td>\n      <td>0</td>\n      <td>0</td>\n      <td>0</td>\n      <td>...</td>\n      <td>0</td>\n      <td>0</td>\n      <td>0</td>\n      <td>0</td>\n      <td>0</td>\n      <td>0</td>\n      <td>0</td>\n      <td>0</td>\n      <td>0</td>\n      <td>0</td>\n    </tr>\n    <tr>\n      <th>3</th>\n      <td>0</td>\n      <td>0</td>\n      <td>1</td>\n      <td>0</td>\n      <td>0</td>\n      <td>0</td>\n      <td>0</td>\n      <td>0</td>\n      <td>0</td>\n      <td>0</td>\n      <td>...</td>\n      <td>0</td>\n      <td>0</td>\n      <td>0</td>\n      <td>0</td>\n      <td>0</td>\n      <td>0</td>\n      <td>0</td>\n      <td>0</td>\n      <td>0</td>\n      <td>0</td>\n    </tr>\n    <tr>\n      <th>4</th>\n      <td>0</td>\n      <td>0</td>\n      <td>0</td>\n      <td>1</td>\n      <td>0</td>\n      <td>0</td>\n      <td>0</td>\n      <td>0</td>\n      <td>0</td>\n      <td>0</td>\n      <td>...</td>\n      <td>0</td>\n      <td>0</td>\n      <td>0</td>\n      <td>0</td>\n      <td>0</td>\n      <td>0</td>\n      <td>0</td>\n      <td>0</td>\n      <td>0</td>\n      <td>0</td>\n    </tr>\n  </tbody>\n</table>\n<p>5 rows × 26 columns</p>\n</div>"
     },
     "metadata": {},
     "execution_count": 38
    }
   ],
   "source": [
    "# Label head\n",
    "y.head()"
   ]
  },
  {
   "cell_type": "code",
   "execution_count": 39,
   "metadata": {},
   "outputs": [
    {
     "output_type": "stream",
     "name": "stderr",
     "text": [
      "<ipython-input-39-9d2cddb636c2>:8: SettingWithCopyWarning: \n",
      "A value is trying to be set on a copy of a slice from a DataFrame\n",
      "\n",
      "See the caveats in the documentation: https://pandas.pydata.org/pandas-docs/stable/user_guide/indexing.html#returning-a-view-versus-a-copy\n",
      "  x[i] = stopword.remove(x[i])\n",
      "<ipython-input-39-9d2cddb636c2>:9: SettingWithCopyWarning: \n",
      "A value is trying to be set on a copy of a slice from a DataFrame\n",
      "\n",
      "See the caveats in the documentation: https://pandas.pydata.org/pandas-docs/stable/user_guide/indexing.html#returning-a-view-versus-a-copy\n",
      "  x[i] = stemmer.stem(x[i])\n"
     ]
    },
    {
     "output_type": "execute_result",
     "data": {
      "text/plain": [
       "0    bantu normal sistem lpse kabupaten demak mana ...\n",
       "1    ass gubsaya perangkat desa karangsari kec kara...\n",
       "2    selamat sore gubernur mewakilisaya ahmad rofiq...\n",
       "3    assalamualaikum gub urus paguyuban dagang puja...\n",
       "4    lapor okada arle sandi email okadaarlegmailcom...\n",
       "Name: text, dtype: object"
      ]
     },
     "metadata": {},
     "execution_count": 39
    }
   ],
   "source": [
    "stemmer_factory = StemmerFactory()\n",
    "stemmer = stemmer_factory.create_stemmer()\n",
    "\n",
    "stopword_factory = StopWordRemoverFactory()\n",
    "stopword = stopword_factory.create_stop_word_remover()\n",
    "\n",
    "for i in range(len(x)):\n",
    "    x[i] = stopword.remove(x[i])\n",
    "    x[i] = stemmer.stem(x[i])\n",
    "\n",
    "x.head()"
   ]
  },
  {
   "cell_type": "code",
   "execution_count": 40,
   "metadata": {},
   "outputs": [],
   "source": [
    "# Tokenize and pad text\n",
    "vocab_size = 2000\n",
    "embedding_dim = 16\n",
    "max_length = 300\n",
    "trunc_type = \"post\"\n",
    "oov_token = \"<OOV>\"\n",
    "\n",
    "tokenizer = Tokenizer(num_words = vocab_size, oov_token=oov_token)\n",
    "tokenizer.fit_on_texts(x)\n",
    "\n",
    "sequences = tokenizer.texts_to_sequences(x)\n",
    "\n",
    "padded = pad_sequences(sequences, maxlen=max_length, truncating=trunc_type)"
   ]
  },
  {
   "cell_type": "code",
   "execution_count": 48,
   "metadata": {
    "tags": []
   },
   "outputs": [
    {
     "output_type": "stream",
     "name": "stdout",
     "text": [
      "72\n18\n"
     ]
    }
   ],
   "source": [
    "# Shuffle, batch and separate data into train, dev and test\n",
    "BUFFER_SIZE = 1000\n",
    "BATCH_SIZE = 32\n",
    "DATASET_SIZE = len(x)\n",
    "\n",
    "\n",
    "tx = tf.convert_to_tensor(padded)\n",
    "ty = tf.convert_to_tensor(y)\n",
    "\n",
    "dataset = tf.data.Dataset.from_tensor_slices((tx, ty))\n",
    "dataset = dataset.shuffle(BUFFER_SIZE).batch(BATCH_SIZE)\n",
    "\n",
    "train_set = dataset.take(int(0.8 * len(dataset)))\n",
    "test_set = dataset.skip(int(0.8 * len(dataset)))\n",
    "test_set = dataset.take(int(0.2 * len(dataset))) \n",
    "\n",
    "print(len(train_set))\n",
    "print(len(test_set))"
   ]
  },
  {
   "cell_type": "code",
   "execution_count": 49,
   "metadata": {},
   "outputs": [
    {
     "output_type": "stream",
     "name": "stdout",
     "text": [
      "Model: \"sequential_3\"\n_________________________________________________________________\nLayer (type)                 Output Shape              Param #   \n=================================================================\nembedding_3 (Embedding)      (None, None, 128)         256000    \n_________________________________________________________________\nbidirectional_5 (Bidirection (None, 128)               98816     \n_________________________________________________________________\ndense_12 (Dense)             (None, 128)               16512     \n_________________________________________________________________\ndropout_2 (Dropout)          (None, 128)               0         \n_________________________________________________________________\ndense_13 (Dense)             (None, 64)                8256      \n_________________________________________________________________\ndropout_3 (Dropout)          (None, 64)                0         \n_________________________________________________________________\ndense_14 (Dense)             (None, 32)                2080      \n_________________________________________________________________\ndense_15 (Dense)             (None, 26)                858       \n=================================================================\nTotal params: 382,522\nTrainable params: 382,522\nNon-trainable params: 0\n_________________________________________________________________\n"
     ]
    }
   ],
   "source": [
    "model = tf.keras.Sequential([\n",
    "    tf.keras.layers.Embedding(vocab_size, 128),\n",
    "    tf.keras.layers.Bidirectional(tf.keras.layers.LSTM(64)),\n",
    "    tf.keras.layers.Dense(128, activation='relu'),\n",
    "    tf.keras.layers.Dropout(0.2),\n",
    "    tf.keras.layers.Dense(64, activation='relu'),\n",
    "    tf.keras.layers.Dropout(0.2),\n",
    "    tf.keras.layers.Dense(32, activation='relu'),\n",
    "    tf.keras.layers.Dense(26, activation='sigmoid')\n",
    "])\n",
    "\n",
    "model.summary()"
   ]
  },
  {
   "cell_type": "code",
   "execution_count": 56,
   "metadata": {},
   "outputs": [],
   "source": [
    "model.compile(loss='binary_crossentropy', optimizer='adam', metrics=['accuracy'])"
   ]
  },
  {
   "cell_type": "code",
   "execution_count": 57,
   "metadata": {},
   "outputs": [
    {
     "output_type": "stream",
     "name": "stdout",
     "text": [
      "Epoch 1/75\n",
      "72/72 [==============================] - 156s 318ms/step - loss: 0.2640 - accuracy: 0.1098 - val_loss: 0.1165 - val_accuracy: 0.2361\n",
      "Epoch 2/75\n",
      "72/72 [==============================] - 21s 290ms/step - loss: 0.1310 - accuracy: 0.2300 - val_loss: 0.1194 - val_accuracy: 0.2483\n",
      "Epoch 3/75\n",
      "72/72 [==============================] - 21s 286ms/step - loss: 0.1301 - accuracy: 0.2378 - val_loss: 0.1146 - val_accuracy: 0.2257\n",
      "Epoch 4/75\n",
      "72/72 [==============================] - 20s 285ms/step - loss: 0.1289 - accuracy: 0.2374 - val_loss: 0.1128 - val_accuracy: 0.2240\n",
      "Epoch 5/75\n",
      "72/72 [==============================] - 20s 279ms/step - loss: 0.1213 - accuracy: 0.2730 - val_loss: 0.1056 - val_accuracy: 0.3299\n",
      "Epoch 6/75\n",
      "72/72 [==============================] - 21s 288ms/step - loss: 0.1147 - accuracy: 0.3090 - val_loss: 0.1004 - val_accuracy: 0.3420\n",
      "Epoch 7/75\n",
      "72/72 [==============================] - 21s 291ms/step - loss: 0.1107 - accuracy: 0.3299 - val_loss: 0.1017 - val_accuracy: 0.3264\n",
      "Epoch 8/75\n",
      "72/72 [==============================] - 21s 289ms/step - loss: 0.1054 - accuracy: 0.3472 - val_loss: 0.0942 - val_accuracy: 0.3576\n",
      "Epoch 9/75\n",
      "72/72 [==============================] - 21s 288ms/step - loss: 0.1015 - accuracy: 0.3655 - val_loss: 0.0844 - val_accuracy: 0.3802\n",
      "Epoch 10/75\n",
      "72/72 [==============================] - 20s 284ms/step - loss: 0.0969 - accuracy: 0.3750 - val_loss: 0.0826 - val_accuracy: 0.4097\n",
      "Epoch 11/75\n",
      "72/72 [==============================] - 21s 287ms/step - loss: 0.0917 - accuracy: 0.4154 - val_loss: 0.0785 - val_accuracy: 0.3837\n",
      "Epoch 12/75\n",
      "72/72 [==============================] - 21s 292ms/step - loss: 0.0866 - accuracy: 0.4232 - val_loss: 0.0746 - val_accuracy: 0.4201\n",
      "Epoch 13/75\n",
      "72/72 [==============================] - 21s 293ms/step - loss: 0.0825 - accuracy: 0.4457 - val_loss: 0.0749 - val_accuracy: 0.4045\n",
      "Epoch 14/75\n",
      "72/72 [==============================] - 21s 289ms/step - loss: 0.0855 - accuracy: 0.4288 - val_loss: 0.0736 - val_accuracy: 0.4184\n",
      "Epoch 15/75\n",
      "72/72 [==============================] - 21s 287ms/step - loss: 0.0804 - accuracy: 0.4410 - val_loss: 0.0680 - val_accuracy: 0.4983\n",
      "Epoch 16/75\n",
      "72/72 [==============================] - 21s 292ms/step - loss: 0.0751 - accuracy: 0.4800 - val_loss: 0.0650 - val_accuracy: 0.4705\n",
      "Epoch 17/75\n",
      "72/72 [==============================] - 21s 291ms/step - loss: 0.0725 - accuracy: 0.5026 - val_loss: 0.0587 - val_accuracy: 0.5087\n",
      "Epoch 18/75\n",
      "72/72 [==============================] - 21s 287ms/step - loss: 0.0693 - accuracy: 0.5052 - val_loss: 0.0623 - val_accuracy: 0.5451\n",
      "Epoch 19/75\n",
      "72/72 [==============================] - 21s 295ms/step - loss: 0.0674 - accuracy: 0.5239 - val_loss: 0.0584 - val_accuracy: 0.5347\n",
      "Epoch 20/75\n",
      "72/72 [==============================] - 21s 293ms/step - loss: 0.0662 - accuracy: 0.5282 - val_loss: 0.0564 - val_accuracy: 0.5451\n",
      "Epoch 21/75\n",
      "72/72 [==============================] - 21s 291ms/step - loss: 0.0663 - accuracy: 0.5378 - val_loss: 0.0547 - val_accuracy: 0.5694\n",
      "Epoch 22/75\n",
      "72/72 [==============================] - 22s 301ms/step - loss: 0.0607 - accuracy: 0.5742 - val_loss: 0.0503 - val_accuracy: 0.5747\n",
      "Epoch 23/75\n",
      "72/72 [==============================] - 21s 288ms/step - loss: 0.0567 - accuracy: 0.5951 - val_loss: 0.0517 - val_accuracy: 0.5816\n",
      "Epoch 24/75\n",
      "72/72 [==============================] - 21s 293ms/step - loss: 0.0542 - accuracy: 0.6111 - val_loss: 0.0474 - val_accuracy: 0.5833\n",
      "Epoch 25/75\n",
      "72/72 [==============================] - 21s 289ms/step - loss: 0.0539 - accuracy: 0.6068 - val_loss: 0.0468 - val_accuracy: 0.6302\n",
      "Epoch 26/75\n",
      "72/72 [==============================] - 21s 292ms/step - loss: 0.0504 - accuracy: 0.6324 - val_loss: 0.0394 - val_accuracy: 0.6250\n",
      "Epoch 27/75\n",
      "72/72 [==============================] - 21s 292ms/step - loss: 0.0471 - accuracy: 0.6558 - val_loss: 0.0402 - val_accuracy: 0.6580\n",
      "Epoch 28/75\n",
      "72/72 [==============================] - 21s 288ms/step - loss: 0.0452 - accuracy: 0.6684 - val_loss: 0.0396 - val_accuracy: 0.6476\n",
      "Epoch 29/75\n",
      "72/72 [==============================] - 21s 291ms/step - loss: 0.0527 - accuracy: 0.6285 - val_loss: 0.0399 - val_accuracy: 0.6458\n",
      "Epoch 30/75\n",
      "72/72 [==============================] - 21s 288ms/step - loss: 0.0443 - accuracy: 0.6710 - val_loss: 0.0361 - val_accuracy: 0.6545\n",
      "Epoch 31/75\n",
      "72/72 [==============================] - 21s 294ms/step - loss: 0.0412 - accuracy: 0.6905 - val_loss: 0.0314 - val_accuracy: 0.6823\n",
      "Epoch 32/75\n",
      "72/72 [==============================] - 21s 288ms/step - loss: 0.0392 - accuracy: 0.6931 - val_loss: 0.0293 - val_accuracy: 0.6944\n",
      "Epoch 33/75\n",
      "72/72 [==============================] - 21s 291ms/step - loss: 0.0360 - accuracy: 0.7101 - val_loss: 0.0265 - val_accuracy: 0.7118\n",
      "Epoch 34/75\n",
      "72/72 [==============================] - 21s 285ms/step - loss: 0.0344 - accuracy: 0.7174 - val_loss: 0.0281 - val_accuracy: 0.7049\n",
      "Epoch 35/75\n",
      "72/72 [==============================] - 21s 292ms/step - loss: 0.0331 - accuracy: 0.7248 - val_loss: 0.0281 - val_accuracy: 0.6927\n",
      "Epoch 36/75\n",
      "72/72 [==============================] - 21s 291ms/step - loss: 0.0314 - accuracy: 0.7322 - val_loss: 0.0249 - val_accuracy: 0.7135\n",
      "Epoch 37/75\n",
      "72/72 [==============================] - 21s 288ms/step - loss: 0.0300 - accuracy: 0.7370 - val_loss: 0.0222 - val_accuracy: 0.7274\n",
      "Epoch 38/75\n",
      "72/72 [==============================] - 21s 290ms/step - loss: 0.0314 - accuracy: 0.7292 - val_loss: 0.0234 - val_accuracy: 0.7240\n",
      "Epoch 39/75\n",
      "72/72 [==============================] - 21s 290ms/step - loss: 0.0287 - accuracy: 0.7465 - val_loss: 0.0205 - val_accuracy: 0.7361\n",
      "Epoch 40/75\n",
      "72/72 [==============================] - 22s 300ms/step - loss: 0.0277 - accuracy: 0.7461 - val_loss: 0.0219 - val_accuracy: 0.7431\n",
      "Epoch 41/75\n",
      "72/72 [==============================] - 21s 289ms/step - loss: 0.0264 - accuracy: 0.7643 - val_loss: 0.0227 - val_accuracy: 0.7309\n",
      "Epoch 42/75\n",
      "72/72 [==============================] - 21s 290ms/step - loss: 0.0259 - accuracy: 0.7656 - val_loss: 0.0169 - val_accuracy: 0.7483\n",
      "Epoch 43/75\n",
      "72/72 [==============================] - 21s 288ms/step - loss: 0.0245 - accuracy: 0.7726 - val_loss: 0.0199 - val_accuracy: 0.7326\n",
      "Epoch 44/75\n",
      "72/72 [==============================] - 21s 291ms/step - loss: 0.0244 - accuracy: 0.7765 - val_loss: 0.0159 - val_accuracy: 0.7622\n",
      "Epoch 45/75\n",
      "72/72 [==============================] - 21s 288ms/step - loss: 0.0222 - accuracy: 0.7834 - val_loss: 0.0155 - val_accuracy: 0.7500\n",
      "Epoch 46/75\n",
      "72/72 [==============================] - 21s 289ms/step - loss: 0.0205 - accuracy: 0.7982 - val_loss: 0.0140 - val_accuracy: 0.7639\n",
      "Epoch 47/75\n",
      "72/72 [==============================] - 21s 290ms/step - loss: 0.0188 - accuracy: 0.8077 - val_loss: 0.0137 - val_accuracy: 0.7882\n",
      "Epoch 48/75\n",
      "72/72 [==============================] - 21s 294ms/step - loss: 0.0180 - accuracy: 0.8025 - val_loss: 0.0135 - val_accuracy: 0.7760\n",
      "Epoch 49/75\n",
      "72/72 [==============================] - 21s 288ms/step - loss: 0.0210 - accuracy: 0.8016 - val_loss: 0.0131 - val_accuracy: 0.7535\n",
      "Epoch 50/75\n",
      "72/72 [==============================] - 21s 294ms/step - loss: 0.0196 - accuracy: 0.7999 - val_loss: 0.0141 - val_accuracy: 0.7240\n",
      "Epoch 51/75\n",
      "72/72 [==============================] - 21s 292ms/step - loss: 0.0169 - accuracy: 0.8151 - val_loss: 0.0105 - val_accuracy: 0.7708\n",
      "Epoch 52/75\n",
      "72/72 [==============================] - 21s 292ms/step - loss: 0.0163 - accuracy: 0.8116 - val_loss: 0.0114 - val_accuracy: 0.7743\n",
      "Epoch 53/75\n",
      "72/72 [==============================] - 21s 289ms/step - loss: 0.0161 - accuracy: 0.8216 - val_loss: 0.0107 - val_accuracy: 0.7639\n",
      "Epoch 54/75\n",
      "72/72 [==============================] - 21s 285ms/step - loss: 0.0153 - accuracy: 0.8220 - val_loss: 0.0111 - val_accuracy: 0.7569\n",
      "Epoch 55/75\n",
      "72/72 [==============================] - 20s 283ms/step - loss: 0.0156 - accuracy: 0.8186 - val_loss: 0.0107 - val_accuracy: 0.7691\n",
      "Epoch 56/75\n",
      "72/72 [==============================] - 21s 287ms/step - loss: 0.0163 - accuracy: 0.8125 - val_loss: 0.0135 - val_accuracy: 0.7899\n",
      "Epoch 57/75\n",
      "72/72 [==============================] - 21s 285ms/step - loss: 0.0161 - accuracy: 0.8225 - val_loss: 0.0106 - val_accuracy: 0.7865\n",
      "Epoch 58/75\n",
      "72/72 [==============================] - 21s 287ms/step - loss: 0.0136 - accuracy: 0.8325 - val_loss: 0.0109 - val_accuracy: 0.7917\n",
      "Epoch 59/75\n",
      "72/72 [==============================] - 21s 288ms/step - loss: 0.0160 - accuracy: 0.8134 - val_loss: 0.0122 - val_accuracy: 0.7778\n",
      "Epoch 60/75\n",
      "72/72 [==============================] - 21s 291ms/step - loss: 0.0149 - accuracy: 0.8194 - val_loss: 0.0086 - val_accuracy: 0.7778\n",
      "Epoch 61/75\n",
      "72/72 [==============================] - 21s 288ms/step - loss: 0.0115 - accuracy: 0.8411 - val_loss: 0.0073 - val_accuracy: 0.8056\n",
      "Epoch 62/75\n",
      "72/72 [==============================] - 21s 289ms/step - loss: 0.0129 - accuracy: 0.8286 - val_loss: 0.0066 - val_accuracy: 0.7760\n",
      "Epoch 63/75\n",
      "72/72 [==============================] - 21s 293ms/step - loss: 0.0110 - accuracy: 0.8364 - val_loss: 0.0059 - val_accuracy: 0.8003\n",
      "Epoch 64/75\n",
      "72/72 [==============================] - 21s 290ms/step - loss: 0.0112 - accuracy: 0.8411 - val_loss: 0.0074 - val_accuracy: 0.7899\n",
      "Epoch 65/75\n",
      "72/72 [==============================] - 21s 287ms/step - loss: 0.0105 - accuracy: 0.8359 - val_loss: 0.0063 - val_accuracy: 0.7778\n",
      "Epoch 66/75\n",
      "72/72 [==============================] - 21s 287ms/step - loss: 0.0111 - accuracy: 0.8325 - val_loss: 0.0072 - val_accuracy: 0.7812\n",
      "Epoch 67/75\n",
      "72/72 [==============================] - 21s 289ms/step - loss: 0.0110 - accuracy: 0.8333 - val_loss: 0.0085 - val_accuracy: 0.7743\n",
      "Epoch 68/75\n",
      "72/72 [==============================] - 21s 287ms/step - loss: 0.0107 - accuracy: 0.8372 - val_loss: 0.0052 - val_accuracy: 0.8090\n",
      "Epoch 69/75\n",
      "72/72 [==============================] - 21s 292ms/step - loss: 0.0094 - accuracy: 0.8494 - val_loss: 0.0062 - val_accuracy: 0.7760\n",
      "Epoch 70/75\n",
      "72/72 [==============================] - 21s 290ms/step - loss: 0.0091 - accuracy: 0.8464 - val_loss: 0.0068 - val_accuracy: 0.7986\n",
      "Epoch 71/75\n",
      "72/72 [==============================] - 21s 290ms/step - loss: 0.0100 - accuracy: 0.8394 - val_loss: 0.0063 - val_accuracy: 0.7795\n",
      "Epoch 72/75\n",
      "72/72 [==============================] - 21s 288ms/step - loss: 0.0114 - accuracy: 0.8364 - val_loss: 0.0047 - val_accuracy: 0.7778\n",
      "Epoch 73/75\n",
      "72/72 [==============================] - 21s 290ms/step - loss: 0.0080 - accuracy: 0.8477 - val_loss: 0.0052 - val_accuracy: 0.7847\n",
      "Epoch 74/75\n",
      "72/72 [==============================] - 21s 290ms/step - loss: 0.0089 - accuracy: 0.8446 - val_loss: 0.0040 - val_accuracy: 0.7882\n",
      "Epoch 75/75\n",
      "72/72 [==============================] - 21s 289ms/step - loss: 0.0079 - accuracy: 0.8481 - val_loss: 0.0050 - val_accuracy: 0.7969\n"
     ]
    }
   ],
   "source": [
    "NUM_EPOCHS = 75\n",
    "history = model.fit(train_set, epochs=NUM_EPOCHS, validation_data=test_set)"
   ]
  },
  {
   "cell_type": "code",
   "execution_count": 58,
   "metadata": {},
   "outputs": [],
   "source": [
    "def treatinput(inp):\n",
    "    # Make string into lowercase string\n",
    "    treated = inp.lower()\n",
    "    # remove punctuation\n",
    "    treated = treated.translate(str.maketrans(\"\",\"\",string.punctuation))\n",
    "    # remove trailing whitespace\n",
    "    treated = treated.strip()\n",
    "    # Remove stopwords\n",
    "    treated = stopword.remove(treated)\n",
    "    # Stem string\n",
    "    treated = stemmer.stem(treated)\n",
    "    return treated"
   ]
  },
  {
   "cell_type": "code",
   "execution_count": 79,
   "metadata": {},
   "outputs": [
    {
     "output_type": "stream",
     "name": "stdout",
     "text": [
      "curiga tindak korupsi\n[[  0   0   0   0   0   0   0   0   0   0   0   0   0   0   0   0   0   0\n    0   0   0   0   0   0   0   0   0   0   0   0   0   0   0   0   0   0\n    0   0   0   0   0   0   0   0   0   0   0   0   0   0   0   0   0   0\n    0   0   0   0   0   0   0   0   0   0   0   0   0   0   0   0   0   0\n    0   0   0   0   0   0   0   0   0   0   0   0   0   0   0   0   0   0\n    0   0   0   0   0   0   0   0   0   0   0   0   0   0   0   0   0   0\n    0   0   0   0   0   0   0   0   0   0   0   0   0   0   0   0   0   0\n    0   0   0   0   0   0   0   0   0   0   0   0   0   0   0   0   0   0\n    0   0   0   0   0   0   0   0   0   0   0   0   0   0   0   0   0   0\n    0   0   0   0   0   0   0   0   0   0   0   0   0   0   0   0   0   0\n    0   0   0   0   0   0   0   0   0   0   0   0   0   0   0   0   0   0\n    0   0   0   0   0   0   0   0   0   0   0   0   0   0   0   0   0   0\n    0   0   0   0   0   0   0   0   0   0   0   0   0   0   0   0   0   0\n    0   0   0   0   0   0   0   0   0   0   0   0   0   0   0   0   0   0\n    0   0   0   0   0   0   0   0   0   0   0   0   0   0   0   0   0   0\n    0   0   0   0   0   0   0   0   0   0   0   0   0   0   0   0   0   0\n    0   0   0   0   0   0   0   0   0   1  14 479]]\n"
     ]
    }
   ],
   "source": [
    "# sample inferrece\n",
    "sample_laporan = \"Dicurigai ada tindak korupsi di sekitar kita\"\n",
    "treated_input = treatinput(sample_laporan)\n",
    "print(treated_input)\n",
    "pad = pad_sequences(tokenizer.texts_to_sequences([treated_input]), maxlen=max_length, truncating=trunc_type)\n",
    "print(pad)\n",
    "prediction = model.predict(pad)\n",
    "\n",
    "res = dict(zip(label_list, prediction[0]))"
   ]
  },
  {
   "cell_type": "code",
   "execution_count": 80,
   "metadata": {},
   "outputs": [
    {
     "output_type": "stream",
     "name": "stdout",
     "text": [
      "perselisihan 0.00164\ninfrastruktur 0.01727\npemerintah 0.00054\nkesehatan 0.00007\nteknologi 0.00000\nadministrasi 0.00128\nfasilitas 0.00000\nlingkungan 0.00000\nketertiban 0.00000\nlistrik 0.00000\nbahaya 0.00000\nlainnya 0.56649\npungli 0.00000\nilegal 0.00000\nlalulintas 0.00000\nbencana 0.00000\nair 0.00000\npendidikan 0.00356\nkebersihan 0.00002\nsosial 0.34431\nwisata 0.00000\nsara 0.00000\npencurian 0.00001\nkorupsi 0.06183\nbbm 0.00004\nkeuangan 0.00046\n"
     ]
    }
   ],
   "source": [
    "for i in res.keys():\n",
    "    # if(res[i] > 0.6):\n",
    "    print(\"{} {:.5f}\".format(i, res[i]))"
   ]
  },
  {
   "cell_type": "code",
   "execution_count": null,
   "metadata": {},
   "outputs": [],
   "source": []
  },
  {
   "cell_type": "code",
   "execution_count": null,
   "metadata": {},
   "outputs": [],
   "source": []
  }
 ]
}