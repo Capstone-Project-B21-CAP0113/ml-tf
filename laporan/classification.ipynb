{
 "metadata": {
  "orig_nbformat": 2,
  "kernelspec": {
   "name": "python395jvsc74a57bd0ac59ebe37160ed0dfa835113d9b8498d9f09ceb179beaac4002f036b9467c963",
   "display_name": "Python 3.9.5 64-bit"
  },
  "metadata": {
   "interpreter": {
    "hash": "ac59ebe37160ed0dfa835113d9b8498d9f09ceb179beaac4002f036b9467c963"
   }
  }
 },
 "nbformat": 4,
 "nbformat_minor": 2,
 "cells": [
  {
   "source": [
    "# Text Classification Notebook"
   ],
   "cell_type": "markdown",
   "metadata": {}
  },
  {
   "source": [
    "!pip install --upgrade pip\n",
    "!pip install tensorflow\n",
    "!pip install pandas\n",
    "!pip install numpy"
   ],
   "cell_type": "code",
   "metadata": {},
   "execution_count": 1,
   "outputs": [
    {
     "output_type": "stream",
     "name": "stdout",
     "text": [
      "Defaulting to user installation because normal site-packages is not writeable\n",
      "Requirement already satisfied: pip in c:\\program files\\python39\\lib\\site-packages (21.1.1)\n",
      "^C\n"
     ]
    }
   ]
  },
  {
   "cell_type": "code",
   "execution_count": 91,
   "metadata": {},
   "outputs": [],
   "source": [
    "# Machine Learning related imports\n",
    "import tensorflow as tf\n",
    "\n",
    "from tensorflow.keras.preprocessing.text import Tokenizer\n",
    "from tensorflow.keras.preprocessing.sequence import pad_sequences\n",
    "from tensorflow.keras.layers import Input"
   ]
  },
  {
   "cell_type": "code",
   "execution_count": 92,
   "metadata": {},
   "outputs": [],
   "source": [
    "# Dataset and generic imports\n",
    "import pandas as pd\n",
    "import numpy as np\n",
    "import os"
   ]
  },
  {
   "cell_type": "code",
   "execution_count": 93,
   "metadata": {},
   "outputs": [
    {
     "output_type": "stream",
     "name": "stdout",
     "text": [
      "(2852, 27)\n"
     ]
    },
    {
     "output_type": "execute_result",
     "data": {
      "text/plain": [
       "                                                text  perselisihan  \\\n",
       "0  mohon bantuannya untuk menormalkan sistem di l...             0   \n",
       "1  ass pak gubsaya perangkat desa karangsari kec ...             1   \n",
       "2  selamat sore bapak gubernur atau yang mewakili...             0   \n",
       "3  assalamualaikum pak gub saya pengurus paguyuba...             0   \n",
       "4  lapor saya okada arle sandi email  okadaarlegm...             0   \n",
       "\n",
       "   infrastruktur  pemerintah  kesehatan  teknologi  administrasi  fasilitas  \\\n",
       "0              0           0          0          1             0          0   \n",
       "1              0           0          0          0             0          0   \n",
       "2              1           0          0          0             0          0   \n",
       "3              0           1          0          0             0          0   \n",
       "4              0           0          1          0             0          0   \n",
       "\n",
       "   lingkungan  ketertiban  ...  air  pendidikan  kebersihan  sosial  wisata  \\\n",
       "0           0           0  ...    0           0           0       0       0   \n",
       "1           0           0  ...    0           0           0       0       0   \n",
       "2           0           0  ...    0           0           0       0       0   \n",
       "3           0           0  ...    0           0           0       0       0   \n",
       "4           0           0  ...    0           0           0       0       0   \n",
       "\n",
       "   sara  pencurian  korupsi  bbm  keuangan  \n",
       "0     0          0        0    0         0  \n",
       "1     0          0        0    0         0  \n",
       "2     0          0        0    0         0  \n",
       "3     0          0        0    0         0  \n",
       "4     0          0        0    0         0  \n",
       "\n",
       "[5 rows x 27 columns]"
      ],
      "text/html": "<div>\n<style scoped>\n    .dataframe tbody tr th:only-of-type {\n        vertical-align: middle;\n    }\n\n    .dataframe tbody tr th {\n        vertical-align: top;\n    }\n\n    .dataframe thead th {\n        text-align: right;\n    }\n</style>\n<table border=\"1\" class=\"dataframe\">\n  <thead>\n    <tr style=\"text-align: right;\">\n      <th></th>\n      <th>text</th>\n      <th>perselisihan</th>\n      <th>infrastruktur</th>\n      <th>pemerintah</th>\n      <th>kesehatan</th>\n      <th>teknologi</th>\n      <th>administrasi</th>\n      <th>fasilitas</th>\n      <th>lingkungan</th>\n      <th>ketertiban</th>\n      <th>...</th>\n      <th>air</th>\n      <th>pendidikan</th>\n      <th>kebersihan</th>\n      <th>sosial</th>\n      <th>wisata</th>\n      <th>sara</th>\n      <th>pencurian</th>\n      <th>korupsi</th>\n      <th>bbm</th>\n      <th>keuangan</th>\n    </tr>\n  </thead>\n  <tbody>\n    <tr>\n      <th>0</th>\n      <td>mohon bantuannya untuk menormalkan sistem di l...</td>\n      <td>0</td>\n      <td>0</td>\n      <td>0</td>\n      <td>0</td>\n      <td>1</td>\n      <td>0</td>\n      <td>0</td>\n      <td>0</td>\n      <td>0</td>\n      <td>...</td>\n      <td>0</td>\n      <td>0</td>\n      <td>0</td>\n      <td>0</td>\n      <td>0</td>\n      <td>0</td>\n      <td>0</td>\n      <td>0</td>\n      <td>0</td>\n      <td>0</td>\n    </tr>\n    <tr>\n      <th>1</th>\n      <td>ass pak gubsaya perangkat desa karangsari kec ...</td>\n      <td>1</td>\n      <td>0</td>\n      <td>0</td>\n      <td>0</td>\n      <td>0</td>\n      <td>0</td>\n      <td>0</td>\n      <td>0</td>\n      <td>0</td>\n      <td>...</td>\n      <td>0</td>\n      <td>0</td>\n      <td>0</td>\n      <td>0</td>\n      <td>0</td>\n      <td>0</td>\n      <td>0</td>\n      <td>0</td>\n      <td>0</td>\n      <td>0</td>\n    </tr>\n    <tr>\n      <th>2</th>\n      <td>selamat sore bapak gubernur atau yang mewakili...</td>\n      <td>0</td>\n      <td>1</td>\n      <td>0</td>\n      <td>0</td>\n      <td>0</td>\n      <td>0</td>\n      <td>0</td>\n      <td>0</td>\n      <td>0</td>\n      <td>...</td>\n      <td>0</td>\n      <td>0</td>\n      <td>0</td>\n      <td>0</td>\n      <td>0</td>\n      <td>0</td>\n      <td>0</td>\n      <td>0</td>\n      <td>0</td>\n      <td>0</td>\n    </tr>\n    <tr>\n      <th>3</th>\n      <td>assalamualaikum pak gub saya pengurus paguyuba...</td>\n      <td>0</td>\n      <td>0</td>\n      <td>1</td>\n      <td>0</td>\n      <td>0</td>\n      <td>0</td>\n      <td>0</td>\n      <td>0</td>\n      <td>0</td>\n      <td>...</td>\n      <td>0</td>\n      <td>0</td>\n      <td>0</td>\n      <td>0</td>\n      <td>0</td>\n      <td>0</td>\n      <td>0</td>\n      <td>0</td>\n      <td>0</td>\n      <td>0</td>\n    </tr>\n    <tr>\n      <th>4</th>\n      <td>lapor saya okada arle sandi email  okadaarlegm...</td>\n      <td>0</td>\n      <td>0</td>\n      <td>0</td>\n      <td>1</td>\n      <td>0</td>\n      <td>0</td>\n      <td>0</td>\n      <td>0</td>\n      <td>0</td>\n      <td>...</td>\n      <td>0</td>\n      <td>0</td>\n      <td>0</td>\n      <td>0</td>\n      <td>0</td>\n      <td>0</td>\n      <td>0</td>\n      <td>0</td>\n      <td>0</td>\n      <td>0</td>\n    </tr>\n  </tbody>\n</table>\n<p>5 rows × 27 columns</p>\n</div>"
     },
     "metadata": {},
     "execution_count": 93
    }
   ],
   "source": [
    "# Load dataset\n",
    "filepath = os.getcwd()\n",
    "datasetpath =  os.path.join(filepath, \"cleaned_data\", \"laporanencoded.csv\")\n",
    "\n",
    "github_url = \"https://raw.githubusercontent.com/Capstone-Project-B21-CAP0113/ml-tf/main/laporan/cleaned_data/laporanencoded.csv\"\n",
    "\n",
    "laporan = pd.read_csv(datasetpath, encoding=\"ISO-8859-1\")\n",
    "# Print dataset shape\n",
    "print(laporan.shape)\n",
    "# Print dataset head\n",
    "laporan.head()\n"
   ]
  },
  {
   "cell_type": "code",
   "execution_count": 94,
   "metadata": {},
   "outputs": [],
   "source": [
    "# Split text and labels\n",
    "label_list = [\n",
    "    \"perselisihan\",\n",
    "    \"infrastruktur\",\n",
    "    \"pemerintah\",\n",
    "    \"kesehatan\",\n",
    "    \"teknologi\",\n",
    "    \"administrasi\",\n",
    "    \"fasilitas\",\n",
    "    \"lingkungan\",\n",
    "    \"ketertiban\",\n",
    "    \"listrik\",\n",
    "    \"bahaya\",\n",
    "    \"lainnya\",\n",
    "    \"pungli\",\n",
    "    \"ilegal\",\n",
    "    \"lalulintas\",\n",
    "    \"bencana\",\n",
    "    \"air\",\n",
    "    \"pendidikan\",\n",
    "    \"kebersihan\",\n",
    "    \"sosial\",\n",
    "    \"wisata\",\n",
    "    \"sara\",\n",
    "    \"pencurian\",\n",
    "    \"korupsi\",\n",
    "    \"bbm\",\n",
    "    \"keuangan\"\n",
    "] \n",
    "x = laporan[\"text\"]\n",
    "y = laporan[label_list]"
   ]
  },
  {
   "cell_type": "code",
   "execution_count": 95,
   "metadata": {},
   "outputs": [
    {
     "output_type": "execute_result",
     "data": {
      "text/plain": [
       "0    mohon bantuannya untuk menormalkan sistem di l...\n",
       "1    ass pak gubsaya perangkat desa karangsari kec ...\n",
       "2    selamat sore bapak gubernur atau yang mewakili...\n",
       "3    assalamualaikum pak gub saya pengurus paguyuba...\n",
       "4    lapor saya okada arle sandi email  okadaarlegm...\n",
       "Name: text, dtype: object"
      ]
     },
     "metadata": {},
     "execution_count": 95
    }
   ],
   "source": [
    "# Text head\n",
    "x.head()"
   ]
  },
  {
   "cell_type": "code",
   "execution_count": 96,
   "metadata": {},
   "outputs": [
    {
     "output_type": "execute_result",
     "data": {
      "text/plain": [
       "   perselisihan  infrastruktur  pemerintah  kesehatan  teknologi  \\\n",
       "0             0              0           0          0          1   \n",
       "1             1              0           0          0          0   \n",
       "2             0              1           0          0          0   \n",
       "3             0              0           1          0          0   \n",
       "4             0              0           0          1          0   \n",
       "\n",
       "   administrasi  fasilitas  lingkungan  ketertiban  listrik  ...  air  \\\n",
       "0             0          0           0           0        0  ...    0   \n",
       "1             0          0           0           0        0  ...    0   \n",
       "2             0          0           0           0        0  ...    0   \n",
       "3             0          0           0           0        0  ...    0   \n",
       "4             0          0           0           0        0  ...    0   \n",
       "\n",
       "   pendidikan  kebersihan  sosial  wisata  sara  pencurian  korupsi  bbm  \\\n",
       "0           0           0       0       0     0          0        0    0   \n",
       "1           0           0       0       0     0          0        0    0   \n",
       "2           0           0       0       0     0          0        0    0   \n",
       "3           0           0       0       0     0          0        0    0   \n",
       "4           0           0       0       0     0          0        0    0   \n",
       "\n",
       "   keuangan  \n",
       "0         0  \n",
       "1         0  \n",
       "2         0  \n",
       "3         0  \n",
       "4         0  \n",
       "\n",
       "[5 rows x 26 columns]"
      ],
      "text/html": "<div>\n<style scoped>\n    .dataframe tbody tr th:only-of-type {\n        vertical-align: middle;\n    }\n\n    .dataframe tbody tr th {\n        vertical-align: top;\n    }\n\n    .dataframe thead th {\n        text-align: right;\n    }\n</style>\n<table border=\"1\" class=\"dataframe\">\n  <thead>\n    <tr style=\"text-align: right;\">\n      <th></th>\n      <th>perselisihan</th>\n      <th>infrastruktur</th>\n      <th>pemerintah</th>\n      <th>kesehatan</th>\n      <th>teknologi</th>\n      <th>administrasi</th>\n      <th>fasilitas</th>\n      <th>lingkungan</th>\n      <th>ketertiban</th>\n      <th>listrik</th>\n      <th>...</th>\n      <th>air</th>\n      <th>pendidikan</th>\n      <th>kebersihan</th>\n      <th>sosial</th>\n      <th>wisata</th>\n      <th>sara</th>\n      <th>pencurian</th>\n      <th>korupsi</th>\n      <th>bbm</th>\n      <th>keuangan</th>\n    </tr>\n  </thead>\n  <tbody>\n    <tr>\n      <th>0</th>\n      <td>0</td>\n      <td>0</td>\n      <td>0</td>\n      <td>0</td>\n      <td>1</td>\n      <td>0</td>\n      <td>0</td>\n      <td>0</td>\n      <td>0</td>\n      <td>0</td>\n      <td>...</td>\n      <td>0</td>\n      <td>0</td>\n      <td>0</td>\n      <td>0</td>\n      <td>0</td>\n      <td>0</td>\n      <td>0</td>\n      <td>0</td>\n      <td>0</td>\n      <td>0</td>\n    </tr>\n    <tr>\n      <th>1</th>\n      <td>1</td>\n      <td>0</td>\n      <td>0</td>\n      <td>0</td>\n      <td>0</td>\n      <td>0</td>\n      <td>0</td>\n      <td>0</td>\n      <td>0</td>\n      <td>0</td>\n      <td>...</td>\n      <td>0</td>\n      <td>0</td>\n      <td>0</td>\n      <td>0</td>\n      <td>0</td>\n      <td>0</td>\n      <td>0</td>\n      <td>0</td>\n      <td>0</td>\n      <td>0</td>\n    </tr>\n    <tr>\n      <th>2</th>\n      <td>0</td>\n      <td>1</td>\n      <td>0</td>\n      <td>0</td>\n      <td>0</td>\n      <td>0</td>\n      <td>0</td>\n      <td>0</td>\n      <td>0</td>\n      <td>0</td>\n      <td>...</td>\n      <td>0</td>\n      <td>0</td>\n      <td>0</td>\n      <td>0</td>\n      <td>0</td>\n      <td>0</td>\n      <td>0</td>\n      <td>0</td>\n      <td>0</td>\n      <td>0</td>\n    </tr>\n    <tr>\n      <th>3</th>\n      <td>0</td>\n      <td>0</td>\n      <td>1</td>\n      <td>0</td>\n      <td>0</td>\n      <td>0</td>\n      <td>0</td>\n      <td>0</td>\n      <td>0</td>\n      <td>0</td>\n      <td>...</td>\n      <td>0</td>\n      <td>0</td>\n      <td>0</td>\n      <td>0</td>\n      <td>0</td>\n      <td>0</td>\n      <td>0</td>\n      <td>0</td>\n      <td>0</td>\n      <td>0</td>\n    </tr>\n    <tr>\n      <th>4</th>\n      <td>0</td>\n      <td>0</td>\n      <td>0</td>\n      <td>1</td>\n      <td>0</td>\n      <td>0</td>\n      <td>0</td>\n      <td>0</td>\n      <td>0</td>\n      <td>0</td>\n      <td>...</td>\n      <td>0</td>\n      <td>0</td>\n      <td>0</td>\n      <td>0</td>\n      <td>0</td>\n      <td>0</td>\n      <td>0</td>\n      <td>0</td>\n      <td>0</td>\n      <td>0</td>\n    </tr>\n  </tbody>\n</table>\n<p>5 rows × 26 columns</p>\n</div>"
     },
     "metadata": {},
     "execution_count": 96
    }
   ],
   "source": [
    "# Label head\n",
    "y.head()"
   ]
  },
  {
   "cell_type": "code",
   "execution_count": 97,
   "metadata": {},
   "outputs": [],
   "source": [
    "# Tokenize and pad text\n",
    "vocab_size = 2000\n",
    "embedding_dim = 16\n",
    "max_length = 300\n",
    "trunc_type = \"post\"\n",
    "oov_token = \"<OOV>\"\n",
    "\n",
    "tokenizer = Tokenizer(num_words = vocab_size, oov_token=oov_token)\n",
    "tokenizer.fit_on_texts(x)\n",
    "\n",
    "sequences = tokenizer.texts_to_sequences(x)\n",
    "\n",
    "padded = pad_sequences(sequences, maxlen=max_length, truncating=trunc_type)"
   ]
  },
  {
   "cell_type": "code",
   "execution_count": 98,
   "metadata": {
    "tags": []
   },
   "outputs": [
    {
     "output_type": "stream",
     "name": "stdout",
     "text": [
      "72\n18\n"
     ]
    }
   ],
   "source": [
    "# Shuffle, batch and separate data into train, dev and test\n",
    "BUFFER_SIZE = 1000\n",
    "BATCH_SIZE = 32\n",
    "DATASET_SIZE = len(x)\n",
    "\n",
    "dataset = tf.data.Dataset.from_tensor_slices((padded, y))\n",
    "dataset = dataset.shuffle(BUFFER_SIZE).batch(BATCH_SIZE)\n",
    "\n",
    "train_set = dataset.take(int(0.8 * len(dataset)))\n",
    "test_set = dataset.skip(int(0.8 * len(dataset)))\n",
    "test_set = dataset.take(int(0.2 * len(dataset))) \n",
    "\n",
    "print(len(train_set))\n",
    "print(len(test_set))"
   ]
  },
  {
   "cell_type": "code",
   "execution_count": 99,
   "metadata": {},
   "outputs": [
    {
     "output_type": "stream",
     "name": "stdout",
     "text": [
      "Model: \"sequential_7\"\n_________________________________________________________________\nLayer (type)                 Output Shape              Param #   \n=================================================================\nembedding_7 (Embedding)      (None, None, 64)          128000    \n_________________________________________________________________\nbidirectional_7 (Bidirection (None, 128)               66048     \n_________________________________________________________________\ndense_26 (Dense)             (None, 128)               16512     \n_________________________________________________________________\ndense_27 (Dense)             (None, 64)                8256      \n_________________________________________________________________\ndense_28 (Dense)             (None, 32)                2080      \n_________________________________________________________________\ndense_29 (Dense)             (None, 26)                858       \n=================================================================\nTotal params: 221,754\nTrainable params: 221,754\nNon-trainable params: 0\n_________________________________________________________________\n"
     ]
    }
   ],
   "source": [
    "model = tf.keras.Sequential([\n",
    "    tf.keras.layers.Embedding(vocab_size, 64),\n",
    "    tf.keras.layers.Bidirectional(tf.keras.layers.LSTM(64)),\n",
    "    tf.keras.layers.Dense(128, activation='relu'),\n",
    "    tf.keras.layers.Dense(64, activation='relu'),\n",
    "    tf.keras.layers.Dense(32, activation='relu'),\n",
    "    tf.keras.layers.Dense(26, activation='sigmoid')\n",
    "])\n",
    "\n",
    "model.summary()"
   ]
  },
  {
   "cell_type": "code",
   "execution_count": 100,
   "metadata": {},
   "outputs": [],
   "source": [
    "model.compile(loss='binary_crossentropy', optimizer='adam', metrics=['accuracy'])"
   ]
  },
  {
   "cell_type": "code",
   "execution_count": 101,
   "metadata": {},
   "outputs": [
    {
     "output_type": "stream",
     "name": "stdout",
     "text": [
      "Epoch 1/30\n",
      "72/72 [==============================] - 89s 607ms/step - loss: 0.2534 - accuracy: 0.1619 - val_loss: 0.1194 - val_accuracy: 0.2344\n",
      "Epoch 2/30\n",
      "72/72 [==============================] - 43s 595ms/step - loss: 0.1258 - accuracy: 0.2431 - val_loss: 0.1188 - val_accuracy: 0.2483\n",
      "Epoch 3/30\n",
      "72/72 [==============================] - 43s 597ms/step - loss: 0.1255 - accuracy: 0.2431 - val_loss: 0.1163 - val_accuracy: 0.2292\n",
      "Epoch 4/30\n",
      "72/72 [==============================] - 41s 575ms/step - loss: 0.1249 - accuracy: 0.2448 - val_loss: 0.1183 - val_accuracy: 0.2274\n",
      "Epoch 5/30\n",
      "72/72 [==============================] - 41s 574ms/step - loss: 0.1253 - accuracy: 0.2448 - val_loss: 0.1162 - val_accuracy: 0.2361\n",
      "Epoch 6/30\n",
      "72/72 [==============================] - 41s 572ms/step - loss: 0.1244 - accuracy: 0.2513 - val_loss: 0.1147 - val_accuracy: 0.2378\n",
      "Epoch 7/30\n",
      "72/72 [==============================] - 42s 583ms/step - loss: 0.1230 - accuracy: 0.2444 - val_loss: 0.1111 - val_accuracy: 0.2292\n",
      "Epoch 8/30\n",
      "72/72 [==============================] - 42s 577ms/step - loss: 0.1192 - accuracy: 0.2613 - val_loss: 0.1015 - val_accuracy: 0.3229\n",
      "Epoch 9/30\n",
      "72/72 [==============================] - 42s 578ms/step - loss: 0.1121 - accuracy: 0.3251 - val_loss: 0.1032 - val_accuracy: 0.3229\n",
      "Epoch 10/30\n",
      "72/72 [==============================] - 42s 584ms/step - loss: 0.1062 - accuracy: 0.3520 - val_loss: 0.0948 - val_accuracy: 0.3733\n",
      "Epoch 11/30\n",
      "72/72 [==============================] - 42s 589ms/step - loss: 0.0994 - accuracy: 0.3772 - val_loss: 0.0890 - val_accuracy: 0.3785\n",
      "Epoch 12/30\n",
      "72/72 [==============================] - 41s 571ms/step - loss: 0.0965 - accuracy: 0.3841 - val_loss: 0.0818 - val_accuracy: 0.3906\n",
      "Epoch 13/30\n",
      "72/72 [==============================] - 42s 585ms/step - loss: 0.0914 - accuracy: 0.4045 - val_loss: 0.0788 - val_accuracy: 0.4167\n",
      "Epoch 14/30\n",
      "72/72 [==============================] - 42s 582ms/step - loss: 0.0872 - accuracy: 0.4253 - val_loss: 0.0754 - val_accuracy: 0.4253\n",
      "Epoch 15/30\n",
      "72/72 [==============================] - 42s 585ms/step - loss: 0.0820 - accuracy: 0.4557 - val_loss: 0.0733 - val_accuracy: 0.4392\n",
      "Epoch 16/30\n",
      "72/72 [==============================] - 42s 588ms/step - loss: 0.0786 - accuracy: 0.4805 - val_loss: 0.0673 - val_accuracy: 0.4826\n",
      "Epoch 17/30\n",
      "72/72 [==============================] - 42s 580ms/step - loss: 0.0741 - accuracy: 0.5022 - val_loss: 0.0603 - val_accuracy: 0.5226\n",
      "Epoch 18/30\n",
      "72/72 [==============================] - 42s 583ms/step - loss: 0.0727 - accuracy: 0.5074 - val_loss: 0.0593 - val_accuracy: 0.5295\n",
      "Epoch 19/30\n",
      "72/72 [==============================] - 41s 574ms/step - loss: 0.0680 - accuracy: 0.5356 - val_loss: 0.0587 - val_accuracy: 0.5781\n",
      "Epoch 20/30\n",
      "72/72 [==============================] - 42s 584ms/step - loss: 0.0654 - accuracy: 0.5516 - val_loss: 0.0530 - val_accuracy: 0.5868\n",
      "Epoch 21/30\n",
      "72/72 [==============================] - 41s 577ms/step - loss: 0.0599 - accuracy: 0.5859 - val_loss: 0.0522 - val_accuracy: 0.6042\n",
      "Epoch 22/30\n",
      "72/72 [==============================] - 42s 577ms/step - loss: 0.0572 - accuracy: 0.5942 - val_loss: 0.0511 - val_accuracy: 0.5747\n",
      "Epoch 23/30\n",
      "72/72 [==============================] - 41s 573ms/step - loss: 0.0513 - accuracy: 0.6337 - val_loss: 0.0425 - val_accuracy: 0.6111\n",
      "Epoch 24/30\n",
      "72/72 [==============================] - 41s 573ms/step - loss: 0.0489 - accuracy: 0.6489 - val_loss: 0.0452 - val_accuracy: 0.6406\n",
      "Epoch 25/30\n",
      "72/72 [==============================] - 41s 566ms/step - loss: 0.0458 - accuracy: 0.6766 - val_loss: 0.0409 - val_accuracy: 0.6424\n",
      "Epoch 26/30\n",
      "72/72 [==============================] - 41s 572ms/step - loss: 0.0422 - accuracy: 0.6905 - val_loss: 0.0352 - val_accuracy: 0.6858\n",
      "Epoch 27/30\n",
      "72/72 [==============================] - 41s 569ms/step - loss: 0.0407 - accuracy: 0.6962 - val_loss: 0.0336 - val_accuracy: 0.6823\n",
      "Epoch 28/30\n",
      "72/72 [==============================] - 43s 598ms/step - loss: 0.0391 - accuracy: 0.7044 - val_loss: 0.0306 - val_accuracy: 0.6944\n",
      "Epoch 29/30\n",
      "72/72 [==============================] - 44s 608ms/step - loss: 0.0371 - accuracy: 0.7161 - val_loss: 0.0279 - val_accuracy: 0.6944\n",
      "Epoch 30/30\n",
      "72/72 [==============================] - 40s 553ms/step - loss: 0.0345 - accuracy: 0.7335 - val_loss: 0.0282 - val_accuracy: 0.7205\n"
     ]
    }
   ],
   "source": [
    "NUM_EPOCHS = 30\n",
    "history = model.fit(train_set, epochs=NUM_EPOCHS, validation_data=test_set)"
   ]
  },
  {
   "cell_type": "code",
   "execution_count": 122,
   "metadata": {},
   "outputs": [
    {
     "output_type": "stream",
     "name": "stdout",
     "text": [
      "<class 'numpy.float32'>\n"
     ]
    }
   ],
   "source": [
    "# sample inferrece\n",
    "sample_laporan = 'jalan kolibri sudah rusak 5 bulan pak tolong dibenahi'\n",
    "pad = pad_sequences(tokenizer.texts_to_sequences([sample_laporan]), maxlen=max_length, truncating=trunc_type)\n",
    "prediction = model.predict(pad)\n",
    "\n",
    "res = dict(zip(label_list, prediction[0]))"
   ]
  },
  {
   "cell_type": "code",
   "execution_count": 125,
   "metadata": {},
   "outputs": [
    {
     "output_type": "stream",
     "name": "stdout",
     "text": [
      "perselisihan 0.00000\ninfrastruktur 0.77492\npemerintah 0.04302\nkesehatan 0.00006\nteknologi 0.03233\nadministrasi 0.00027\nfasilitas 0.01265\nlingkungan 0.00683\nketertiban 0.00007\nlistrik 0.00000\nbahaya 0.00357\nlainnya 0.00290\npungli 0.00003\nilegal 0.00000\nlalulintas 0.00002\nbencana 0.00027\nair 0.00000\npendidikan 0.00787\nkebersihan 0.00100\nsosial 0.00000\nwisata 0.00008\nsara 0.00000\npencurian 0.00002\nkorupsi 0.00018\nbbm 0.00000\nkeuangan 0.00606\n"
     ]
    }
   ],
   "source": [
    "for i in res.keys():\n",
    "    print(\"{} {:.5f}\".format(i, res[i]))"
   ]
  },
  {
   "cell_type": "code",
   "execution_count": null,
   "metadata": {},
   "outputs": [],
   "source": []
  }
 ]
}