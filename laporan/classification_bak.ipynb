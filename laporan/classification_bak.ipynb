{
 "metadata": {
  "orig_nbformat": 2,
  "kernelspec": {
   "name": "python395jvsc74a57bd0ac59ebe37160ed0dfa835113d9b8498d9f09ceb179beaac4002f036b9467c963",
   "display_name": "Python 3.9.5 64-bit"
  },
  "metadata": {
   "interpreter": {
    "hash": "ac59ebe37160ed0dfa835113d9b8498d9f09ceb179beaac4002f036b9467c963"
   }
  }
 },
 "nbformat": 4,
 "nbformat_minor": 2,
 "cells": [
  {
   "source": [
    "# Text Classification Notebook"
   ],
   "cell_type": "markdown",
   "metadata": {}
  },
  {
   "source": [
    "!pip install --upgrade pip\n",
    "!pip install tensorflow\n",
    "!pip install pandas\n",
    "!pip install numpy\n",
    "!pip install PySastrawi\n",
    "!pip install sklearn"
   ],
   "cell_type": "code",
   "metadata": {},
   "execution_count": null,
   "outputs": []
  },
  {
   "cell_type": "code",
   "execution_count": 1,
   "metadata": {},
   "outputs": [],
   "source": [
    "# Machine Learning related imports\n",
    "import tensorflow as tf\n",
    "\n",
    "from tensorflow.keras.preprocessing.text import Tokenizer\n",
    "from tensorflow.keras.preprocessing.sequence import pad_sequences\n",
    "from tensorflow.keras.layers import Input"
   ]
  },
  {
   "cell_type": "code",
   "execution_count": 2,
   "metadata": {},
   "outputs": [],
   "source": [
    "# Dataset and generic imports\n",
    "import pandas as pd\n",
    "import numpy as np\n",
    "import sklearn\n",
    "import os\n",
    "import string\n",
    "\n",
    "from Sastrawi.Stemmer.StemmerFactory import StemmerFactory\n",
    "from Sastrawi.StopWordRemover.StopWordRemoverFactory import StopWordRemoverFactory"
   ]
  },
  {
   "cell_type": "code",
   "execution_count": 3,
   "metadata": {},
   "outputs": [
    {
     "output_type": "stream",
     "name": "stdout",
     "text": [
      "(2852, 27)\n"
     ]
    },
    {
     "output_type": "execute_result",
     "data": {
      "text/plain": [
       "                                                text  perselisihan  \\\n",
       "0  mohon bantuannya untuk menormalkan sistem di l...             0   \n",
       "1  ass pak gubsaya perangkat desa karangsari kec ...             1   \n",
       "2  selamat sore bapak gubernur atau yang mewakili...             0   \n",
       "3  assalamualaikum pak gub saya pengurus paguyuba...             0   \n",
       "4  lapor saya okada arle sandi email  okadaarlegm...             0   \n",
       "\n",
       "   infrastruktur  pemerintah  kesehatan  teknologi  administrasi  fasilitas  \\\n",
       "0              0           0          0          1             0          0   \n",
       "1              0           0          0          0             0          0   \n",
       "2              1           0          0          0             0          0   \n",
       "3              0           1          0          0             0          0   \n",
       "4              0           0          1          0             0          0   \n",
       "\n",
       "   lingkungan  ketertiban  ...  air  pendidikan  kebersihan  sosial  wisata  \\\n",
       "0           0           0  ...    0           0           0       0       0   \n",
       "1           0           0  ...    0           0           0       0       0   \n",
       "2           0           0  ...    0           0           0       0       0   \n",
       "3           0           0  ...    0           0           0       0       0   \n",
       "4           0           0  ...    0           0           0       0       0   \n",
       "\n",
       "   sara  pencurian  korupsi  bbm  keuangan  \n",
       "0     0          0        0    0         0  \n",
       "1     0          0        0    0         0  \n",
       "2     0          0        0    0         0  \n",
       "3     0          0        0    0         0  \n",
       "4     0          0        0    0         0  \n",
       "\n",
       "[5 rows x 27 columns]"
      ],
      "text/html": "<div>\n<style scoped>\n    .dataframe tbody tr th:only-of-type {\n        vertical-align: middle;\n    }\n\n    .dataframe tbody tr th {\n        vertical-align: top;\n    }\n\n    .dataframe thead th {\n        text-align: right;\n    }\n</style>\n<table border=\"1\" class=\"dataframe\">\n  <thead>\n    <tr style=\"text-align: right;\">\n      <th></th>\n      <th>text</th>\n      <th>perselisihan</th>\n      <th>infrastruktur</th>\n      <th>pemerintah</th>\n      <th>kesehatan</th>\n      <th>teknologi</th>\n      <th>administrasi</th>\n      <th>fasilitas</th>\n      <th>lingkungan</th>\n      <th>ketertiban</th>\n      <th>...</th>\n      <th>air</th>\n      <th>pendidikan</th>\n      <th>kebersihan</th>\n      <th>sosial</th>\n      <th>wisata</th>\n      <th>sara</th>\n      <th>pencurian</th>\n      <th>korupsi</th>\n      <th>bbm</th>\n      <th>keuangan</th>\n    </tr>\n  </thead>\n  <tbody>\n    <tr>\n      <th>0</th>\n      <td>mohon bantuannya untuk menormalkan sistem di l...</td>\n      <td>0</td>\n      <td>0</td>\n      <td>0</td>\n      <td>0</td>\n      <td>1</td>\n      <td>0</td>\n      <td>0</td>\n      <td>0</td>\n      <td>0</td>\n      <td>...</td>\n      <td>0</td>\n      <td>0</td>\n      <td>0</td>\n      <td>0</td>\n      <td>0</td>\n      <td>0</td>\n      <td>0</td>\n      <td>0</td>\n      <td>0</td>\n      <td>0</td>\n    </tr>\n    <tr>\n      <th>1</th>\n      <td>ass pak gubsaya perangkat desa karangsari kec ...</td>\n      <td>1</td>\n      <td>0</td>\n      <td>0</td>\n      <td>0</td>\n      <td>0</td>\n      <td>0</td>\n      <td>0</td>\n      <td>0</td>\n      <td>0</td>\n      <td>...</td>\n      <td>0</td>\n      <td>0</td>\n      <td>0</td>\n      <td>0</td>\n      <td>0</td>\n      <td>0</td>\n      <td>0</td>\n      <td>0</td>\n      <td>0</td>\n      <td>0</td>\n    </tr>\n    <tr>\n      <th>2</th>\n      <td>selamat sore bapak gubernur atau yang mewakili...</td>\n      <td>0</td>\n      <td>1</td>\n      <td>0</td>\n      <td>0</td>\n      <td>0</td>\n      <td>0</td>\n      <td>0</td>\n      <td>0</td>\n      <td>0</td>\n      <td>...</td>\n      <td>0</td>\n      <td>0</td>\n      <td>0</td>\n      <td>0</td>\n      <td>0</td>\n      <td>0</td>\n      <td>0</td>\n      <td>0</td>\n      <td>0</td>\n      <td>0</td>\n    </tr>\n    <tr>\n      <th>3</th>\n      <td>assalamualaikum pak gub saya pengurus paguyuba...</td>\n      <td>0</td>\n      <td>0</td>\n      <td>1</td>\n      <td>0</td>\n      <td>0</td>\n      <td>0</td>\n      <td>0</td>\n      <td>0</td>\n      <td>0</td>\n      <td>...</td>\n      <td>0</td>\n      <td>0</td>\n      <td>0</td>\n      <td>0</td>\n      <td>0</td>\n      <td>0</td>\n      <td>0</td>\n      <td>0</td>\n      <td>0</td>\n      <td>0</td>\n    </tr>\n    <tr>\n      <th>4</th>\n      <td>lapor saya okada arle sandi email  okadaarlegm...</td>\n      <td>0</td>\n      <td>0</td>\n      <td>0</td>\n      <td>1</td>\n      <td>0</td>\n      <td>0</td>\n      <td>0</td>\n      <td>0</td>\n      <td>0</td>\n      <td>...</td>\n      <td>0</td>\n      <td>0</td>\n      <td>0</td>\n      <td>0</td>\n      <td>0</td>\n      <td>0</td>\n      <td>0</td>\n      <td>0</td>\n      <td>0</td>\n      <td>0</td>\n    </tr>\n  </tbody>\n</table>\n<p>5 rows × 27 columns</p>\n</div>"
     },
     "metadata": {},
     "execution_count": 3
    }
   ],
   "source": [
    "# Load dataset\n",
    "filepath = os.getcwd()\n",
    "datasetpath =  os.path.join(filepath, \"cleaned_data\", \"laporanencoded.csv\")\n",
    "\n",
    "# Github URL for dataset when used in Google Colab\n",
    "github_url = \"https://raw.githubusercontent.com/Capstone-Project-B21-CAP0113/ml-tf/main/laporan/cleaned_data/laporanencoded.csv\"\n",
    "\n",
    "laporan = pd.read_csv(datasetpath, encoding=\"ISO-8859-1\")\n",
    "# Print dataset shape\n",
    "print(laporan.shape)\n",
    "# Print dataset head\n",
    "laporan.head()\n"
   ]
  },
  {
   "cell_type": "code",
   "execution_count": 4,
   "metadata": {},
   "outputs": [
    {
     "output_type": "stream",
     "name": "stdout",
     "text": [
      "perselisihan: 16\ninfrastruktur: 353\npemerintah: 68\nkesehatan: 80\nteknologi: 23\nadministrasi: 693\nfasilitas: 73\nlingkungan: 114\nketertiban: 87\nlistrik: 43\nbahaya: 22\nlainnya: 139\npungli: 106\nilegal: 47\nlalulintas: 42\nbencana: 58\nair: 85\npendidikan: 134\nkebersihan: 9\nsosial: 181\nwisata: 13\nsara: 7\npencurian: 6\nkorupsi: 39\nbbm: 1\nkeuangan: 82\n"
     ]
    }
   ],
   "source": [
    "# Split text and labels\n",
    "label_list = [\n",
    "    \"perselisihan\",\n",
    "    \"infrastruktur\",\n",
    "    \"pemerintah\",\n",
    "    \"kesehatan\",\n",
    "    \"teknologi\",\n",
    "    \"administrasi\",\n",
    "    \"fasilitas\",\n",
    "    \"lingkungan\",\n",
    "    \"ketertiban\",\n",
    "    \"listrik\",\n",
    "    \"bahaya\",\n",
    "    \"lainnya\",\n",
    "    \"pungli\",\n",
    "    \"ilegal\",\n",
    "    \"lalulintas\",\n",
    "    \"bencana\",\n",
    "    \"air\",\n",
    "    \"pendidikan\",\n",
    "    \"kebersihan\",\n",
    "    \"sosial\",\n",
    "    \"wisata\",\n",
    "    \"sara\",\n",
    "    \"pencurian\",\n",
    "    \"korupsi\",\n",
    "    \"bbm\",\n",
    "    \"keuangan\"\n",
    "] \n",
    "x = laporan[\"text\"]\n",
    "y = laporan[label_list]\n",
    "\n",
    "# Print number of element in each category ( one element can have many label since it's a multi label classification )\n",
    "for i in label_list:\n",
    "    print(\"{}: {}\".format(i, (laporan[i] == 1).sum()))"
   ]
  },
  {
   "cell_type": "code",
   "execution_count": 5,
   "metadata": {},
   "outputs": [
    {
     "output_type": "execute_result",
     "data": {
      "text/plain": [
       "0    mohon bantuannya untuk menormalkan sistem di l...\n",
       "1    ass pak gubsaya perangkat desa karangsari kec ...\n",
       "2    selamat sore bapak gubernur atau yang mewakili...\n",
       "3    assalamualaikum pak gub saya pengurus paguyuba...\n",
       "4    lapor saya okada arle sandi email  okadaarlegm...\n",
       "Name: text, dtype: object"
      ]
     },
     "metadata": {},
     "execution_count": 5
    }
   ],
   "source": [
    "# Text head\n",
    "x.head()"
   ]
  },
  {
   "cell_type": "code",
   "execution_count": 6,
   "metadata": {},
   "outputs": [
    {
     "output_type": "execute_result",
     "data": {
      "text/plain": [
       "   perselisihan  infrastruktur  pemerintah  kesehatan  teknologi  \\\n",
       "0             0              0           0          0          1   \n",
       "1             1              0           0          0          0   \n",
       "2             0              1           0          0          0   \n",
       "3             0              0           1          0          0   \n",
       "4             0              0           0          1          0   \n",
       "\n",
       "   administrasi  fasilitas  lingkungan  ketertiban  listrik  ...  air  \\\n",
       "0             0          0           0           0        0  ...    0   \n",
       "1             0          0           0           0        0  ...    0   \n",
       "2             0          0           0           0        0  ...    0   \n",
       "3             0          0           0           0        0  ...    0   \n",
       "4             0          0           0           0        0  ...    0   \n",
       "\n",
       "   pendidikan  kebersihan  sosial  wisata  sara  pencurian  korupsi  bbm  \\\n",
       "0           0           0       0       0     0          0        0    0   \n",
       "1           0           0       0       0     0          0        0    0   \n",
       "2           0           0       0       0     0          0        0    0   \n",
       "3           0           0       0       0     0          0        0    0   \n",
       "4           0           0       0       0     0          0        0    0   \n",
       "\n",
       "   keuangan  \n",
       "0         0  \n",
       "1         0  \n",
       "2         0  \n",
       "3         0  \n",
       "4         0  \n",
       "\n",
       "[5 rows x 26 columns]"
      ],
      "text/html": "<div>\n<style scoped>\n    .dataframe tbody tr th:only-of-type {\n        vertical-align: middle;\n    }\n\n    .dataframe tbody tr th {\n        vertical-align: top;\n    }\n\n    .dataframe thead th {\n        text-align: right;\n    }\n</style>\n<table border=\"1\" class=\"dataframe\">\n  <thead>\n    <tr style=\"text-align: right;\">\n      <th></th>\n      <th>perselisihan</th>\n      <th>infrastruktur</th>\n      <th>pemerintah</th>\n      <th>kesehatan</th>\n      <th>teknologi</th>\n      <th>administrasi</th>\n      <th>fasilitas</th>\n      <th>lingkungan</th>\n      <th>ketertiban</th>\n      <th>listrik</th>\n      <th>...</th>\n      <th>air</th>\n      <th>pendidikan</th>\n      <th>kebersihan</th>\n      <th>sosial</th>\n      <th>wisata</th>\n      <th>sara</th>\n      <th>pencurian</th>\n      <th>korupsi</th>\n      <th>bbm</th>\n      <th>keuangan</th>\n    </tr>\n  </thead>\n  <tbody>\n    <tr>\n      <th>0</th>\n      <td>0</td>\n      <td>0</td>\n      <td>0</td>\n      <td>0</td>\n      <td>1</td>\n      <td>0</td>\n      <td>0</td>\n      <td>0</td>\n      <td>0</td>\n      <td>0</td>\n      <td>...</td>\n      <td>0</td>\n      <td>0</td>\n      <td>0</td>\n      <td>0</td>\n      <td>0</td>\n      <td>0</td>\n      <td>0</td>\n      <td>0</td>\n      <td>0</td>\n      <td>0</td>\n    </tr>\n    <tr>\n      <th>1</th>\n      <td>1</td>\n      <td>0</td>\n      <td>0</td>\n      <td>0</td>\n      <td>0</td>\n      <td>0</td>\n      <td>0</td>\n      <td>0</td>\n      <td>0</td>\n      <td>0</td>\n      <td>...</td>\n      <td>0</td>\n      <td>0</td>\n      <td>0</td>\n      <td>0</td>\n      <td>0</td>\n      <td>0</td>\n      <td>0</td>\n      <td>0</td>\n      <td>0</td>\n      <td>0</td>\n    </tr>\n    <tr>\n      <th>2</th>\n      <td>0</td>\n      <td>1</td>\n      <td>0</td>\n      <td>0</td>\n      <td>0</td>\n      <td>0</td>\n      <td>0</td>\n      <td>0</td>\n      <td>0</td>\n      <td>0</td>\n      <td>...</td>\n      <td>0</td>\n      <td>0</td>\n      <td>0</td>\n      <td>0</td>\n      <td>0</td>\n      <td>0</td>\n      <td>0</td>\n      <td>0</td>\n      <td>0</td>\n      <td>0</td>\n    </tr>\n    <tr>\n      <th>3</th>\n      <td>0</td>\n      <td>0</td>\n      <td>1</td>\n      <td>0</td>\n      <td>0</td>\n      <td>0</td>\n      <td>0</td>\n      <td>0</td>\n      <td>0</td>\n      <td>0</td>\n      <td>...</td>\n      <td>0</td>\n      <td>0</td>\n      <td>0</td>\n      <td>0</td>\n      <td>0</td>\n      <td>0</td>\n      <td>0</td>\n      <td>0</td>\n      <td>0</td>\n      <td>0</td>\n    </tr>\n    <tr>\n      <th>4</th>\n      <td>0</td>\n      <td>0</td>\n      <td>0</td>\n      <td>1</td>\n      <td>0</td>\n      <td>0</td>\n      <td>0</td>\n      <td>0</td>\n      <td>0</td>\n      <td>0</td>\n      <td>...</td>\n      <td>0</td>\n      <td>0</td>\n      <td>0</td>\n      <td>0</td>\n      <td>0</td>\n      <td>0</td>\n      <td>0</td>\n      <td>0</td>\n      <td>0</td>\n      <td>0</td>\n    </tr>\n  </tbody>\n</table>\n<p>5 rows × 26 columns</p>\n</div>"
     },
     "metadata": {},
     "execution_count": 6
    }
   ],
   "source": [
    "# Label head\n",
    "y.head()"
   ]
  },
  {
   "cell_type": "code",
   "execution_count": 7,
   "metadata": {},
   "outputs": [
    {
     "output_type": "stream",
     "name": "stderr",
     "text": [
      "<ipython-input-7-7f4537c43ddc>:9: SettingWithCopyWarning: \nA value is trying to be set on a copy of a slice from a DataFrame\n\nSee the caveats in the documentation: https://pandas.pydata.org/pandas-docs/stable/user_guide/indexing.html#returning-a-view-versus-a-copy\n  x[i] = stopword.remove(x[i])\n<ipython-input-7-7f4537c43ddc>:10: SettingWithCopyWarning: \nA value is trying to be set on a copy of a slice from a DataFrame\n\nSee the caveats in the documentation: https://pandas.pydata.org/pandas-docs/stable/user_guide/indexing.html#returning-a-view-versus-a-copy\n  x[i] = stemmer.stem(x[i])\n"
     ]
    },
    {
     "output_type": "execute_result",
     "data": {
      "text/plain": [
       "0    bantu normal sistem lpse kabupaten demak mana ...\n",
       "1    ass gubsaya perangkat desa karangsari kec kara...\n",
       "2    selamat sore gubernur mewakilisaya ahmad rofiq...\n",
       "3    assalamualaikum gub urus paguyuban dagang puja...\n",
       "4    lapor okada arle sandi email okadaarlegmailcom...\n",
       "Name: text, dtype: object"
      ]
     },
     "metadata": {},
     "execution_count": 7
    }
   ],
   "source": [
    "# Remove stopwords and stem words using Sastrawi\n",
    "stemmer_factory = StemmerFactory()\n",
    "stemmer = stemmer_factory.create_stemmer()\n",
    "\n",
    "stopword_factory = StopWordRemoverFactory()\n",
    "stopword = stopword_factory.create_stop_word_remover()\n",
    "\n",
    "for i in range(len(x)):\n",
    "    x[i] = stopword.remove(x[i])\n",
    "    x[i] = stemmer.stem(x[i])\n",
    "\n",
    "x.head()"
   ]
  },
  {
   "cell_type": "code",
   "execution_count": 8,
   "metadata": {},
   "outputs": [],
   "source": [
    "# Tokenize and pad text\n",
    "vocab_size = 2000\n",
    "embedding_dim = 16\n",
    "max_length = 300\n",
    "trunc_type = \"post\"\n",
    "oov_token = \"<OOV>\"\n",
    "\n",
    "tokenizer = Tokenizer(num_words = vocab_size, oov_token=oov_token)\n",
    "tokenizer.fit_on_texts(x)\n",
    "\n",
    "sequences = tokenizer.texts_to_sequences(x)\n",
    "\n",
    "padded = pad_sequences(sequences, maxlen=max_length, truncating=trunc_type)"
   ]
  },
  {
   "cell_type": "code",
   "execution_count": 9,
   "metadata": {
    "tags": []
   },
   "outputs": [
    {
     "output_type": "stream",
     "name": "stdout",
     "text": [
      "72\n18\n"
     ]
    }
   ],
   "source": [
    "# Shuffle, batch and separate data into train, dev and test\n",
    "BUFFER_SIZE = 1000\n",
    "BATCH_SIZE = 32\n",
    "DATASET_SIZE = len(x)\n",
    "\n",
    "\n",
    "tx = tf.convert_to_tensor(padded)\n",
    "ty = tf.convert_to_tensor(y)\n",
    "\n",
    "dataset = tf.data.Dataset.from_tensor_slices((tx, ty))\n",
    "dataset = dataset.shuffle(BUFFER_SIZE).batch(BATCH_SIZE)\n",
    "\n",
    "train_set = dataset.take(int(0.8 * len(dataset)))\n",
    "test_set = dataset.skip(int(0.8 * len(dataset)))\n",
    "test_set = dataset.take(int(0.2 * len(dataset))) \n",
    "\n",
    "print(len(train_set))\n",
    "print(len(test_set))"
   ]
  },
  {
   "cell_type": "code",
   "execution_count": 13,
   "metadata": {},
   "outputs": [
    {
     "output_type": "stream",
     "name": "stdout",
     "text": [
      "Model: \"sequential\"\n_________________________________________________________________\nLayer (type)                 Output Shape              Param #   \n=================================================================\nembedding_1 (Embedding)      (None, None, 128)         256000    \n_________________________________________________________________\nbidirectional (Bidirectional (None, None, 256)         263168    \n_________________________________________________________________\ndropout (Dropout)            (None, None, 256)         0         \n_________________________________________________________________\nbidirectional_1 (Bidirection (None, 128)               164352    \n_________________________________________________________________\ndropout_1 (Dropout)          (None, 128)               0         \n_________________________________________________________________\ndense (Dense)                (None, 64)                8256      \n_________________________________________________________________\ndropout_2 (Dropout)          (None, 64)                0         \n_________________________________________________________________\ndense_1 (Dense)              (None, 32)                2080      \n_________________________________________________________________\ndense_2 (Dense)              (None, 26)                858       \n=================================================================\nTotal params: 694,714\nTrainable params: 694,714\nNon-trainable params: 0\n_________________________________________________________________\n"
     ]
    }
   ],
   "source": [
    "model = tf.keras.Sequential([\n",
    "    tf.keras.layers.Embedding(vocab_size, 128),\n",
    "    tf.keras.layers.Bidirectional(tf.keras.layers.LSTM(128, return_sequences=True)),\n",
    "    tf.keras.layers.Dropout(0.2),\n",
    "    tf.keras.layers.Bidirectional(tf.keras.layers.LSTM(64)),\n",
    "    tf.keras.layers.Dropout(0.2),\n",
    "    tf.keras.layers.Dense(64, activation='relu'),\n",
    "    tf.keras.layers.Dropout(0.2),\n",
    "    tf.keras.layers.Dense(32, activation='relu'),\n",
    "    tf.keras.layers.Dense(26, activation='sigmoid')\n",
    "])\n",
    "\n",
    "model.summary()"
   ]
  },
  {
   "cell_type": "code",
   "execution_count": 14,
   "metadata": {},
   "outputs": [],
   "source": [
    "model.compile(loss='binary_crossentropy', optimizer='adam', metrics=['accuracy'])"
   ]
  },
  {
   "cell_type": "code",
   "execution_count": 15,
   "metadata": {},
   "outputs": [
    {
     "output_type": "stream",
     "name": "stdout",
     "text": [
      "Epoch 1/75\n",
      "72/72 [==============================] - 95s 1s/step - loss: 0.2978 - accuracy: 0.1719 - val_loss: 0.1187 - val_accuracy: 0.2465\n",
      "Epoch 2/75\n",
      "72/72 [==============================] - 83s 1s/step - loss: 0.1352 - accuracy: 0.2118 - val_loss: 0.1188 - val_accuracy: 0.2170\n",
      "Epoch 3/75\n",
      "72/72 [==============================] - 85s 1s/step - loss: 0.1310 - accuracy: 0.2305 - val_loss: 0.1175 - val_accuracy: 0.2222\n",
      "Epoch 4/75\n",
      "72/72 [==============================] - 87s 1s/step - loss: 0.1301 - accuracy: 0.2352 - val_loss: 0.1180 - val_accuracy: 0.2396\n",
      "Epoch 5/75\n",
      "72/72 [==============================] - 87s 1s/step - loss: 0.1283 - accuracy: 0.2322 - val_loss: 0.1146 - val_accuracy: 0.2483\n",
      "Epoch 6/75\n",
      "72/72 [==============================] - 85s 1s/step - loss: 0.1289 - accuracy: 0.2391 - val_loss: 0.1180 - val_accuracy: 0.2326\n",
      "Epoch 7/75\n",
      "72/72 [==============================] - 85s 1s/step - loss: 0.1289 - accuracy: 0.2400 - val_loss: 0.1127 - val_accuracy: 0.2465\n",
      "Epoch 8/75\n",
      "72/72 [==============================] - 85s 1s/step - loss: 0.1234 - accuracy: 0.2674 - val_loss: 0.1111 - val_accuracy: 0.3125\n",
      "Epoch 9/75\n",
      "72/72 [==============================] - 85s 1s/step - loss: 0.1174 - accuracy: 0.3069 - val_loss: 0.1083 - val_accuracy: 0.3003\n",
      "Epoch 10/75\n",
      "72/72 [==============================] - 86s 1s/step - loss: 0.1148 - accuracy: 0.3277 - val_loss: 0.1021 - val_accuracy: 0.3420\n",
      "Epoch 11/75\n",
      "72/72 [==============================] - 86s 1s/step - loss: 0.1125 - accuracy: 0.3355 - val_loss: 0.0989 - val_accuracy: 0.3438\n",
      "Epoch 12/75\n",
      "72/72 [==============================] - 88s 1s/step - loss: 0.1090 - accuracy: 0.3464 - val_loss: 0.0979 - val_accuracy: 0.3403\n",
      "Epoch 13/75\n",
      "72/72 [==============================] - 84s 1s/step - loss: 0.1064 - accuracy: 0.3494 - val_loss: 0.0964 - val_accuracy: 0.3316\n",
      "Epoch 14/75\n",
      "72/72 [==============================] - 85s 1s/step - loss: 0.1057 - accuracy: 0.3494 - val_loss: 0.0941 - val_accuracy: 0.3194\n",
      "Epoch 15/75\n",
      "72/72 [==============================] - 85s 1s/step - loss: 0.1022 - accuracy: 0.3537 - val_loss: 0.0940 - val_accuracy: 0.3785\n",
      "Epoch 16/75\n",
      "72/72 [==============================] - 85s 1s/step - loss: 0.1000 - accuracy: 0.3728 - val_loss: 0.0876 - val_accuracy: 0.3872\n",
      "Epoch 17/75\n",
      "72/72 [==============================] - 84s 1s/step - loss: 0.0999 - accuracy: 0.3702 - val_loss: 0.0869 - val_accuracy: 0.3924\n",
      "Epoch 18/75\n",
      "72/72 [==============================] - 85s 1s/step - loss: 0.0974 - accuracy: 0.3776 - val_loss: 0.0873 - val_accuracy: 0.3958\n",
      "Epoch 19/75\n",
      "72/72 [==============================] - 87s 1s/step - loss: 0.0970 - accuracy: 0.3733 - val_loss: 0.0863 - val_accuracy: 0.3750\n",
      "Epoch 20/75\n",
      "72/72 [==============================] - 85s 1s/step - loss: 0.0948 - accuracy: 0.3880 - val_loss: 0.0854 - val_accuracy: 0.3576\n",
      "Epoch 21/75\n",
      "72/72 [==============================] - 84s 1s/step - loss: 0.0957 - accuracy: 0.3772 - val_loss: 0.0817 - val_accuracy: 0.3802\n",
      "Epoch 22/75\n",
      "72/72 [==============================] - 86s 1s/step - loss: 0.0938 - accuracy: 0.3863 - val_loss: 0.0828 - val_accuracy: 0.3785\n",
      "Epoch 23/75\n",
      "72/72 [==============================] - 85s 1s/step - loss: 0.0935 - accuracy: 0.3876 - val_loss: 0.0830 - val_accuracy: 0.3611\n",
      "Epoch 24/75\n",
      "72/72 [==============================] - 85s 1s/step - loss: 0.0931 - accuracy: 0.3911 - val_loss: 0.0836 - val_accuracy: 0.3872\n",
      "Epoch 25/75\n",
      "72/72 [==============================] - 87s 1s/step - loss: 0.0919 - accuracy: 0.3963 - val_loss: 0.0821 - val_accuracy: 0.3767\n",
      "Epoch 26/75\n",
      "72/72 [==============================] - 87s 1s/step - loss: 0.0908 - accuracy: 0.3928 - val_loss: 0.0845 - val_accuracy: 0.3559\n",
      "Epoch 27/75\n",
      "72/72 [==============================] - 87s 1s/step - loss: 0.0909 - accuracy: 0.3967 - val_loss: 0.0856 - val_accuracy: 0.3837\n",
      "Epoch 28/75\n",
      "72/72 [==============================] - 87s 1s/step - loss: 0.0891 - accuracy: 0.3997 - val_loss: 0.0793 - val_accuracy: 0.4149\n",
      "Epoch 29/75\n",
      "72/72 [==============================] - 88s 1s/step - loss: 0.0889 - accuracy: 0.3932 - val_loss: 0.0802 - val_accuracy: 0.4236\n",
      "Epoch 30/75\n",
      "72/72 [==============================] - 87s 1s/step - loss: 0.0869 - accuracy: 0.4171 - val_loss: 0.0774 - val_accuracy: 0.4062\n",
      "Epoch 31/75\n",
      "72/72 [==============================] - 87s 1s/step - loss: 0.0859 - accuracy: 0.4271 - val_loss: 0.0764 - val_accuracy: 0.4427\n",
      "Epoch 32/75\n",
      "72/72 [==============================] - 86s 1s/step - loss: 0.0837 - accuracy: 0.4306 - val_loss: 0.0733 - val_accuracy: 0.4375\n",
      "Epoch 33/75\n",
      "72/72 [==============================] - 86s 1s/step - loss: 0.0840 - accuracy: 0.4306 - val_loss: 0.0765 - val_accuracy: 0.4271\n",
      "Epoch 34/75\n",
      "72/72 [==============================] - 86s 1s/step - loss: 0.0818 - accuracy: 0.4505 - val_loss: 0.0703 - val_accuracy: 0.4479\n",
      "Epoch 35/75\n",
      "72/72 [==============================] - 87s 1s/step - loss: 0.0805 - accuracy: 0.4566 - val_loss: 0.0702 - val_accuracy: 0.4392\n",
      "Epoch 36/75\n",
      "72/72 [==============================] - 91s 1s/step - loss: 0.0791 - accuracy: 0.4523 - val_loss: 0.0700 - val_accuracy: 0.4462\n",
      "Epoch 37/75\n",
      "72/72 [==============================] - 88s 1s/step - loss: 0.0800 - accuracy: 0.4405 - val_loss: 0.0724 - val_accuracy: 0.4340\n",
      "Epoch 38/75\n",
      "72/72 [==============================] - 87s 1s/step - loss: 0.0792 - accuracy: 0.4457 - val_loss: 0.0692 - val_accuracy: 0.4219\n",
      "Epoch 39/75\n",
      "72/72 [==============================] - 89s 1s/step - loss: 0.0754 - accuracy: 0.4701 - val_loss: 0.0640 - val_accuracy: 0.4861\n",
      "Epoch 40/75\n",
      "72/72 [==============================] - 89s 1s/step - loss: 0.0769 - accuracy: 0.4653 - val_loss: 0.0694 - val_accuracy: 0.4462\n",
      "Epoch 41/75\n",
      "72/72 [==============================] - 85s 1s/step - loss: 0.0744 - accuracy: 0.4809 - val_loss: 0.0673 - val_accuracy: 0.4826\n",
      "Epoch 42/75\n",
      "72/72 [==============================] - 86s 1s/step - loss: 0.0737 - accuracy: 0.4831 - val_loss: 0.0613 - val_accuracy: 0.4792\n",
      "Epoch 43/75\n",
      "72/72 [==============================] - 87s 1s/step - loss: 0.0709 - accuracy: 0.5017 - val_loss: 0.0639 - val_accuracy: 0.4844\n",
      "Epoch 44/75\n",
      "72/72 [==============================] - 88s 1s/step - loss: 0.0726 - accuracy: 0.4965 - val_loss: 0.0623 - val_accuracy: 0.5226\n",
      "Epoch 45/75\n",
      "72/72 [==============================] - 90s 1s/step - loss: 0.0698 - accuracy: 0.5000 - val_loss: 0.0602 - val_accuracy: 0.4983\n",
      "Epoch 46/75\n",
      "72/72 [==============================] - 90s 1s/step - loss: 0.0678 - accuracy: 0.5078 - val_loss: 0.0606 - val_accuracy: 0.4948\n",
      "Epoch 47/75\n",
      "72/72 [==============================] - 101s 1s/step - loss: 0.0680 - accuracy: 0.5260 - val_loss: 0.0547 - val_accuracy: 0.5486\n",
      "Epoch 48/75\n",
      "72/72 [==============================] - 102s 1s/step - loss: 0.0646 - accuracy: 0.5421 - val_loss: 0.0589 - val_accuracy: 0.5347\n",
      "Epoch 49/75\n",
      "72/72 [==============================] - 104s 1s/step - loss: 0.0645 - accuracy: 0.5378 - val_loss: 0.0541 - val_accuracy: 0.5434\n",
      "Epoch 50/75\n",
      "72/72 [==============================] - 93s 1s/step - loss: 0.0631 - accuracy: 0.5469 - val_loss: 0.0512 - val_accuracy: 0.5573\n",
      "Epoch 51/75\n",
      "72/72 [==============================] - 92s 1s/step - loss: 0.0613 - accuracy: 0.5629 - val_loss: 0.0570 - val_accuracy: 0.5243\n",
      "Epoch 52/75\n",
      "72/72 [==============================] - 89s 1s/step - loss: 0.0608 - accuracy: 0.5634 - val_loss: 0.0482 - val_accuracy: 0.5868\n",
      "Epoch 53/75\n",
      "72/72 [==============================] - 91s 1s/step - loss: 0.0618 - accuracy: 0.5621 - val_loss: 0.0520 - val_accuracy: 0.5625\n",
      "Epoch 54/75\n",
      "72/72 [==============================] - 89s 1s/step - loss: 0.0597 - accuracy: 0.5768 - val_loss: 0.0585 - val_accuracy: 0.5660\n",
      "Epoch 55/75\n",
      "72/72 [==============================] - 89s 1s/step - loss: 0.0582 - accuracy: 0.5773 - val_loss: 0.0460 - val_accuracy: 0.5972\n",
      "Epoch 56/75\n",
      "72/72 [==============================] - 89s 1s/step - loss: 0.0557 - accuracy: 0.6081 - val_loss: 0.0489 - val_accuracy: 0.5816\n",
      "Epoch 57/75\n",
      "72/72 [==============================] - 90s 1s/step - loss: 0.0554 - accuracy: 0.6046 - val_loss: 0.0465 - val_accuracy: 0.5712\n",
      "Epoch 58/75\n",
      "72/72 [==============================] - 89s 1s/step - loss: 0.0548 - accuracy: 0.6029 - val_loss: 0.0520 - val_accuracy: 0.5781\n",
      "Epoch 59/75\n",
      "72/72 [==============================] - 89s 1s/step - loss: 0.0543 - accuracy: 0.6115 - val_loss: 0.0480 - val_accuracy: 0.6215\n",
      "Epoch 60/75\n",
      "72/72 [==============================] - 88s 1s/step - loss: 0.0527 - accuracy: 0.6267 - val_loss: 0.0434 - val_accuracy: 0.6198\n",
      "Epoch 61/75\n",
      "72/72 [==============================] - 88s 1s/step - loss: 0.0510 - accuracy: 0.6332 - val_loss: 0.0418 - val_accuracy: 0.6302\n",
      "Epoch 62/75\n",
      "72/72 [==============================] - 88s 1s/step - loss: 0.0493 - accuracy: 0.6402 - val_loss: 0.0410 - val_accuracy: 0.6649\n",
      "Epoch 63/75\n",
      "72/72 [==============================] - 88s 1s/step - loss: 0.0479 - accuracy: 0.6554 - val_loss: 0.0395 - val_accuracy: 0.6406\n",
      "Epoch 64/75\n",
      "72/72 [==============================] - 88s 1s/step - loss: 0.0455 - accuracy: 0.6641 - val_loss: 0.0410 - val_accuracy: 0.6424\n",
      "Epoch 65/75\n",
      "72/72 [==============================] - 87s 1s/step - loss: 0.0453 - accuracy: 0.6727 - val_loss: 0.0358 - val_accuracy: 0.6615\n",
      "Epoch 66/75\n",
      "72/72 [==============================] - 88s 1s/step - loss: 0.0436 - accuracy: 0.6723 - val_loss: 0.0395 - val_accuracy: 0.6510\n",
      "Epoch 67/75\n",
      "72/72 [==============================] - 88s 1s/step - loss: 0.0431 - accuracy: 0.6771 - val_loss: 0.0327 - val_accuracy: 0.6736\n",
      "Epoch 68/75\n",
      "72/72 [==============================] - 90s 1s/step - loss: 0.0427 - accuracy: 0.6810 - val_loss: 0.0338 - val_accuracy: 0.6910\n",
      "Epoch 69/75\n",
      "72/72 [==============================] - 91s 1s/step - loss: 0.0412 - accuracy: 0.6914 - val_loss: 0.0320 - val_accuracy: 0.6858\n",
      "Epoch 70/75\n",
      "72/72 [==============================] - 87s 1s/step - loss: 0.0402 - accuracy: 0.6979 - val_loss: 0.0317 - val_accuracy: 0.6979\n",
      "Epoch 71/75\n",
      "72/72 [==============================] - 88s 1s/step - loss: 0.0426 - accuracy: 0.6897 - val_loss: 0.0319 - val_accuracy: 0.6910\n",
      "Epoch 72/75\n",
      "72/72 [==============================] - 89s 1s/step - loss: 0.0394 - accuracy: 0.6992 - val_loss: 0.0306 - val_accuracy: 0.6979\n",
      "Epoch 73/75\n",
      "72/72 [==============================] - 90s 1s/step - loss: 0.0379 - accuracy: 0.7135 - val_loss: 0.0340 - val_accuracy: 0.6806\n",
      "Epoch 74/75\n",
      "72/72 [==============================] - 90s 1s/step - loss: 0.0405 - accuracy: 0.7010 - val_loss: 0.0344 - val_accuracy: 0.6806\n",
      "Epoch 75/75\n",
      "72/72 [==============================] - 92s 1s/step - loss: 0.0384 - accuracy: 0.7044 - val_loss: 0.0286 - val_accuracy: 0.7170\n"
     ]
    }
   ],
   "source": [
    "NUM_EPOCHS = 75\n",
    "history = model.fit(train_set, epochs=NUM_EPOCHS, validation_data=test_set)"
   ]
  },
  {
   "cell_type": "code",
   "execution_count": 16,
   "metadata": {},
   "outputs": [],
   "source": [
    "# Text cleaning function for inferrence\n",
    "def treatinput(inp):\n",
    "    # Make string into lowercase string\n",
    "    treated = inp.lower()\n",
    "    # remove punctuation\n",
    "    treated = treated.translate(str.maketrans(\"\",\"\",string.punctuation))\n",
    "    # remove trailing whitespace\n",
    "    treated = treated.strip()\n",
    "    # Remove stopwords\n",
    "    treated = stopword.remove(treated)\n",
    "    # Stem string\n",
    "    treated = stemmer.stem(treated)\n",
    "    return treated"
   ]
  },
  {
   "cell_type": "code",
   "execution_count": 19,
   "metadata": {},
   "outputs": [
    {
     "output_type": "stream",
     "name": "stdout",
     "text": [
      "jalan sukamaju jaya macet pagi lampu merah mati polisi lintas\n",
      "[[   0    0    0    0    0    0    0    0    0    0    0    0    0    0\n",
      "     0    0    0    0    0    0    0    0    0    0    0    0    0    0\n",
      "     0    0    0    0    0    0    0    0    0    0    0    0    0    0\n",
      "     0    0    0    0    0    0    0    0    0    0    0    0    0    0\n",
      "     0    0    0    0    0    0    0    0    0    0    0    0    0    0\n",
      "     0    0    0    0    0    0    0    0    0    0    0    0    0    0\n",
      "     0    0    0    0    0    0    0    0    0    0    0    0    0    0\n",
      "     0    0    0    0    0    0    0    0    0    0    0    0    0    0\n",
      "     0    0    0    0    0    0    0    0    0    0    0    0    0    0\n",
      "     0    0    0    0    0    0    0    0    0    0    0    0    0    0\n",
      "     0    0    0    0    0    0    0    0    0    0    0    0    0    0\n",
      "     0    0    0    0    0    0    0    0    0    0    0    0    0    0\n",
      "     0    0    0    0    0    0    0    0    0    0    0    0    0    0\n",
      "     0    0    0    0    0    0    0    0    0    0    0    0    0    0\n",
      "     0    0    0    0    0    0    0    0    0    0    0    0    0    0\n",
      "     0    0    0    0    0    0    0    0    0    0    0    0    0    0\n",
      "     0    0    0    0    0    0    0    0    0    0    0    0    0    0\n",
      "     0    0    0    0    0    0    0    0    0    0    0    0    0    0\n",
      "     0    0    0    0    0    0    0    0    0    0    0    0    0    0\n",
      "     0    0    0    0    0    0    0    0    0    0    0    0    0    0\n",
      "     0    0    0    0    0    0    0    0    0    0    5    1 1685  299\n",
      "    51  286  746  100  266  586]]\n"
     ]
    }
   ],
   "source": [
    "# sample inferrece\n",
    "sample_laporan = \"Jalan sukamaju jaya macet sudah dari pagi, lampu merah mati dan tidak ada polisi lalu lintas\"\n",
    "treated_input = treatinput(sample_laporan)\n",
    "print(treated_input)\n",
    "pad = pad_sequences(tokenizer.texts_to_sequences([treated_input]), maxlen=max_length, truncating=trunc_type)\n",
    "prediction = model.predict(pad)\n",
    "\n",
    "res = dict(zip(label_list, prediction[0]))"
   ]
  },
  {
   "cell_type": "code",
   "execution_count": 20,
   "metadata": {},
   "outputs": [
    {
     "output_type": "stream",
     "name": "stdout",
     "text": [
      "perselisihan 0.00007\ninfrastruktur 0.01182\npemerintah 0.00012\nkesehatan 0.00000\nteknologi 0.00000\nadministrasi 0.00001\nfasilitas 0.00262\nlingkungan 0.00146\nketertiban 0.00000\nlistrik 0.24384\nbahaya 0.00119\nlainnya 0.00000\npungli 0.00000\nilegal 0.00002\nlalulintas 0.02193\nbencana 0.42958\nair 0.13674\npendidikan 0.00000\nkebersihan 0.00002\nsosial 0.00000\nwisata 0.00002\nsara 0.00000\npencurian 0.00000\nkorupsi 0.00000\nbbm 0.00000\nkeuangan 0.00000\n"
     ]
    }
   ],
   "source": [
    "# Print predictions\n",
    "for i in res.keys():\n",
    "    # if(res[i] > 0.6):\n",
    "    print(\"{} {:.5f}\".format(i, res[i]))"
   ]
  },
  {
   "cell_type": "code",
   "execution_count": 21,
   "metadata": {},
   "outputs": [],
   "source": [
    "# Try a new model with Keras Tuner\n",
    "import kerastuner as kt"
   ]
  },
  {
   "cell_type": "code",
   "execution_count": 22,
   "metadata": {},
   "outputs": [],
   "source": [
    "# Define Model\n",
    "def model_builder(hp):\n",
    "    emb_units = hp.Int('emb_units', min_value=16, max_value=256, step=16)\n",
    "    bid1_units = hp.Int('bid1_units', min_value=16, max_value=256, step=16)\n",
    "    drop1_frac = hp.Float('drop1_frac', min_value=0.1, max_value=0.8, step=0.1)\n",
    "    bid2_units = hp.Int('bid2_units', min_value=16, max_value=256, step=16)\n",
    "    drop2_frac = hp.Float('drop2_frac', min_value=0.1, max_value=0.8, step=0.1)\n",
    "    dense1_units = hp.Int('dense1_unit', min_value=16, max_value=256, step=16)\n",
    "    drop3_frac = hp.Float('drop3_frac', min_value=0.1, max_value=0.8, step=0.1)\n",
    "    dense2_units = hp.Int('dense2_unit', min_value=16, max_value=256, step=16)\n",
    "\n",
    "    model = tf.keras.Sequential([\n",
    "    tf.keras.layers.Embedding(vocab_size, emb_units),\n",
    "    tf.keras.layers.Bidirectional(tf.keras.layers.LSTM(bid1_units, return_sequences=True)),\n",
    "    tf.keras.layers.Dropout(drop1_frac),\n",
    "    tf.keras.layers.Bidirectional(tf.keras.layers.LSTM(bid2_units)),\n",
    "    tf.keras.layers.Dropout(drop2_frac),\n",
    "    tf.keras.layers.Dense(dense1_units, activation='relu'),\n",
    "    tf.keras.layers.Dropout(drop3_frac),\n",
    "    tf.keras.layers.Dense(dense2_units, activation='relu'),\n",
    "    tf.keras.layers.Dense(26, activation='sigmoid')\n",
    "])\n",
    "\n",
    "    hp_learning_rate = hp.Choice('learning_rate', values=[1e-2, 1e-3, 1e-4, 1e-5])\n",
    "\n",
    "    model.compile(loss='binary_crossentropy', optimizer=tf.keras.optimizers.Adam(learning_rate=hp_learning_rate), metrics=['accuracy'])\n",
    "    \n",
    "    return model"
   ]
  },
  {
   "cell_type": "code",
   "execution_count": 23,
   "metadata": {},
   "outputs": [],
   "source": [
    "tuner = kt.Hyperband(model_builder, objective='val_accuracy', max_epochs=10, factor=3)"
   ]
  },
  {
   "cell_type": "code",
   "execution_count": 24,
   "metadata": {},
   "outputs": [],
   "source": [
    "stop_early = tf.keras.callbacks.EarlyStopping(monitor='val_loss', patience=5)"
   ]
  },
  {
   "cell_type": "code",
   "execution_count": 25,
   "metadata": {},
   "outputs": [
    {
     "output_type": "stream",
     "name": "stdout",
     "text": [
      "Trial 5 Complete [00h 03m 30s]\n",
      "val_accuracy: 0.2395833283662796\n",
      "\n",
      "Best val_accuracy So Far: 0.2534722089767456\n",
      "Total elapsed time: 00h 55m 20s\n",
      "\n",
      "Search: Running Trial #6\n",
      "\n",
      "Hyperparameter    |Value             |Best Value So Far \n",
      "emb_units         |48                |32                \n",
      "bid1_units        |240               |112               \n",
      "drop1_frac        |0.6               |0.3               \n",
      "bid2_units        |176               |112               \n",
      "drop2_frac        |0.4               |0.4               \n",
      "dense1_unit       |176               |112               \n",
      "drop3_frac        |0.7               |0.4               \n",
      "dense2_unit       |144               |224               \n",
      "learning_rate     |1e-05             |0.01              \n",
      "tuner/epochs      |2                 |2                 \n",
      "tuner/initial_e...|0                 |0                 \n",
      "tuner/bracket     |2                 |2                 \n",
      "tuner/round       |0                 |0                 \n",
      "\n",
      "Epoch 1/2\n",
      "72/72 [==============================] - 618s 8s/step - loss: 0.6918 - accuracy: 0.0573 - val_loss: 0.6889 - val_accuracy: 0.0625\n",
      "Epoch 2/2\n",
      "72/72 [==============================] - 623s 9s/step - loss: 0.6846 - accuracy: 0.0760 - val_loss: 0.6749 - val_accuracy: 0.0521\n"
     ]
    },
    {
     "output_type": "error",
     "ename": "UnknownError",
     "evalue": "Failed to WriteFile: .\\untitled_project\\trial_1d7fdf6383509797bf728adad384d056\\trial.json : There is not enough space on the disk.\r\n; operation in progress",
     "traceback": [
      "\u001b[1;31m---------------------------------------------------------------------------\u001b[0m",
      "\u001b[1;31mUnknownError\u001b[0m                              Traceback (most recent call last)",
      "\u001b[1;32m<ipython-input-25-197d1068cd86>\u001b[0m in \u001b[0;36m<module>\u001b[1;34m\u001b[0m\n\u001b[1;32m----> 1\u001b[1;33m \u001b[0mtuner\u001b[0m\u001b[1;33m.\u001b[0m\u001b[0msearch\u001b[0m\u001b[1;33m(\u001b[0m\u001b[0mtrain_set\u001b[0m\u001b[1;33m,\u001b[0m \u001b[0mepochs\u001b[0m\u001b[1;33m=\u001b[0m\u001b[1;36m100\u001b[0m\u001b[1;33m,\u001b[0m \u001b[0mvalidation_data\u001b[0m\u001b[1;33m=\u001b[0m\u001b[0mtest_set\u001b[0m\u001b[1;33m,\u001b[0m \u001b[0mcallbacks\u001b[0m\u001b[1;33m=\u001b[0m\u001b[1;33m[\u001b[0m\u001b[0mstop_early\u001b[0m\u001b[1;33m]\u001b[0m\u001b[1;33m)\u001b[0m\u001b[1;33m\u001b[0m\u001b[1;33m\u001b[0m\u001b[0m\n\u001b[0m\u001b[0;32m      2\u001b[0m \u001b[1;33m\u001b[0m\u001b[0m\n\u001b[0;32m      3\u001b[0m \u001b[0mbest_hps\u001b[0m\u001b[1;33m=\u001b[0m \u001b[0mtuner\u001b[0m\u001b[1;33m.\u001b[0m\u001b[0mget_best_hyperparameters\u001b[0m\u001b[1;33m(\u001b[0m\u001b[0mnum_trials\u001b[0m\u001b[1;33m=\u001b[0m\u001b[1;36m1\u001b[0m\u001b[1;33m)\u001b[0m\u001b[1;33m[\u001b[0m\u001b[1;36m0\u001b[0m\u001b[1;33m]\u001b[0m\u001b[1;33m\u001b[0m\u001b[1;33m\u001b[0m\u001b[0m\n\u001b[0;32m      4\u001b[0m \u001b[0mprint\u001b[0m\u001b[1;33m(\u001b[0m\u001b[0mbest_hps\u001b[0m\u001b[1;33m)\u001b[0m\u001b[1;33m\u001b[0m\u001b[1;33m\u001b[0m\u001b[0m\n",
      "\u001b[1;32m~\\AppData\\Roaming\\Python\\Python39\\site-packages\\kerastuner\\engine\\base_tuner.py\u001b[0m in \u001b[0;36msearch\u001b[1;34m(self, *fit_args, **fit_kwargs)\u001b[0m\n\u001b[0;32m    129\u001b[0m \u001b[1;33m\u001b[0m\u001b[0m\n\u001b[0;32m    130\u001b[0m             \u001b[0mself\u001b[0m\u001b[1;33m.\u001b[0m\u001b[0mon_trial_begin\u001b[0m\u001b[1;33m(\u001b[0m\u001b[0mtrial\u001b[0m\u001b[1;33m)\u001b[0m\u001b[1;33m\u001b[0m\u001b[1;33m\u001b[0m\u001b[0m\n\u001b[1;32m--> 131\u001b[1;33m             \u001b[0mself\u001b[0m\u001b[1;33m.\u001b[0m\u001b[0mrun_trial\u001b[0m\u001b[1;33m(\u001b[0m\u001b[0mtrial\u001b[0m\u001b[1;33m,\u001b[0m \u001b[1;33m*\u001b[0m\u001b[0mfit_args\u001b[0m\u001b[1;33m,\u001b[0m \u001b[1;33m**\u001b[0m\u001b[0mfit_kwargs\u001b[0m\u001b[1;33m)\u001b[0m\u001b[1;33m\u001b[0m\u001b[1;33m\u001b[0m\u001b[0m\n\u001b[0m\u001b[0;32m    132\u001b[0m             \u001b[0mself\u001b[0m\u001b[1;33m.\u001b[0m\u001b[0mon_trial_end\u001b[0m\u001b[1;33m(\u001b[0m\u001b[0mtrial\u001b[0m\u001b[1;33m)\u001b[0m\u001b[1;33m\u001b[0m\u001b[1;33m\u001b[0m\u001b[0m\n\u001b[0;32m    133\u001b[0m         \u001b[0mself\u001b[0m\u001b[1;33m.\u001b[0m\u001b[0mon_search_end\u001b[0m\u001b[1;33m(\u001b[0m\u001b[1;33m)\u001b[0m\u001b[1;33m\u001b[0m\u001b[1;33m\u001b[0m\u001b[0m\n",
      "\u001b[1;32m~\\AppData\\Roaming\\Python\\Python39\\site-packages\\kerastuner\\tuners\\hyperband.py\u001b[0m in \u001b[0;36mrun_trial\u001b[1;34m(self, trial, *fit_args, **fit_kwargs)\u001b[0m\n\u001b[0;32m    352\u001b[0m             \u001b[0mfit_kwargs\u001b[0m\u001b[1;33m[\u001b[0m\u001b[1;34m'epochs'\u001b[0m\u001b[1;33m]\u001b[0m \u001b[1;33m=\u001b[0m \u001b[0mhp\u001b[0m\u001b[1;33m.\u001b[0m\u001b[0mvalues\u001b[0m\u001b[1;33m[\u001b[0m\u001b[1;34m'tuner/epochs'\u001b[0m\u001b[1;33m]\u001b[0m\u001b[1;33m\u001b[0m\u001b[1;33m\u001b[0m\u001b[0m\n\u001b[0;32m    353\u001b[0m             \u001b[0mfit_kwargs\u001b[0m\u001b[1;33m[\u001b[0m\u001b[1;34m'initial_epoch'\u001b[0m\u001b[1;33m]\u001b[0m \u001b[1;33m=\u001b[0m \u001b[0mhp\u001b[0m\u001b[1;33m.\u001b[0m\u001b[0mvalues\u001b[0m\u001b[1;33m[\u001b[0m\u001b[1;34m'tuner/initial_epoch'\u001b[0m\u001b[1;33m]\u001b[0m\u001b[1;33m\u001b[0m\u001b[1;33m\u001b[0m\u001b[0m\n\u001b[1;32m--> 354\u001b[1;33m         \u001b[0msuper\u001b[0m\u001b[1;33m(\u001b[0m\u001b[0mHyperband\u001b[0m\u001b[1;33m,\u001b[0m \u001b[0mself\u001b[0m\u001b[1;33m)\u001b[0m\u001b[1;33m.\u001b[0m\u001b[0mrun_trial\u001b[0m\u001b[1;33m(\u001b[0m\u001b[0mtrial\u001b[0m\u001b[1;33m,\u001b[0m \u001b[1;33m*\u001b[0m\u001b[0mfit_args\u001b[0m\u001b[1;33m,\u001b[0m \u001b[1;33m**\u001b[0m\u001b[0mfit_kwargs\u001b[0m\u001b[1;33m)\u001b[0m\u001b[1;33m\u001b[0m\u001b[1;33m\u001b[0m\u001b[0m\n\u001b[0m\u001b[0;32m    355\u001b[0m \u001b[1;33m\u001b[0m\u001b[0m\n\u001b[0;32m    356\u001b[0m     \u001b[1;32mdef\u001b[0m \u001b[0m_build_model\u001b[0m\u001b[1;33m(\u001b[0m\u001b[0mself\u001b[0m\u001b[1;33m,\u001b[0m \u001b[0mhp\u001b[0m\u001b[1;33m)\u001b[0m\u001b[1;33m:\u001b[0m\u001b[1;33m\u001b[0m\u001b[1;33m\u001b[0m\u001b[0m\n",
      "\u001b[1;32m~\\AppData\\Roaming\\Python\\Python39\\site-packages\\kerastuner\\engine\\multi_execution_tuner.py\u001b[0m in \u001b[0;36mrun_trial\u001b[1;34m(self, trial, *fit_args, **fit_kwargs)\u001b[0m\n\u001b[0;32m    106\u001b[0m         \u001b[1;32mfor\u001b[0m \u001b[0mmetric\u001b[0m\u001b[1;33m,\u001b[0m \u001b[0mexecution_values\u001b[0m \u001b[1;32min\u001b[0m \u001b[0mmetrics\u001b[0m\u001b[1;33m.\u001b[0m\u001b[0mitems\u001b[0m\u001b[1;33m(\u001b[0m\u001b[1;33m)\u001b[0m\u001b[1;33m:\u001b[0m\u001b[1;33m\u001b[0m\u001b[1;33m\u001b[0m\u001b[0m\n\u001b[0;32m    107\u001b[0m             \u001b[0maveraged_metrics\u001b[0m\u001b[1;33m[\u001b[0m\u001b[0mmetric\u001b[0m\u001b[1;33m]\u001b[0m \u001b[1;33m=\u001b[0m \u001b[0mnp\u001b[0m\u001b[1;33m.\u001b[0m\u001b[0mmean\u001b[0m\u001b[1;33m(\u001b[0m\u001b[0mexecution_values\u001b[0m\u001b[1;33m)\u001b[0m\u001b[1;33m\u001b[0m\u001b[1;33m\u001b[0m\u001b[0m\n\u001b[1;32m--> 108\u001b[1;33m         self.oracle.update_trial(\n\u001b[0m\u001b[0;32m    109\u001b[0m             trial.trial_id, metrics=averaged_metrics, step=self._reported_step)\n\u001b[0;32m    110\u001b[0m \u001b[1;33m\u001b[0m\u001b[0m\n",
      "\u001b[1;32m~\\AppData\\Roaming\\Python\\Python39\\site-packages\\kerastuner\\engine\\oracle.py\u001b[0m in \u001b[0;36mupdate_trial\u001b[1;34m(self, trial_id, metrics, step)\u001b[0m\n\u001b[0;32m    205\u001b[0m                 \u001b[0mtrial\u001b[0m\u001b[1;33m.\u001b[0m\u001b[0mmetrics\u001b[0m\u001b[1;33m.\u001b[0m\u001b[0mregister\u001b[0m\u001b[1;33m(\u001b[0m\u001b[0mmetric_name\u001b[0m\u001b[1;33m,\u001b[0m \u001b[0mdirection\u001b[0m\u001b[1;33m=\u001b[0m\u001b[0mdirection\u001b[0m\u001b[1;33m)\u001b[0m\u001b[1;33m\u001b[0m\u001b[1;33m\u001b[0m\u001b[0m\n\u001b[0;32m    206\u001b[0m             \u001b[0mtrial\u001b[0m\u001b[1;33m.\u001b[0m\u001b[0mmetrics\u001b[0m\u001b[1;33m.\u001b[0m\u001b[0mupdate\u001b[0m\u001b[1;33m(\u001b[0m\u001b[0mmetric_name\u001b[0m\u001b[1;33m,\u001b[0m \u001b[0mmetric_value\u001b[0m\u001b[1;33m,\u001b[0m \u001b[0mstep\u001b[0m\u001b[1;33m=\u001b[0m\u001b[0mstep\u001b[0m\u001b[1;33m)\u001b[0m\u001b[1;33m\u001b[0m\u001b[1;33m\u001b[0m\u001b[0m\n\u001b[1;32m--> 207\u001b[1;33m         \u001b[0mself\u001b[0m\u001b[1;33m.\u001b[0m\u001b[0m_save_trial\u001b[0m\u001b[1;33m(\u001b[0m\u001b[0mtrial\u001b[0m\u001b[1;33m)\u001b[0m\u001b[1;33m\u001b[0m\u001b[1;33m\u001b[0m\u001b[0m\n\u001b[0m\u001b[0;32m    208\u001b[0m         \u001b[1;31m# To signal early stopping, set Trial.status to \"STOPPED\".\u001b[0m\u001b[1;33m\u001b[0m\u001b[1;33m\u001b[0m\u001b[1;33m\u001b[0m\u001b[0m\n\u001b[0;32m    209\u001b[0m         \u001b[1;32mreturn\u001b[0m \u001b[0mtrial\u001b[0m\u001b[1;33m.\u001b[0m\u001b[0mstatus\u001b[0m\u001b[1;33m\u001b[0m\u001b[1;33m\u001b[0m\u001b[0m\n",
      "\u001b[1;32m~\\AppData\\Roaming\\Python\\Python39\\site-packages\\kerastuner\\engine\\oracle.py\u001b[0m in \u001b[0;36m_save_trial\u001b[1;34m(self, trial)\u001b[0m\n\u001b[0;32m    383\u001b[0m         \u001b[1;31m# Write trial status to trial directory\u001b[0m\u001b[1;33m\u001b[0m\u001b[1;33m\u001b[0m\u001b[1;33m\u001b[0m\u001b[0m\n\u001b[0;32m    384\u001b[0m         \u001b[0mtrial_id\u001b[0m \u001b[1;33m=\u001b[0m \u001b[0mtrial\u001b[0m\u001b[1;33m.\u001b[0m\u001b[0mtrial_id\u001b[0m\u001b[1;33m\u001b[0m\u001b[1;33m\u001b[0m\u001b[0m\n\u001b[1;32m--> 385\u001b[1;33m         trial.save(os.path.join(\n\u001b[0m\u001b[0;32m    386\u001b[0m             \u001b[0mself\u001b[0m\u001b[1;33m.\u001b[0m\u001b[0m_get_trial_dir\u001b[0m\u001b[1;33m(\u001b[0m\u001b[0mtrial_id\u001b[0m\u001b[1;33m)\u001b[0m\u001b[1;33m,\u001b[0m\u001b[1;33m\u001b[0m\u001b[1;33m\u001b[0m\u001b[0m\n\u001b[0;32m    387\u001b[0m             'trial.json'))\n",
      "\u001b[1;32m~\\AppData\\Roaming\\Python\\Python39\\site-packages\\kerastuner\\engine\\stateful.py\u001b[0m in \u001b[0;36msave\u001b[1;34m(self, fname)\u001b[0m\n\u001b[0;32m     50\u001b[0m         \u001b[0mstate_json\u001b[0m \u001b[1;33m=\u001b[0m \u001b[0mjson\u001b[0m\u001b[1;33m.\u001b[0m\u001b[0mdumps\u001b[0m\u001b[1;33m(\u001b[0m\u001b[0mstate\u001b[0m\u001b[1;33m)\u001b[0m\u001b[1;33m\u001b[0m\u001b[1;33m\u001b[0m\u001b[0m\n\u001b[0;32m     51\u001b[0m         \u001b[1;32mwith\u001b[0m \u001b[0mtf\u001b[0m\u001b[1;33m.\u001b[0m\u001b[0mio\u001b[0m\u001b[1;33m.\u001b[0m\u001b[0mgfile\u001b[0m\u001b[1;33m.\u001b[0m\u001b[0mGFile\u001b[0m\u001b[1;33m(\u001b[0m\u001b[0mfname\u001b[0m\u001b[1;33m,\u001b[0m \u001b[1;34m'w'\u001b[0m\u001b[1;33m)\u001b[0m \u001b[1;32mas\u001b[0m \u001b[0mf\u001b[0m\u001b[1;33m:\u001b[0m\u001b[1;33m\u001b[0m\u001b[1;33m\u001b[0m\u001b[0m\n\u001b[1;32m---> 52\u001b[1;33m             \u001b[0mf\u001b[0m\u001b[1;33m.\u001b[0m\u001b[0mwrite\u001b[0m\u001b[1;33m(\u001b[0m\u001b[0mstate_json\u001b[0m\u001b[1;33m)\u001b[0m\u001b[1;33m\u001b[0m\u001b[1;33m\u001b[0m\u001b[0m\n\u001b[0m\u001b[0;32m     53\u001b[0m         \u001b[1;32mreturn\u001b[0m \u001b[0mstr\u001b[0m\u001b[1;33m(\u001b[0m\u001b[0mfname\u001b[0m\u001b[1;33m)\u001b[0m\u001b[1;33m\u001b[0m\u001b[1;33m\u001b[0m\u001b[0m\n\u001b[0;32m     54\u001b[0m \u001b[1;33m\u001b[0m\u001b[0m\n",
      "\u001b[1;32m~\\AppData\\Roaming\\Python\\Python39\\site-packages\\tensorflow\\python\\lib\\io\\file_io.py\u001b[0m in \u001b[0;36mwrite\u001b[1;34m(self, file_content)\u001b[0m\n\u001b[0;32m    101\u001b[0m     \u001b[1;34m\"\"\"Writes file_content to the file. Appends to the end of the file.\"\"\"\u001b[0m\u001b[1;33m\u001b[0m\u001b[1;33m\u001b[0m\u001b[0m\n\u001b[0;32m    102\u001b[0m     \u001b[0mself\u001b[0m\u001b[1;33m.\u001b[0m\u001b[0m_prewrite_check\u001b[0m\u001b[1;33m(\u001b[0m\u001b[1;33m)\u001b[0m\u001b[1;33m\u001b[0m\u001b[1;33m\u001b[0m\u001b[0m\n\u001b[1;32m--> 103\u001b[1;33m     \u001b[0mself\u001b[0m\u001b[1;33m.\u001b[0m\u001b[0m_writable_file\u001b[0m\u001b[1;33m.\u001b[0m\u001b[0mappend\u001b[0m\u001b[1;33m(\u001b[0m\u001b[0mcompat\u001b[0m\u001b[1;33m.\u001b[0m\u001b[0mas_bytes\u001b[0m\u001b[1;33m(\u001b[0m\u001b[0mfile_content\u001b[0m\u001b[1;33m)\u001b[0m\u001b[1;33m)\u001b[0m\u001b[1;33m\u001b[0m\u001b[1;33m\u001b[0m\u001b[0m\n\u001b[0m\u001b[0;32m    104\u001b[0m \u001b[1;33m\u001b[0m\u001b[0m\n\u001b[0;32m    105\u001b[0m   \u001b[1;32mdef\u001b[0m \u001b[0mread\u001b[0m\u001b[1;33m(\u001b[0m\u001b[0mself\u001b[0m\u001b[1;33m,\u001b[0m \u001b[0mn\u001b[0m\u001b[1;33m=\u001b[0m\u001b[1;33m-\u001b[0m\u001b[1;36m1\u001b[0m\u001b[1;33m)\u001b[0m\u001b[1;33m:\u001b[0m\u001b[1;33m\u001b[0m\u001b[1;33m\u001b[0m\u001b[0m\n",
      "\u001b[1;31mUnknownError\u001b[0m: Failed to WriteFile: .\\untitled_project\\trial_1d7fdf6383509797bf728adad384d056\\trial.json : There is not enough space on the disk.\r\n; operation in progress"
     ]
    }
   ],
   "source": [
    "tuner.search(train_set, epochs=100, validation_data=test_set, callbacks=[stop_early])\n",
    "\n",
    "best_hps= tuner.get_best_hyperparameters(num_trials=1)[0]\n",
    "print(best_hps)"
   ]
  },
  {
   "source": [
    "# Trial 5 Complete [00h 03m 30s]\n",
    "# val_accuracy: 0.2395833283662796\n",
    "\n",
    "# Best val_accuracy So Far: 0.2534722089767456\n",
    "# Total elapsed time: 00h 55m 20s\n",
    "\n",
    "# Search: Running Trial #6\n",
    "\n",
    "# Hyperparameter    |Value             |Best Value So Far \n",
    "# emb_units         |48                |32                \n",
    "# bid1_units        |240               |112               \n",
    "# drop1_frac        |0.6               |0.3               \n",
    "# bid2_units        |176               |112               \n",
    "# drop2_frac        |0.4               |0.4               \n",
    "# dense1_unit       |176               |112               \n",
    "# drop3_frac        |0.7               |0.4               \n",
    "# dense2_unit       |144               |224               \n",
    "# learning_rate     |1e-05             |0.01              \n",
    "# tuner/epochs      |2                 |2                 \n",
    "# tuner/initial_e...|0                 |0                 \n",
    "# tuner/bracket     |2                 |2                 \n",
    "# tuner/round       |0                 |0                 \n",
    "\n",
    "# Epoch 1/2\n",
    "# 72/72 [==============================] - 618s 8s/step - loss: 0.6918 - accuracy: 0.0573 - val_loss: 0.6889 - val_accuracy: 0.0625\n",
    "# Epoch 2/2\n",
    "# 72/72 [==============================] - 623s 9s/step - loss: 0.6846 - accuracy: 0.0760 - val_loss: 0.6749 - val_accuracy: 0.0521"
   ],
   "cell_type": "code",
   "metadata": {},
   "execution_count": null,
   "outputs": []
  },
  {
   "cell_type": "code",
   "execution_count": null,
   "metadata": {},
   "outputs": [],
   "source": []
  }
 ]
}